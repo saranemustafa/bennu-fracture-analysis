{
 "cells": [
  {
   "cell_type": "markdown",
   "metadata": {},
   "source": [
    "## 4 - Brightness Analysis\n",
    "## Table of Contents\n",
    "<ul>\n",
    "<li><a href=\"#1\">Crop, Mask, Threshold and Median</a></li>\n",
    "<li><a href=\"#2\">Calculate Median Brightness of Segments</a></li>\n",
    "<li><a href=\"#3\">Calculate Brightness of Fractures</a></li>\n",
    "<li><a href=\"#4\">Histogram of Segment Count vs Brightness</a></li>\n",
    "</ul>"
   ]
  },
  {
   "cell_type": "code",
   "execution_count": 1,
   "metadata": {},
   "outputs": [],
   "source": [
    "import pandas as pd\n",
    "import matplotlib.pyplot as plt\n",
    "import cv2\n",
    "import numpy as np"
   ]
  },
  {
   "cell_type": "code",
   "execution_count": 2,
   "metadata": {},
   "outputs": [
    {
     "data": {
      "text/html": [
       "<div>\n",
       "<style scoped>\n",
       "    .dataframe tbody tr th:only-of-type {\n",
       "        vertical-align: middle;\n",
       "    }\n",
       "\n",
       "    .dataframe tbody tr th {\n",
       "        vertical-align: top;\n",
       "    }\n",
       "\n",
       "    .dataframe thead th {\n",
       "        text-align: right;\n",
       "    }\n",
       "</style>\n",
       "<table border=\"1\" class=\"dataframe\">\n",
       "  <thead>\n",
       "    <tr style=\"text-align: right;\">\n",
       "      <th></th>\n",
       "      <th>fracture_id</th>\n",
       "      <th>segment_id</th>\n",
       "      <th>X1</th>\n",
       "      <th>Y1</th>\n",
       "      <th>X2</th>\n",
       "      <th>Y2</th>\n",
       "      <th>delta_X</th>\n",
       "      <th>delta_Y</th>\n",
       "      <th>segment_size</th>\n",
       "      <th>angle_radian</th>\n",
       "      <th>angle_degree</th>\n",
       "    </tr>\n",
       "  </thead>\n",
       "  <tbody>\n",
       "    <tr>\n",
       "      <th>0</th>\n",
       "      <td>1528</td>\n",
       "      <td>1528_2</td>\n",
       "      <td>14880.257</td>\n",
       "      <td>8797.5608</td>\n",
       "      <td>14890.307</td>\n",
       "      <td>8777.9108</td>\n",
       "      <td>10.050</td>\n",
       "      <td>-19.6500</td>\n",
       "      <td>22.070908</td>\n",
       "      <td>2.043562</td>\n",
       "      <td>117.087491</td>\n",
       "    </tr>\n",
       "    <tr>\n",
       "      <th>1</th>\n",
       "      <td>1528</td>\n",
       "      <td>1528_1</td>\n",
       "      <td>14872.006</td>\n",
       "      <td>8806.2608</td>\n",
       "      <td>14880.257</td>\n",
       "      <td>8797.5608</td>\n",
       "      <td>8.251</td>\n",
       "      <td>-8.7000</td>\n",
       "      <td>11.990371</td>\n",
       "      <td>2.329713</td>\n",
       "      <td>133.482698</td>\n",
       "    </tr>\n",
       "    <tr>\n",
       "      <th>2</th>\n",
       "      <td>1527</td>\n",
       "      <td>1527_4</td>\n",
       "      <td>20349.119</td>\n",
       "      <td>3322.3508</td>\n",
       "      <td>20357.025</td>\n",
       "      <td>3323.7462</td>\n",
       "      <td>7.906</td>\n",
       "      <td>1.3954</td>\n",
       "      <td>8.028199</td>\n",
       "      <td>0.174700</td>\n",
       "      <td>10.009551</td>\n",
       "    </tr>\n",
       "    <tr>\n",
       "      <th>3</th>\n",
       "      <td>1527</td>\n",
       "      <td>1527_3</td>\n",
       "      <td>20350.282</td>\n",
       "      <td>3311.8852</td>\n",
       "      <td>20349.119</td>\n",
       "      <td>3322.3508</td>\n",
       "      <td>-1.163</td>\n",
       "      <td>10.4656</td>\n",
       "      <td>10.530021</td>\n",
       "      <td>1.681468</td>\n",
       "      <td>96.341033</td>\n",
       "    </tr>\n",
       "    <tr>\n",
       "      <th>4</th>\n",
       "      <td>1527</td>\n",
       "      <td>1527_2</td>\n",
       "      <td>20338.188</td>\n",
       "      <td>3311.4201</td>\n",
       "      <td>20350.282</td>\n",
       "      <td>3311.8852</td>\n",
       "      <td>12.094</td>\n",
       "      <td>0.4651</td>\n",
       "      <td>12.102940</td>\n",
       "      <td>0.038438</td>\n",
       "      <td>2.202343</td>\n",
       "    </tr>\n",
       "  </tbody>\n",
       "</table>\n",
       "</div>"
      ],
      "text/plain": [
       "   fracture_id segment_id         X1         Y1         X2         Y2  \\\n",
       "0         1528     1528_2  14880.257  8797.5608  14890.307  8777.9108   \n",
       "1         1528     1528_1  14872.006  8806.2608  14880.257  8797.5608   \n",
       "2         1527     1527_4  20349.119  3322.3508  20357.025  3323.7462   \n",
       "3         1527     1527_3  20350.282  3311.8852  20349.119  3322.3508   \n",
       "4         1527     1527_2  20338.188  3311.4201  20350.282  3311.8852   \n",
       "\n",
       "   delta_X  delta_Y  segment_size  angle_radian  angle_degree  \n",
       "0   10.050 -19.6500     22.070908      2.043562    117.087491  \n",
       "1    8.251  -8.7000     11.990371      2.329713    133.482698  \n",
       "2    7.906   1.3954      8.028199      0.174700     10.009551  \n",
       "3   -1.163  10.4656     10.530021      1.681468     96.341033  \n",
       "4   12.094   0.4651     12.102940      0.038438      2.202343  "
      ]
     },
     "execution_count": 2,
     "metadata": {},
     "output_type": "execute_result"
    }
   ],
   "source": [
    "df_segments = pd.read_csv(\"./output/df_segments_2.csv\")\n",
    "\n",
    "df_segments.head()"
   ]
  },
  {
   "cell_type": "code",
   "execution_count": 3,
   "metadata": {},
   "outputs": [],
   "source": [
    "# Reading the image grayscale\n",
    "image = cv2.imread('Global_20190321_ShapeV20_200kfacets_FB3.png', cv2.IMREAD_GRAYSCALE)\n",
    "\n",
    "image = cv2.flip(image, 0)"
   ]
  },
  {
   "cell_type": "markdown",
   "metadata": {},
   "source": [
    "<a id='1'></a>\n",
    "## Crop, Mask, Threshold and Median"
   ]
  },
  {
   "cell_type": "code",
   "execution_count": 4,
   "metadata": {},
   "outputs": [],
   "source": [
    "df_segments[\"median_brightness\"] = None"
   ]
  },
  {
   "cell_type": "code",
   "execution_count": 5,
   "metadata": {},
   "outputs": [],
   "source": [
    "def crop_mask_median(index, plot = False, remove_shadow = False, threshold = 40):\n",
    "\n",
    "    X1, X2, Y1, Y2 = int(df_segments['X1'][index]), int(df_segments['X2'][index]), int(\n",
    "        df_segments['Y1'][index]), int(df_segments['Y2'][index])\n",
    "\n",
    "    center_coordinates = (int((X1+X2)/2), int((Y1+Y2)/2))\n",
    "    x, y = center_coordinates[0], center_coordinates[1]\n",
    "\n",
    "    radius = int(df_segments['segment_size'][index]/2)\n",
    "\n",
    "    # if the segment size is too small (less than 1 pixel, round it to 1) there are only 11 segments like that so it will not impact the result\n",
    "    if radius < 1:\n",
    "        radius = 1\n",
    "\n",
    "    cropped_image = np.zeros((radius*2, radius*2), np.uint8)\n",
    "    \n",
    "    # crop the image\n",
    "    cropped_image = image[(y-radius):(y+radius), (x-radius):(x+radius)]\n",
    "\n",
    "    # create mask\n",
    "    mask = np.zeros((radius*2, radius*2), np.uint8)\n",
    "    cv2.circle(mask, (radius, radius), radius, radius, -1)\n",
    "\n",
    "    # apply mask\n",
    "    masked = cv2.bitwise_and(cropped_image, cropped_image, mask=mask)\n",
    "\n",
    "    # converting the mask values to boolean values\n",
    "    mask_bool = mask.astype(bool)\n",
    "\n",
    "    # index mask with these boolean values to extract only the pixels under the mask, save it into an array\n",
    "    masked_pixels = cropped_image[mask_bool]\n",
    "    \n",
    "    #print(\"Before thresholding\")\n",
    "    #print(\"mean:\", masked_pixels.mean())\n",
    "    #print(\"median:\", np.median(masked_pixels))\n",
    "\n",
    "    # apply thresholding to remove the shadows, if remove_shadow is True\n",
    "    masked_unshadowed = np.copy(masked)\n",
    "    if remove_shadow == True:\n",
    "        \n",
    "        masked_unshadowed[masked_unshadowed < threshold] = 225\n",
    "        masked_pixels = masked_pixels[masked_pixels > threshold]\n",
    "\n",
    "        #print(\"After thresholding\")\n",
    "        #print(\"mean:\", masked_pixels.mean())\n",
    "        #print(\"median:\", np.median(masked_pixels))\n",
    "\n",
    "        if masked_pixels.size == 0:\n",
    "            masked_pixels = threshold\n",
    "\n",
    "    # calculate median value\n",
    "    median_value = np.median(masked_pixels)\n",
    "\n",
    "    # rest of the code is for plotting the figures\n",
    "    if plot == True:    \n",
    "        # create figure\n",
    "        fig = plt.figure(figsize=(10, 7))   \n",
    "        # setting values to rows and column for subplots\n",
    "        rows = 2\n",
    "        columns = 2 \n",
    "        fig.add_subplot(rows, columns, 1)   \n",
    "        plt.imshow(cropped_image, cmap=\"gray\")\n",
    "        plt.axis('off')\n",
    "        plt.title(\"Cropped Image\")  \n",
    "        fig.add_subplot(rows, columns, 2)   \n",
    "        plt.imshow(mask, cmap=\"gray\")\n",
    "        plt.axis('off')\n",
    "        plt.title(\"Mask\")   \n",
    "        fig.add_subplot(rows, columns, 3)   \n",
    "        plt.imshow(masked, cmap=\"gray\")\n",
    "        plt.axis('off')\n",
    "        plt.title(\"Masked\") \n",
    "        if remove_shadow == True:\n",
    "            fig.add_subplot(rows, columns, 4)\n",
    "            plt.imshow(masked_unshadowed, cmap=\"gray\")\n",
    "            plt.axis('off')\n",
    "            plt.title(\"Thresholding to Remove Shadow\")  \n",
    "        plt.show()  \n",
    "    return median_value"
   ]
  },
  {
   "cell_type": "code",
   "execution_count": 6,
   "metadata": {},
   "outputs": [
    {
     "data": {
      "image/png": "[encoded data removed]",
      "text/plain": [
       "<Figure size 720x504 with 4 Axes>"
      ]
     },
     "metadata": {
      "needs_background": "light"
     },
     "output_type": "display_data"
    },
    {
     "data": {
      "text/plain": [
       "165.0"
      ]
     },
     "execution_count": 6,
     "metadata": {},
     "output_type": "execute_result"
    }
   ],
   "source": [
    "crop_mask_median(3243, plot = True, remove_shadow = True, threshold = 40)"
   ]
  },
  {
   "cell_type": "markdown",
   "metadata": {},
   "source": [
    "The idea here is to draw a circle that will surround the segment (the segment will be the diameter of the circle) and calculate the median brightness of the pixels that are inside the circle.\n",
    "Above function will:\n",
    "<ol type=\"1\">\n",
    "    <li>Crops the square area from the original image that circumscribes the circle</li>\n",
    "    <li>Creates a mask which will be same size with the cropped image, draw the cricle</li>\n",
    "    <li>Apply bitwise AND between the cropped image and mask (This is to display how the masked image will look like)</li>\n",
    "    <li>Convert the mask to a boolean mask and index the cropped image with the boolean mask, save it to an array. So that we will only store the pixels values under the mask (ROI)</li>\n",
    "    <li>Apply np.median() function to calculate the median value of all the pixels under the mask, which will tell us the median brigtness of ROI</li>\n",
    "</ol> "
   ]
  },
  {
   "cell_type": "markdown",
   "metadata": {},
   "source": [
    "<a id='2'></a>\n",
    "## Calculate Median Brightness of Segments"
   ]
  },
  {
   "cell_type": "code",
   "execution_count": 7,
   "metadata": {},
   "outputs": [
    {
     "data": {
      "text/html": [
       "<div>\n",
       "<style scoped>\n",
       "    .dataframe tbody tr th:only-of-type {\n",
       "        vertical-align: middle;\n",
       "    }\n",
       "\n",
       "    .dataframe tbody tr th {\n",
       "        vertical-align: top;\n",
       "    }\n",
       "\n",
       "    .dataframe thead th {\n",
       "        text-align: right;\n",
       "    }\n",
       "</style>\n",
       "<table border=\"1\" class=\"dataframe\">\n",
       "  <thead>\n",
       "    <tr style=\"text-align: right;\">\n",
       "      <th></th>\n",
       "      <th>fracture_id</th>\n",
       "      <th>segment_id</th>\n",
       "      <th>X1</th>\n",
       "      <th>Y1</th>\n",
       "      <th>X2</th>\n",
       "      <th>Y2</th>\n",
       "      <th>delta_X</th>\n",
       "      <th>delta_Y</th>\n",
       "      <th>segment_size</th>\n",
       "      <th>angle_radian</th>\n",
       "      <th>angle_degree</th>\n",
       "      <th>median_brightness</th>\n",
       "    </tr>\n",
       "  </thead>\n",
       "  <tbody>\n",
       "    <tr>\n",
       "      <th>0</th>\n",
       "      <td>1528</td>\n",
       "      <td>1528_2</td>\n",
       "      <td>14880.257</td>\n",
       "      <td>8797.5608</td>\n",
       "      <td>14890.307</td>\n",
       "      <td>8777.9108</td>\n",
       "      <td>10.050</td>\n",
       "      <td>-19.6500</td>\n",
       "      <td>22.070908</td>\n",
       "      <td>2.043562</td>\n",
       "      <td>117.087491</td>\n",
       "      <td>155.0</td>\n",
       "    </tr>\n",
       "    <tr>\n",
       "      <th>1</th>\n",
       "      <td>1528</td>\n",
       "      <td>1528_1</td>\n",
       "      <td>14872.006</td>\n",
       "      <td>8806.2608</td>\n",
       "      <td>14880.257</td>\n",
       "      <td>8797.5608</td>\n",
       "      <td>8.251</td>\n",
       "      <td>-8.7000</td>\n",
       "      <td>11.990371</td>\n",
       "      <td>2.329713</td>\n",
       "      <td>133.482698</td>\n",
       "      <td>94.0</td>\n",
       "    </tr>\n",
       "    <tr>\n",
       "      <th>2</th>\n",
       "      <td>1527</td>\n",
       "      <td>1527_4</td>\n",
       "      <td>20349.119</td>\n",
       "      <td>3322.3508</td>\n",
       "      <td>20357.025</td>\n",
       "      <td>3323.7462</td>\n",
       "      <td>7.906</td>\n",
       "      <td>1.3954</td>\n",
       "      <td>8.028199</td>\n",
       "      <td>0.174700</td>\n",
       "      <td>10.009551</td>\n",
       "      <td>196.0</td>\n",
       "    </tr>\n",
       "    <tr>\n",
       "      <th>3</th>\n",
       "      <td>1527</td>\n",
       "      <td>1527_3</td>\n",
       "      <td>20350.282</td>\n",
       "      <td>3311.8852</td>\n",
       "      <td>20349.119</td>\n",
       "      <td>3322.3508</td>\n",
       "      <td>-1.163</td>\n",
       "      <td>10.4656</td>\n",
       "      <td>10.530021</td>\n",
       "      <td>1.681468</td>\n",
       "      <td>96.341033</td>\n",
       "      <td>182.0</td>\n",
       "    </tr>\n",
       "    <tr>\n",
       "      <th>4</th>\n",
       "      <td>1527</td>\n",
       "      <td>1527_2</td>\n",
       "      <td>20338.188</td>\n",
       "      <td>3311.4201</td>\n",
       "      <td>20350.282</td>\n",
       "      <td>3311.8852</td>\n",
       "      <td>12.094</td>\n",
       "      <td>0.4651</td>\n",
       "      <td>12.102940</td>\n",
       "      <td>0.038438</td>\n",
       "      <td>2.202343</td>\n",
       "      <td>212.0</td>\n",
       "    </tr>\n",
       "  </tbody>\n",
       "</table>\n",
       "</div>"
      ],
      "text/plain": [
       "   fracture_id segment_id         X1         Y1         X2         Y2  \\\n",
       "0         1528     1528_2  14880.257  8797.5608  14890.307  8777.9108   \n",
       "1         1528     1528_1  14872.006  8806.2608  14880.257  8797.5608   \n",
       "2         1527     1527_4  20349.119  3322.3508  20357.025  3323.7462   \n",
       "3         1527     1527_3  20350.282  3311.8852  20349.119  3322.3508   \n",
       "4         1527     1527_2  20338.188  3311.4201  20350.282  3311.8852   \n",
       "\n",
       "   delta_X  delta_Y  segment_size  angle_radian  angle_degree  \\\n",
       "0   10.050 -19.6500     22.070908      2.043562    117.087491   \n",
       "1    8.251  -8.7000     11.990371      2.329713    133.482698   \n",
       "2    7.906   1.3954      8.028199      0.174700     10.009551   \n",
       "3   -1.163  10.4656     10.530021      1.681468     96.341033   \n",
       "4   12.094   0.4651     12.102940      0.038438      2.202343   \n",
       "\n",
       "  median_brightness  \n",
       "0             155.0  \n",
       "1              94.0  \n",
       "2             196.0  \n",
       "3             182.0  \n",
       "4             212.0  "
      ]
     },
     "execution_count": 7,
     "metadata": {},
     "output_type": "execute_result"
    }
   ],
   "source": [
    "# Iterate over the dataframe to apply the function for each row (segment) save it into the new column named 'median_brightness'\n",
    "from cv2 import threshold\n",
    "\n",
    "for index, row in df_segments.iterrows():\n",
    "    median_value = crop_mask_median(index, plot = False, remove_shadow = True, threshold = 40)\n",
    "    \n",
    "    df_segments.loc[index, \"median_brightness\"] = median_value\n",
    "\n",
    "df_segments.head()"
   ]
  },
  {
   "cell_type": "code",
   "execution_count": 8,
   "metadata": {},
   "outputs": [],
   "source": [
    "# save dataframe to csv\n",
    "df_segments.to_csv('./output/df_segments_3.csv', index=False)"
   ]
  },
  {
   "cell_type": "code",
   "execution_count": 9,
   "metadata": {},
   "outputs": [],
   "source": [
    "image = cv2.imread('Global_20190321_ShapeV20_200kfacets_FB3.png')\n",
    "image = cv2.flip(image, 0)"
   ]
  },
  {
   "cell_type": "code",
   "execution_count": 10,
   "metadata": {},
   "outputs": [
    {
     "data": {
      "text/plain": [
       "True"
      ]
     },
     "execution_count": 10,
     "metadata": {},
     "output_type": "execute_result"
    }
   ],
   "source": [
    "# Draw lines, circles and brightness labels\n",
    "for index, row in df_segments.iterrows():\n",
    "\n",
    "    X1, Y1, X2, Y2 = int(row['X1']), int(\n",
    "        row['Y1']), int(row['X2']), int(row['Y2'])\n",
    "\n",
    "    start_point = (X1, Y1)\n",
    "    end_point = (X2, Y2)\n",
    "\n",
    "    # Green color in BGR\n",
    "    line_color = (0, 255, 0)\n",
    "\n",
    "    # Blue color in BGR\n",
    "    circle_color = (255, 0, 0)\n",
    "\n",
    "    # Line thickness\n",
    "    thickness = 1\n",
    "\n",
    "    center_coordinates = (int((X1+X2)/2), int((Y1+Y2)/2))\n",
    "\n",
    "    radius = int(df_segments['segment_size'][index]/2)\n",
    "\n",
    "    # draw the lines\n",
    "    image = cv2.line(image, start_point, end_point, line_color, thickness)\n",
    "\n",
    "    # draw the circles\n",
    "    image = cv2.circle(image, center_coordinates, radius, circle_color, thickness)\n",
    "\n",
    "    median_brightness = str(int(row['median_brightness']))\n",
    "\n",
    "    label_brightness = np.zeros((11, 24, 3), np.uint8)\n",
    "    # White color in BGR\n",
    "    text_color = (255, 255, 255)\n",
    "    # font\n",
    "    font = cv2.FONT_HERSHEY_SIMPLEX\n",
    "    # fontScale\n",
    "    fontScale = 0.4\n",
    "    # Using cv2.putText() method\n",
    "    label_brightness = cv2.putText(\n",
    "        label_brightness, median_brightness, (0, 9), font, fontScale, text_color)\n",
    "\n",
    "    label_brightness = cv2.flip(label_brightness, 0)\n",
    "\n",
    "    x, y = center_coordinates[0], center_coordinates[1]\n",
    "    h, w = label_brightness.shape[:2]\n",
    "    image[y:y+h, x:x+w] = label_brightness\n",
    "\n",
    "image = cv2.flip(image, 0)\n",
    "\n",
    "cv2.imwrite('./output/bennu_brightness.jpg', image, [cv2.IMWRITE_JPEG_QUALITY, 100])"
   ]
  },
  {
   "cell_type": "markdown",
   "metadata": {},
   "source": [
    "### Samples from the Output\n",
    "<img src=\"in_cell_images/median1.png\">\n",
    "<img src=\"in_cell_images/median2.png\">"
   ]
  },
  {
   "cell_type": "markdown",
   "metadata": {},
   "source": [
    "<a id='3'></a>\n",
    "## Calculate Brightness of Fractures"
   ]
  },
  {
   "cell_type": "markdown",
   "metadata": {},
   "source": [
    "As we now have the median brightness of each indivulal segment that composes a fracture, we can now calculate the avarage brightness of each fracture.\n",
    "\n",
    "We will calculate a weighted (based on the size of segment) avarage brightness and update the df_fractures."
   ]
  },
  {
   "cell_type": "code",
   "execution_count": 11,
   "metadata": {},
   "outputs": [],
   "source": [
    "df_fractures = pd.read_csv(\"./output/df_fractures_3.csv\")"
   ]
  },
  {
   "cell_type": "code",
   "execution_count": 12,
   "metadata": {},
   "outputs": [],
   "source": [
    "for index, row in df_fractures.iterrows():\n",
    "    fracture_id = row['fracture_id']\n",
    "\n",
    "    total_size = df_segments[df_segments.fracture_id ==\n",
    "                             fracture_id].segment_size.sum()\n",
    "\n",
    "    # just to fix one fracture (false annotation)\n",
    "    if total_size < 1:\n",
    "        total_size = 1\n",
    "\n",
    "    total_weighted = 0\n",
    "    for index, row in df_segments[df_segments.fracture_id == fracture_id].iterrows():\n",
    "        weighted = row['segment_size']*row['median_brightness']\n",
    "        total_weighted += weighted\n",
    "\n",
    "    weighted_average_brightness = total_weighted/total_size\n",
    "\n",
    "    df_fractures.loc[df_fractures.fracture_id == fracture_id,\n",
    "                     'w_average_brightness'] = weighted_average_brightness\n"
   ]
  },
  {
   "cell_type": "code",
   "execution_count": 13,
   "metadata": {},
   "outputs": [
    {
     "data": {
      "text/html": [
       "<div>\n",
       "<style scoped>\n",
       "    .dataframe tbody tr th:only-of-type {\n",
       "        vertical-align: middle;\n",
       "    }\n",
       "\n",
       "    .dataframe tbody tr th {\n",
       "        vertical-align: top;\n",
       "    }\n",
       "\n",
       "    .dataframe thead th {\n",
       "        text-align: right;\n",
       "    }\n",
       "</style>\n",
       "<table border=\"1\" class=\"dataframe\">\n",
       "  <thead>\n",
       "    <tr style=\"text-align: right;\">\n",
       "      <th></th>\n",
       "      <th>fracture_id</th>\n",
       "      <th>segments</th>\n",
       "      <th>segments_color</th>\n",
       "      <th>segments_width</th>\n",
       "      <th>Xmin</th>\n",
       "      <th>Xmax</th>\n",
       "      <th>Ymin</th>\n",
       "      <th>Ymax</th>\n",
       "      <th>fracture_height</th>\n",
       "      <th>fracture_length</th>\n",
       "      <th>fracture_direction</th>\n",
       "      <th>total_size</th>\n",
       "      <th>w_average_angle_degree</th>\n",
       "      <th>w_average_brightness</th>\n",
       "    </tr>\n",
       "  </thead>\n",
       "  <tbody>\n",
       "    <tr>\n",
       "      <th>0</th>\n",
       "      <td>0</td>\n",
       "      <td>2799.9979,2886.5779,2715.0032,2797.5709,2704.0...</td>\n",
       "      <td>yellow</td>\n",
       "      <td>3</td>\n",
       "      <td>2704.0042</td>\n",
       "      <td>2799.9979</td>\n",
       "      <td>2726.5764</td>\n",
       "      <td>2886.5779</td>\n",
       "      <td>160.0015</td>\n",
       "      <td>95.9937</td>\n",
       "      <td>Vertical</td>\n",
       "      <td>194.911960</td>\n",
       "      <td>59.174355</td>\n",
       "      <td>164.262832</td>\n",
       "    </tr>\n",
       "    <tr>\n",
       "      <th>1</th>\n",
       "      <td>1</td>\n",
       "      <td>2857.0003,2830.5703,2759.9982,2772.5739,2755.0...</td>\n",
       "      <td>blue</td>\n",
       "      <td>3</td>\n",
       "      <td>2755.0029</td>\n",
       "      <td>2857.0003</td>\n",
       "      <td>2736.5771</td>\n",
       "      <td>2830.5703</td>\n",
       "      <td>93.9932</td>\n",
       "      <td>101.9974</td>\n",
       "      <td>Horizontal</td>\n",
       "      <td>149.359400</td>\n",
       "      <td>43.338584</td>\n",
       "      <td>155.376969</td>\n",
       "    </tr>\n",
       "    <tr>\n",
       "      <th>2</th>\n",
       "      <td>2</td>\n",
       "      <td>2612.9964,2824.5755,2708.7733,2805.8089</td>\n",
       "      <td>blue</td>\n",
       "      <td>3</td>\n",
       "      <td>2612.9964</td>\n",
       "      <td>2708.7733</td>\n",
       "      <td>2805.8089</td>\n",
       "      <td>2824.5755</td>\n",
       "      <td>18.7666</td>\n",
       "      <td>95.7769</td>\n",
       "      <td>Horizontal</td>\n",
       "      <td>97.598155</td>\n",
       "      <td>168.913872</td>\n",
       "      <td>152.000000</td>\n",
       "    </tr>\n",
       "    <tr>\n",
       "      <th>3</th>\n",
       "      <td>3</td>\n",
       "      <td>2655.0037,2794.5735,2613.9955,2756.5784</td>\n",
       "      <td>blue</td>\n",
       "      <td>3</td>\n",
       "      <td>2613.9955</td>\n",
       "      <td>2655.0037</td>\n",
       "      <td>2756.5784</td>\n",
       "      <td>2794.5735</td>\n",
       "      <td>37.9951</td>\n",
       "      <td>41.0082</td>\n",
       "      <td>Horizontal</td>\n",
       "      <td>55.904383</td>\n",
       "      <td>42.815860</td>\n",
       "      <td>160.000000</td>\n",
       "    </tr>\n",
       "    <tr>\n",
       "      <th>4</th>\n",
       "      <td>4</td>\n",
       "      <td>3004.443,2762.0149,3084.76,2774.2514,3121.4356...</td>\n",
       "      <td>blue</td>\n",
       "      <td>3</td>\n",
       "      <td>3004.4430</td>\n",
       "      <td>3121.4356</td>\n",
       "      <td>2762.0149</td>\n",
       "      <td>2778.0103</td>\n",
       "      <td>15.9954</td>\n",
       "      <td>116.9926</td>\n",
       "      <td>Horizontal</td>\n",
       "      <td>118.111506</td>\n",
       "      <td>7.785202</td>\n",
       "      <td>171.300731</td>\n",
       "    </tr>\n",
       "  </tbody>\n",
       "</table>\n",
       "</div>"
      ],
      "text/plain": [
       "   fracture_id                                           segments  \\\n",
       "0            0  2799.9979,2886.5779,2715.0032,2797.5709,2704.0...   \n",
       "1            1  2857.0003,2830.5703,2759.9982,2772.5739,2755.0...   \n",
       "2            2            2612.9964,2824.5755,2708.7733,2805.8089   \n",
       "3            3            2655.0037,2794.5735,2613.9955,2756.5784   \n",
       "4            4  3004.443,2762.0149,3084.76,2774.2514,3121.4356...   \n",
       "\n",
       "  segments_color  segments_width       Xmin       Xmax       Ymin       Ymax  \\\n",
       "0         yellow               3  2704.0042  2799.9979  2726.5764  2886.5779   \n",
       "1           blue               3  2755.0029  2857.0003  2736.5771  2830.5703   \n",
       "2           blue               3  2612.9964  2708.7733  2805.8089  2824.5755   \n",
       "3           blue               3  2613.9955  2655.0037  2756.5784  2794.5735   \n",
       "4           blue               3  3004.4430  3121.4356  2762.0149  2778.0103   \n",
       "\n",
       "   fracture_height  fracture_length fracture_direction  total_size  \\\n",
       "0         160.0015          95.9937           Vertical  194.911960   \n",
       "1          93.9932         101.9974         Horizontal  149.359400   \n",
       "2          18.7666          95.7769         Horizontal   97.598155   \n",
       "3          37.9951          41.0082         Horizontal   55.904383   \n",
       "4          15.9954         116.9926         Horizontal  118.111506   \n",
       "\n",
       "   w_average_angle_degree  w_average_brightness  \n",
       "0               59.174355            164.262832  \n",
       "1               43.338584            155.376969  \n",
       "2              168.913872            152.000000  \n",
       "3               42.815860            160.000000  \n",
       "4                7.785202            171.300731  "
      ]
     },
     "execution_count": 13,
     "metadata": {},
     "output_type": "execute_result"
    }
   ],
   "source": [
    "df_fractures.head()"
   ]
  },
  {
   "cell_type": "code",
   "execution_count": 14,
   "metadata": {},
   "outputs": [],
   "source": [
    "# save dataframe to csv\n",
    "df_fractures.to_csv('./output/df_fractures_4.csv', index=False)"
   ]
  },
  {
   "cell_type": "markdown",
   "metadata": {},
   "source": [
    "<a id='4'></a>\n",
    "## Histogram of Segment Count vs Brightness"
   ]
  },
  {
   "cell_type": "code",
   "execution_count": 15,
   "metadata": {},
   "outputs": [],
   "source": [
    "number_of_bins = 20"
   ]
  },
  {
   "cell_type": "code",
   "execution_count": 16,
   "metadata": {},
   "outputs": [
    {
     "data": {
      "text/plain": [
       "array([  0.  ,  12.75,  25.5 ,  38.25,  51.  ,  63.75,  76.5 ,  89.25,\n",
       "       102.  , 114.75, 127.5 , 140.25, 153.  , 165.75, 178.5 , 191.25,\n",
       "       204.  , 216.75, 229.5 , 242.25, 255.  ])"
      ]
     },
     "execution_count": 16,
     "metadata": {},
     "output_type": "execute_result"
    }
   ],
   "source": [
    "bin_edges_brightness = np.linspace(0, 255, number_of_bins+1)\n",
    "\n",
    "bin_edges_brightness"
   ]
  },
  {
   "cell_type": "markdown",
   "metadata": {},
   "source": [
    "### Histogram Values"
   ]
  },
  {
   "cell_type": "code",
   "execution_count": 17,
   "metadata": {},
   "outputs": [
    {
     "data": {
      "text/plain": [
       "(0.0, 12.75]         0\n",
       "(12.75, 25.5]        0\n",
       "(25.5, 38.25]        0\n",
       "(38.25, 51.0]        2\n",
       "(51.0, 63.75]        2\n",
       "(63.75, 76.5]        8\n",
       "(76.5, 89.25]       19\n",
       "(89.25, 102.0]      70\n",
       "(102.0, 114.75]    159\n",
       "(114.75, 127.5]    281\n",
       "(127.5, 140.25]    371\n",
       "(140.25, 153.0]    410\n",
       "(153.0, 165.75]    382\n",
       "(165.75, 178.5]    353\n",
       "(178.5, 191.25]    342\n",
       "(191.25, 204.0]    320\n",
       "(204.0, 216.75]    233\n",
       "(216.75, 229.5]    163\n",
       "(229.5, 242.25]     85\n",
       "(242.25, 255.0]     44\n",
       "Name: median_brightness, dtype: int64"
      ]
     },
     "execution_count": 17,
     "metadata": {},
     "output_type": "execute_result"
    }
   ],
   "source": [
    "pd.cut(x=df_segments['median_brightness'], bins=bin_edges_brightness).value_counts().sort_index()"
   ]
  },
  {
   "cell_type": "markdown",
   "metadata": {},
   "source": [
    "### Bar Histogram"
   ]
  },
  {
   "cell_type": "code",
   "execution_count": 18,
   "metadata": {},
   "outputs": [
    {
     "data": {
      "image/png": "[encoded data removed]",
      "text/plain": [
       "<Figure size 576x432 with 1 Axes>"
      ]
     },
     "metadata": {
      "needs_background": "light"
     },
     "output_type": "display_data"
    }
   ],
   "source": [
    "plt.figure(figsize=(8, 6))\n",
    "\n",
    "ax = pd.cut(x=df_segments['median_brightness'], bins=bin_edges_brightness).value_counts().sort_index().plot(kind='bar', width=1.0, alpha=0.5, ec='black')\n",
    "\n",
    "plt.grid(axis='y', alpha=0.75)\n",
    "\n",
    "# set chart title\n",
    "ax.set_title('Histogram of Brightness')\n",
    "# set x, y axes labels\n",
    "ax.set_xlabel(\"Brightness\")\n",
    "ax.set_ylabel(\"Segment Count\")\n",
    "\n",
    "plt.show()"
   ]
  }
 ],
 "metadata": {
  "kernelspec": {
   "display_name": "Python 3.9.12 ('base')",
   "language": "python",
   "name": "python3"
  },
  "language_info": {
   "codemirror_mode": {
    "name": "ipython",
    "version": 3
   },
   "file_extension": ".py",
   "mimetype": "text/x-python",
   "name": "python",
   "nbconvert_exporter": "python",
   "pygments_lexer": "ipython3",
   "version": "3.9.12"
  },
  "orig_nbformat": 4,
  "vscode": {
   "interpreter": {
    "hash": "ef70cde2d7a4c5f354efcdde45384ddb4bf187cd73ff85a7fdd1b636e19ca19d"
   }
  }
 },
 "nbformat": 4,
 "nbformat_minor": 2
}

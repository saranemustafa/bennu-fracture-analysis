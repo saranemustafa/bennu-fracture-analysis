{
 "cells": [
  {
   "cell_type": "markdown",
   "metadata": {},
   "source": [
    "## 9 - DBSCAN Clustering\n",
    "## Table of Contents\n",
    "<ul>\n",
    "<li><a href=\"#1\">Extracting Feature Vectors</a></li>\n",
    "<li><a href=\"#2\">Prepare data for DBSCAN</a></li>\n",
    "<li><a href=\"#2\">Implement DBSCAN clustering</a></li>\n",
    "</ul>"
   ]
  },
  {
   "cell_type": "code",
   "execution_count": null,
   "metadata": {},
   "outputs": [],
   "source": [
    "import pandas as pd\n",
    "import numpy as np\n",
    "import matplotlib.pyplot as plt\n",
    "import cv2\n",
    "from sklearn.cluster import DBSCAN\n",
    "from sklearn.metrics import silhouette_score"
   ]
  },
  {
   "cell_type": "code",
   "execution_count": null,
   "metadata": {},
   "outputs": [],
   "source": [
    "df_fractures = pd.read_csv(\"./output/df_fractures_4.csv\")\n",
    "\n",
    "df_fractures.head()"
   ]
  },
  {
   "cell_type": "code",
   "execution_count": null,
   "metadata": {},
   "outputs": [],
   "source": [
    "# Reading the image grayscale\n",
    "image = cv2.imread('Global_20190321_ShapeV20_200kfacets_FB3.png', cv2.IMREAD_GRAYSCALE)\n",
    "\n",
    "image = cv2.flip(image, 0)"
   ]
  },
  {
   "cell_type": "markdown",
   "metadata": {},
   "source": [
    "<a id='1'></a>\n",
    "### Extracting Feature Vectors"
   ]
  },
  {
   "cell_type": "code",
   "execution_count": null,
   "metadata": {},
   "outputs": [],
   "source": [
    "def crop_hist(index, plot=False):\n",
    "\n",
    "    Xmin, Xmax, Ymin, Ymax = int(df_fractures['Xmin'][index]), int(df_fractures['Xmax'][index]), int(df_fractures['Ymin'][index]), int(df_fractures['Ymax'][index])\n",
    "\n",
    "    # Extending the frame 5 pixels if the fracture is completely horizontal or vertical\n",
    "    fracture_height = int(df_fractures['fracture_height'][index])\n",
    "    fracture_length = int(df_fractures['fracture_length'][index])\n",
    "\n",
    "    if fracture_height < 1:\n",
    "        Ymin = Ymin - 5\n",
    "        Ymax = Ymax + 5\n",
    "\n",
    "    if fracture_length < 1:\n",
    "        Xmin = Xmin - 5\n",
    "        Xmax = Xmax + 5\n",
    "\n",
    "    cropped_image = image[Ymin:Ymax, Xmin:Xmax]\n",
    "\n",
    "    number_of_bins = 10\n",
    "    hist_values = np.histogram(cropped_image.ravel(), number_of_bins, [0, 256], density=True)[0]\n",
    "\n",
    "    if plot == True:\n",
    "\n",
    "        fig = plt.figure(figsize=(9, 3))\n",
    "\n",
    "        rows, columns = 1, 3\n",
    "\n",
    "        fig.add_subplot(rows, columns, 1)\n",
    "\n",
    "        plt.imshow(cropped_image, cmap=\"gray\")\n",
    "        plt.axis('off')\n",
    "        plt.title(\"Cropped Image\")\n",
    "\n",
    "        fig.add_subplot(rows, columns, 2)\n",
    "\n",
    "        plt.hist(cropped_image.ravel(), number_of_bins, [0, 256])\n",
    "        plt.title(\"Histogram\")\n",
    "\n",
    "        fig.add_subplot(rows, columns, 3)\n",
    "\n",
    "        plt.hist(cropped_image.ravel(), number_of_bins,\n",
    "                 [0, 256], density=True, color=\"black\")\n",
    "        plt.title(\"Normalised Histogram\")\n",
    "\n",
    "        fig.tight_layout()\n",
    "        plt.show()\n",
    "\n",
    "    return hist_values"
   ]
  },
  {
   "cell_type": "code",
   "execution_count": null,
   "metadata": {},
   "outputs": [],
   "source": [
    "crop_hist(1357, plot = True)"
   ]
  },
  {
   "cell_type": "markdown",
   "metadata": {},
   "source": [
    "<a id='2'></a>\n",
    "### Prepare data for DBSCAN"
   ]
  },
  {
   "cell_type": "code",
   "execution_count": null,
   "metadata": {},
   "outputs": [],
   "source": [
    "# creating an array to store feature vectors from each fracture image\n",
    "feature_vectors = np.zeros((df_fractures.shape[0],8), dtype='float32')\n",
    "feature_vectors.shape"
   ]
  },
  {
   "cell_type": "code",
   "execution_count": null,
   "metadata": {},
   "outputs": [],
   "source": [
    "# loop all fracture images, extract histogram and save to the 'feature_vectors' array\n",
    "for i in range(df_fractures.shape[0]):\n",
    "    feature_vector = crop_hist(index = i, plot = False)\n",
    "    \n",
    "    # remove first two bin values to threshold the shadows and insert into 'feature_vectors' array\n",
    "    feature_vectors[i, :] = feature_vector[2:]"
   ]
  },
  {
   "cell_type": "markdown",
   "metadata": {},
   "source": [
    "<a id='3'></a>\n",
    "### Implement DBSCAN clustering"
   ]
  },
  {
   "cell_type": "code",
   "execution_count": null,
   "metadata": {},
   "outputs": [],
   "source": [
    "dbscan = DBSCAN(eps=3, min_samples=2).fit(feature_vectors)\n",
    "\n",
    "labels = dbscan.labels_\n",
    "\n",
    "labels"
   ]
  },
  {
   "cell_type": "code",
   "execution_count": null,
   "metadata": {},
   "outputs": [],
   "source": [
    "# assign the labels (the id of the cluster) from kmeans to the dataframe as a new column\n",
    "df_fractures['dbscan_cluster_id'] = dbscan.labels_\n",
    "\n",
    "df_fractures.head()"
   ]
  },
  {
   "cell_type": "code",
   "execution_count": null,
   "metadata": {},
   "outputs": [],
   "source": [
    "df_fractures['dbscan_cluster_id'].value_counts()"
   ]
  },
  {
   "cell_type": "code",
   "execution_count": null,
   "metadata": {},
   "outputs": [],
   "source": [
    "df_fractures.head()"
   ]
  },
  {
   "cell_type": "markdown",
   "metadata": {},
   "source": [
    "### Checking Clusters"
   ]
  },
  {
   "cell_type": "code",
   "execution_count": null,
   "metadata": {},
   "outputs": [],
   "source": [
    "df_fractures.groupby('dbscan_cluster_id').w_average_brightness.agg(['mean', 'count'])"
   ]
  },
  {
   "cell_type": "code",
   "execution_count": null,
   "metadata": {},
   "outputs": [],
   "source": [
    "plt.figure(figsize=(9, 9))\n",
    "\n",
    "df_fractures.groupby('dbscan_cluster_id').w_average_brightness.agg(['mean', 'count']).plot(kind='bar', figsize=(12, 6))\n",
    "\n",
    "plt.show()"
   ]
  },
  {
   "cell_type": "markdown",
   "metadata": {},
   "source": [
    "### Elbow Method"
   ]
  },
  {
   "cell_type": "code",
   "execution_count": null,
   "metadata": {},
   "outputs": [],
   "source": [
    "kmax = 30\n",
    "\n",
    "wcss = []\n",
    "\n",
    "for n in range(1, kmax):\n",
    "    dbscan = DBSCAN(eps=3, min_samples=2).fit(feature_vectors)\n",
    "    wcss.append(dbscan.inertia_)\n"
   ]
  }
 ],
 "metadata": {
  "kernelspec": {
   "display_name": "Python 3.9.12 ('base')",
   "language": "python",
   "name": "python3"
  },
  "language_info": {
   "codemirror_mode": {
    "name": "ipython",
    "version": 3
   },
   "file_extension": ".py",
   "mimetype": "text/x-python",
   "name": "python",
   "nbconvert_exporter": "python",
   "pygments_lexer": "ipython3",
   "version": "3.9.12"
  },
  "orig_nbformat": 4,
  "vscode": {
   "interpreter": {
    "hash": "dab1af28bbead70654a42144e65defa6cd8203d5d0529fd266af3b38ad8044b0"
   }
  }
 },
 "nbformat": 4,
 "nbformat_minor": 2
}

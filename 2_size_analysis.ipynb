{
 "cells": [
  {
   "cell_type": "markdown",
   "metadata": {},
   "source": [
    "## 2 - Size Analysis\n",
    "## Table of Contents\n",
    "<ul>\n",
    "<li><a href=\"#1\">Finding Segments Size</a></li>\n",
    "<li><a href=\"#2\">Finding Fractures Size</a></li>\n",
    "<li><a href=\"#3\">Histogram of Count of Segments vs Size</a></li>\n",
    "</ul>"
   ]
  },
  {
   "cell_type": "code",
   "execution_count": 1,
   "metadata": {},
   "outputs": [],
   "source": [
    "import pandas as pd\n",
    "import math\n",
    "import numpy as np\n",
    "import matplotlib.pyplot as plt"
   ]
  },
  {
   "cell_type": "markdown",
   "metadata": {},
   "source": [
    "<a id='1'></a>\n",
    "## Finding Segments Size"
   ]
  },
  {
   "cell_type": "markdown",
   "metadata": {},
   "source": [
    "### Split Fractures dataset into segments dataset"
   ]
  },
  {
   "cell_type": "code",
   "execution_count": 2,
   "metadata": {},
   "outputs": [
    {
     "data": {
      "text/html": [
       "<div>\n",
       "<style scoped>\n",
       "    .dataframe tbody tr th:only-of-type {\n",
       "        vertical-align: middle;\n",
       "    }\n",
       "\n",
       "    .dataframe tbody tr th {\n",
       "        vertical-align: top;\n",
       "    }\n",
       "\n",
       "    .dataframe thead th {\n",
       "        text-align: right;\n",
       "    }\n",
       "</style>\n",
       "<table border=\"1\" class=\"dataframe\">\n",
       "  <thead>\n",
       "    <tr style=\"text-align: right;\">\n",
       "      <th></th>\n",
       "      <th>fracture_id</th>\n",
       "      <th>segments</th>\n",
       "      <th>segments_color</th>\n",
       "      <th>segments_width</th>\n",
       "      <th>Xmin</th>\n",
       "      <th>Xmax</th>\n",
       "      <th>Ymin</th>\n",
       "      <th>Ymax</th>\n",
       "      <th>fracture_height</th>\n",
       "      <th>fracture_length</th>\n",
       "      <th>fracture_direction</th>\n",
       "    </tr>\n",
       "  </thead>\n",
       "  <tbody>\n",
       "    <tr>\n",
       "      <th>0</th>\n",
       "      <td>0</td>\n",
       "      <td>2799.9979,2886.5779,2715.0032,2797.5709,2704.0...</td>\n",
       "      <td>yellow</td>\n",
       "      <td>3</td>\n",
       "      <td>2704.0042</td>\n",
       "      <td>2799.9979</td>\n",
       "      <td>2726.5764</td>\n",
       "      <td>2886.5779</td>\n",
       "      <td>160.0015</td>\n",
       "      <td>95.9937</td>\n",
       "      <td>Vertical</td>\n",
       "    </tr>\n",
       "    <tr>\n",
       "      <th>1</th>\n",
       "      <td>1</td>\n",
       "      <td>2857.0003,2830.5703,2759.9982,2772.5739,2755.0...</td>\n",
       "      <td>blue</td>\n",
       "      <td>3</td>\n",
       "      <td>2755.0029</td>\n",
       "      <td>2857.0003</td>\n",
       "      <td>2736.5771</td>\n",
       "      <td>2830.5703</td>\n",
       "      <td>93.9932</td>\n",
       "      <td>101.9974</td>\n",
       "      <td>Horizontal</td>\n",
       "    </tr>\n",
       "    <tr>\n",
       "      <th>2</th>\n",
       "      <td>2</td>\n",
       "      <td>2612.9964,2824.5755,2708.7733,2805.8089</td>\n",
       "      <td>blue</td>\n",
       "      <td>3</td>\n",
       "      <td>2612.9964</td>\n",
       "      <td>2708.7733</td>\n",
       "      <td>2805.8089</td>\n",
       "      <td>2824.5755</td>\n",
       "      <td>18.7666</td>\n",
       "      <td>95.7769</td>\n",
       "      <td>Horizontal</td>\n",
       "    </tr>\n",
       "    <tr>\n",
       "      <th>3</th>\n",
       "      <td>3</td>\n",
       "      <td>2655.0037,2794.5735,2613.9955,2756.5784</td>\n",
       "      <td>blue</td>\n",
       "      <td>3</td>\n",
       "      <td>2613.9955</td>\n",
       "      <td>2655.0037</td>\n",
       "      <td>2756.5784</td>\n",
       "      <td>2794.5735</td>\n",
       "      <td>37.9951</td>\n",
       "      <td>41.0082</td>\n",
       "      <td>Horizontal</td>\n",
       "    </tr>\n",
       "    <tr>\n",
       "      <th>4</th>\n",
       "      <td>4</td>\n",
       "      <td>3004.443,2762.0149,3084.76,2774.2514,3121.4356...</td>\n",
       "      <td>blue</td>\n",
       "      <td>3</td>\n",
       "      <td>3004.4430</td>\n",
       "      <td>3121.4356</td>\n",
       "      <td>2762.0149</td>\n",
       "      <td>2778.0103</td>\n",
       "      <td>15.9954</td>\n",
       "      <td>116.9926</td>\n",
       "      <td>Horizontal</td>\n",
       "    </tr>\n",
       "  </tbody>\n",
       "</table>\n",
       "</div>"
      ],
      "text/plain": [
       "   fracture_id                                           segments  \\\n",
       "0            0  2799.9979,2886.5779,2715.0032,2797.5709,2704.0...   \n",
       "1            1  2857.0003,2830.5703,2759.9982,2772.5739,2755.0...   \n",
       "2            2            2612.9964,2824.5755,2708.7733,2805.8089   \n",
       "3            3            2655.0037,2794.5735,2613.9955,2756.5784   \n",
       "4            4  3004.443,2762.0149,3084.76,2774.2514,3121.4356...   \n",
       "\n",
       "  segments_color  segments_width       Xmin       Xmax       Ymin       Ymax  \\\n",
       "0         yellow               3  2704.0042  2799.9979  2726.5764  2886.5779   \n",
       "1           blue               3  2755.0029  2857.0003  2736.5771  2830.5703   \n",
       "2           blue               3  2612.9964  2708.7733  2805.8089  2824.5755   \n",
       "3           blue               3  2613.9955  2655.0037  2756.5784  2794.5735   \n",
       "4           blue               3  3004.4430  3121.4356  2762.0149  2778.0103   \n",
       "\n",
       "   fracture_height  fracture_length fracture_direction  \n",
       "0         160.0015          95.9937           Vertical  \n",
       "1          93.9932         101.9974         Horizontal  \n",
       "2          18.7666          95.7769         Horizontal  \n",
       "3          37.9951          41.0082         Horizontal  \n",
       "4          15.9954         116.9926         Horizontal  "
      ]
     },
     "execution_count": 2,
     "metadata": {},
     "output_type": "execute_result"
    }
   ],
   "source": [
    "df_fractures = pd.read_csv(\"./output/df_fractures_1.csv\")\n",
    "\n",
    "df_fractures.head()"
   ]
  },
  {
   "cell_type": "code",
   "execution_count": 3,
   "metadata": {},
   "outputs": [
    {
     "data": {
      "text/html": [
       "<div>\n",
       "<style scoped>\n",
       "    .dataframe tbody tr th:only-of-type {\n",
       "        vertical-align: middle;\n",
       "    }\n",
       "\n",
       "    .dataframe tbody tr th {\n",
       "        vertical-align: top;\n",
       "    }\n",
       "\n",
       "    .dataframe thead th {\n",
       "        text-align: right;\n",
       "    }\n",
       "</style>\n",
       "<table border=\"1\" class=\"dataframe\">\n",
       "  <thead>\n",
       "    <tr style=\"text-align: right;\">\n",
       "      <th></th>\n",
       "      <th>fracture_id</th>\n",
       "      <th>segment_id</th>\n",
       "      <th>X1</th>\n",
       "      <th>Y1</th>\n",
       "      <th>X2</th>\n",
       "      <th>Y2</th>\n",
       "      <th>delta_X</th>\n",
       "      <th>delta_Y</th>\n",
       "    </tr>\n",
       "  </thead>\n",
       "  <tbody>\n",
       "  </tbody>\n",
       "</table>\n",
       "</div>"
      ],
      "text/plain": [
       "Empty DataFrame\n",
       "Columns: [fracture_id, segment_id, X1, Y1, X2, Y2, delta_X, delta_Y]\n",
       "Index: []"
      ]
     },
     "execution_count": 3,
     "metadata": {},
     "output_type": "execute_result"
    }
   ],
   "source": [
    "# create a new dataframe to split the fracture into segments and save each segment coordinates in one row\n",
    "df_segments = pd.DataFrame(columns=['fracture_id', 'segment_id', 'X1', 'Y1', 'X2', 'Y2', 'delta_X', 'delta_Y'])\n",
    "\n",
    "df_segments"
   ]
  },
  {
   "cell_type": "markdown",
   "metadata": {},
   "source": [
    "<img src=\"in_cell_images/df_fractures_df_segments.png\">"
   ]
  },
  {
   "cell_type": "code",
   "execution_count": 4,
   "metadata": {},
   "outputs": [],
   "source": [
    "# iterate the first dataframe (df_fractures), extract each segment and insert as a new row into the new datafram (df_segments)\n",
    "\n",
    "for index, row in df_fractures.iterrows():\n",
    "\n",
    "    s_segment = row['segments']\n",
    "\n",
    "    fracture_id = row['fracture_id']\n",
    "\n",
    "    # Converting the string to list\n",
    "    l_segment = s_segment.split(\",\")\n",
    "\n",
    "    counter=0\n",
    "\n",
    "    # Insert each x,y pair as new row to the new dataframe (df_segments)\n",
    "    for x in range(0, (len(l_segment) - 3), 2):\n",
    "        counter += 1\n",
    "        X1, Y1, X2, Y2 = float(l_segment[x]), float(l_segment[x+1]), float(l_segment[x+2]), float(l_segment[x+3])\n",
    "        #print (X1, Y1, X2, Y2)\n",
    "        \n",
    "        # calculate run(delta X) and rise(delta Y)\n",
    "        run = X2 - X1\n",
    "        rise = Y2 - Y1\n",
    "        #print (\"run (delta X): \"+str(run)+\", rise (delta Y): \"+str(rise))\n",
    "\n",
    "        # Appending X1, Y1, X2, Y2, run, rise\n",
    "        new_row = pd.DataFrame({'fracture_id':fracture_id, 'segment_id':str(fracture_id)+'_'+str(counter), 'X1':X1, 'Y1':Y1, 'X2':X2, 'Y2':Y2, 'delta_X':run, 'delta_Y':rise}, index=[0])\n",
    "        df_segments = pd.concat([new_row,df_segments.loc[:]]).reset_index(drop=True)"
   ]
  },
  {
   "cell_type": "code",
   "execution_count": 5,
   "metadata": {},
   "outputs": [
    {
     "data": {
      "text/html": [
       "<div>\n",
       "<style scoped>\n",
       "    .dataframe tbody tr th:only-of-type {\n",
       "        vertical-align: middle;\n",
       "    }\n",
       "\n",
       "    .dataframe tbody tr th {\n",
       "        vertical-align: top;\n",
       "    }\n",
       "\n",
       "    .dataframe thead th {\n",
       "        text-align: right;\n",
       "    }\n",
       "</style>\n",
       "<table border=\"1\" class=\"dataframe\">\n",
       "  <thead>\n",
       "    <tr style=\"text-align: right;\">\n",
       "      <th></th>\n",
       "      <th>fracture_id</th>\n",
       "      <th>segment_id</th>\n",
       "      <th>X1</th>\n",
       "      <th>Y1</th>\n",
       "      <th>X2</th>\n",
       "      <th>Y2</th>\n",
       "      <th>delta_X</th>\n",
       "      <th>delta_Y</th>\n",
       "    </tr>\n",
       "  </thead>\n",
       "  <tbody>\n",
       "    <tr>\n",
       "      <th>0</th>\n",
       "      <td>1528</td>\n",
       "      <td>1528_2</td>\n",
       "      <td>14880.257</td>\n",
       "      <td>8797.5608</td>\n",
       "      <td>14890.307</td>\n",
       "      <td>8777.9108</td>\n",
       "      <td>10.05</td>\n",
       "      <td>-19.65</td>\n",
       "    </tr>\n",
       "    <tr>\n",
       "      <th>1</th>\n",
       "      <td>1528</td>\n",
       "      <td>1528_1</td>\n",
       "      <td>14872.006</td>\n",
       "      <td>8806.2608</td>\n",
       "      <td>14880.257</td>\n",
       "      <td>8797.5608</td>\n",
       "      <td>8.251</td>\n",
       "      <td>-8.7</td>\n",
       "    </tr>\n",
       "    <tr>\n",
       "      <th>2</th>\n",
       "      <td>1527</td>\n",
       "      <td>1527_4</td>\n",
       "      <td>20349.119</td>\n",
       "      <td>3322.3508</td>\n",
       "      <td>20357.025</td>\n",
       "      <td>3323.7462</td>\n",
       "      <td>7.906</td>\n",
       "      <td>1.3954</td>\n",
       "    </tr>\n",
       "    <tr>\n",
       "      <th>3</th>\n",
       "      <td>1527</td>\n",
       "      <td>1527_3</td>\n",
       "      <td>20350.282</td>\n",
       "      <td>3311.8852</td>\n",
       "      <td>20349.119</td>\n",
       "      <td>3322.3508</td>\n",
       "      <td>-1.163</td>\n",
       "      <td>10.4656</td>\n",
       "    </tr>\n",
       "    <tr>\n",
       "      <th>4</th>\n",
       "      <td>1527</td>\n",
       "      <td>1527_2</td>\n",
       "      <td>20338.188</td>\n",
       "      <td>3311.4201</td>\n",
       "      <td>20350.282</td>\n",
       "      <td>3311.8852</td>\n",
       "      <td>12.094</td>\n",
       "      <td>0.4651</td>\n",
       "    </tr>\n",
       "  </tbody>\n",
       "</table>\n",
       "</div>"
      ],
      "text/plain": [
       "  fracture_id segment_id         X1         Y1         X2         Y2 delta_X  \\\n",
       "0        1528     1528_2  14880.257  8797.5608  14890.307  8777.9108   10.05   \n",
       "1        1528     1528_1  14872.006  8806.2608  14880.257  8797.5608   8.251   \n",
       "2        1527     1527_4  20349.119  3322.3508  20357.025  3323.7462   7.906   \n",
       "3        1527     1527_3  20350.282  3311.8852  20349.119  3322.3508  -1.163   \n",
       "4        1527     1527_2  20338.188  3311.4201  20350.282  3311.8852  12.094   \n",
       "\n",
       "   delta_Y  \n",
       "0   -19.65  \n",
       "1     -8.7  \n",
       "2   1.3954  \n",
       "3  10.4656  \n",
       "4   0.4651  "
      ]
     },
     "execution_count": 5,
     "metadata": {},
     "output_type": "execute_result"
    }
   ],
   "source": [
    "df_segments.head()"
   ]
  },
  {
   "cell_type": "markdown",
   "metadata": {},
   "source": [
    "### Calculate the segment size"
   ]
  },
  {
   "cell_type": "markdown",
   "metadata": {},
   "source": [
    "<img src=\"in_cell_images/pythagorean.png\">"
   ]
  },
  {
   "cell_type": "code",
   "execution_count": 6,
   "metadata": {},
   "outputs": [],
   "source": [
    "df_segments[\"segment_size\"] = None"
   ]
  },
  {
   "cell_type": "code",
   "execution_count": 7,
   "metadata": {},
   "outputs": [],
   "source": [
    "# Iterating the dataframe of segments and calculating hypotenuse (segment size) using Pythagoreas theorem\n",
    "for index, row in df_segments.iterrows():\n",
    "\n",
    "    delta_X = row[\"delta_X\"]\n",
    "    delta_Y = row[\"delta_Y\"]\n",
    "    #print(\"delta X: \", delta_X, \"delta Y: \", delta_Y)\n",
    "    hypotenuse = math.sqrt(delta_X ** 2 + delta_Y ** 2)\n",
    "    #print(hypotenuse)\n",
    "    \n",
    "    df_segments.loc[index, 'segment_size'] = hypotenuse"
   ]
  },
  {
   "cell_type": "code",
   "execution_count": 8,
   "metadata": {},
   "outputs": [
    {
     "data": {
      "text/html": [
       "<div>\n",
       "<style scoped>\n",
       "    .dataframe tbody tr th:only-of-type {\n",
       "        vertical-align: middle;\n",
       "    }\n",
       "\n",
       "    .dataframe tbody tr th {\n",
       "        vertical-align: top;\n",
       "    }\n",
       "\n",
       "    .dataframe thead th {\n",
       "        text-align: right;\n",
       "    }\n",
       "</style>\n",
       "<table border=\"1\" class=\"dataframe\">\n",
       "  <thead>\n",
       "    <tr style=\"text-align: right;\">\n",
       "      <th></th>\n",
       "      <th>fracture_id</th>\n",
       "      <th>segment_id</th>\n",
       "      <th>X1</th>\n",
       "      <th>Y1</th>\n",
       "      <th>X2</th>\n",
       "      <th>Y2</th>\n",
       "      <th>delta_X</th>\n",
       "      <th>delta_Y</th>\n",
       "      <th>segment_size</th>\n",
       "    </tr>\n",
       "  </thead>\n",
       "  <tbody>\n",
       "    <tr>\n",
       "      <th>0</th>\n",
       "      <td>1528</td>\n",
       "      <td>1528_2</td>\n",
       "      <td>14880.257</td>\n",
       "      <td>8797.5608</td>\n",
       "      <td>14890.307</td>\n",
       "      <td>8777.9108</td>\n",
       "      <td>10.05</td>\n",
       "      <td>-19.65</td>\n",
       "      <td>22.070908</td>\n",
       "    </tr>\n",
       "    <tr>\n",
       "      <th>1</th>\n",
       "      <td>1528</td>\n",
       "      <td>1528_1</td>\n",
       "      <td>14872.006</td>\n",
       "      <td>8806.2608</td>\n",
       "      <td>14880.257</td>\n",
       "      <td>8797.5608</td>\n",
       "      <td>8.251</td>\n",
       "      <td>-8.7</td>\n",
       "      <td>11.990371</td>\n",
       "    </tr>\n",
       "    <tr>\n",
       "      <th>2</th>\n",
       "      <td>1527</td>\n",
       "      <td>1527_4</td>\n",
       "      <td>20349.119</td>\n",
       "      <td>3322.3508</td>\n",
       "      <td>20357.025</td>\n",
       "      <td>3323.7462</td>\n",
       "      <td>7.906</td>\n",
       "      <td>1.3954</td>\n",
       "      <td>8.028199</td>\n",
       "    </tr>\n",
       "    <tr>\n",
       "      <th>3</th>\n",
       "      <td>1527</td>\n",
       "      <td>1527_3</td>\n",
       "      <td>20350.282</td>\n",
       "      <td>3311.8852</td>\n",
       "      <td>20349.119</td>\n",
       "      <td>3322.3508</td>\n",
       "      <td>-1.163</td>\n",
       "      <td>10.4656</td>\n",
       "      <td>10.530021</td>\n",
       "    </tr>\n",
       "    <tr>\n",
       "      <th>4</th>\n",
       "      <td>1527</td>\n",
       "      <td>1527_2</td>\n",
       "      <td>20338.188</td>\n",
       "      <td>3311.4201</td>\n",
       "      <td>20350.282</td>\n",
       "      <td>3311.8852</td>\n",
       "      <td>12.094</td>\n",
       "      <td>0.4651</td>\n",
       "      <td>12.10294</td>\n",
       "    </tr>\n",
       "  </tbody>\n",
       "</table>\n",
       "</div>"
      ],
      "text/plain": [
       "  fracture_id segment_id         X1         Y1         X2         Y2 delta_X  \\\n",
       "0        1528     1528_2  14880.257  8797.5608  14890.307  8777.9108   10.05   \n",
       "1        1528     1528_1  14872.006  8806.2608  14880.257  8797.5608   8.251   \n",
       "2        1527     1527_4  20349.119  3322.3508  20357.025  3323.7462   7.906   \n",
       "3        1527     1527_3  20350.282  3311.8852  20349.119  3322.3508  -1.163   \n",
       "4        1527     1527_2  20338.188  3311.4201  20350.282  3311.8852  12.094   \n",
       "\n",
       "   delta_Y segment_size  \n",
       "0   -19.65    22.070908  \n",
       "1     -8.7    11.990371  \n",
       "2   1.3954     8.028199  \n",
       "3  10.4656    10.530021  \n",
       "4   0.4651     12.10294  "
      ]
     },
     "execution_count": 8,
     "metadata": {},
     "output_type": "execute_result"
    }
   ],
   "source": [
    "df_segments.head()"
   ]
  },
  {
   "cell_type": "code",
   "execution_count": 9,
   "metadata": {},
   "outputs": [],
   "source": [
    "# save dataframe to csv\n",
    "df_segments.to_csv('./output/df_segments_1.csv', index=False)"
   ]
  },
  {
   "cell_type": "markdown",
   "metadata": {},
   "source": [
    "<a id='2'></a>\n",
    "## Finding Fractures Size"
   ]
  },
  {
   "cell_type": "code",
   "execution_count": 10,
   "metadata": {},
   "outputs": [],
   "source": [
    "for index, row in df_fractures.iterrows():\n",
    "    fracture_id = row['fracture_id']\n",
    "\n",
    "    total_size = df_segments[df_segments.fracture_id == fracture_id].segment_size.sum()\n",
    "\n",
    "    # just to fix one fracture (false annotation)\n",
    "    if total_size < 1:\n",
    "        total_size = 1\n",
    "\n",
    "    df_fractures.loc[df_fractures.fracture_id == fracture_id, 'total_size'] = total_size\n"
   ]
  },
  {
   "cell_type": "code",
   "execution_count": 11,
   "metadata": {},
   "outputs": [
    {
     "data": {
      "text/html": [
       "<div>\n",
       "<style scoped>\n",
       "    .dataframe tbody tr th:only-of-type {\n",
       "        vertical-align: middle;\n",
       "    }\n",
       "\n",
       "    .dataframe tbody tr th {\n",
       "        vertical-align: top;\n",
       "    }\n",
       "\n",
       "    .dataframe thead th {\n",
       "        text-align: right;\n",
       "    }\n",
       "</style>\n",
       "<table border=\"1\" class=\"dataframe\">\n",
       "  <thead>\n",
       "    <tr style=\"text-align: right;\">\n",
       "      <th></th>\n",
       "      <th>fracture_id</th>\n",
       "      <th>segments</th>\n",
       "      <th>segments_color</th>\n",
       "      <th>segments_width</th>\n",
       "      <th>Xmin</th>\n",
       "      <th>Xmax</th>\n",
       "      <th>Ymin</th>\n",
       "      <th>Ymax</th>\n",
       "      <th>fracture_height</th>\n",
       "      <th>fracture_length</th>\n",
       "      <th>fracture_direction</th>\n",
       "      <th>total_size</th>\n",
       "    </tr>\n",
       "  </thead>\n",
       "  <tbody>\n",
       "    <tr>\n",
       "      <th>0</th>\n",
       "      <td>0</td>\n",
       "      <td>2799.9979,2886.5779,2715.0032,2797.5709,2704.0...</td>\n",
       "      <td>yellow</td>\n",
       "      <td>3</td>\n",
       "      <td>2704.0042</td>\n",
       "      <td>2799.9979</td>\n",
       "      <td>2726.5764</td>\n",
       "      <td>2886.5779</td>\n",
       "      <td>160.0015</td>\n",
       "      <td>95.9937</td>\n",
       "      <td>Vertical</td>\n",
       "      <td>194.911960</td>\n",
       "    </tr>\n",
       "    <tr>\n",
       "      <th>1</th>\n",
       "      <td>1</td>\n",
       "      <td>2857.0003,2830.5703,2759.9982,2772.5739,2755.0...</td>\n",
       "      <td>blue</td>\n",
       "      <td>3</td>\n",
       "      <td>2755.0029</td>\n",
       "      <td>2857.0003</td>\n",
       "      <td>2736.5771</td>\n",
       "      <td>2830.5703</td>\n",
       "      <td>93.9932</td>\n",
       "      <td>101.9974</td>\n",
       "      <td>Horizontal</td>\n",
       "      <td>149.359400</td>\n",
       "    </tr>\n",
       "    <tr>\n",
       "      <th>2</th>\n",
       "      <td>2</td>\n",
       "      <td>2612.9964,2824.5755,2708.7733,2805.8089</td>\n",
       "      <td>blue</td>\n",
       "      <td>3</td>\n",
       "      <td>2612.9964</td>\n",
       "      <td>2708.7733</td>\n",
       "      <td>2805.8089</td>\n",
       "      <td>2824.5755</td>\n",
       "      <td>18.7666</td>\n",
       "      <td>95.7769</td>\n",
       "      <td>Horizontal</td>\n",
       "      <td>97.598155</td>\n",
       "    </tr>\n",
       "    <tr>\n",
       "      <th>3</th>\n",
       "      <td>3</td>\n",
       "      <td>2655.0037,2794.5735,2613.9955,2756.5784</td>\n",
       "      <td>blue</td>\n",
       "      <td>3</td>\n",
       "      <td>2613.9955</td>\n",
       "      <td>2655.0037</td>\n",
       "      <td>2756.5784</td>\n",
       "      <td>2794.5735</td>\n",
       "      <td>37.9951</td>\n",
       "      <td>41.0082</td>\n",
       "      <td>Horizontal</td>\n",
       "      <td>55.904383</td>\n",
       "    </tr>\n",
       "    <tr>\n",
       "      <th>4</th>\n",
       "      <td>4</td>\n",
       "      <td>3004.443,2762.0149,3084.76,2774.2514,3121.4356...</td>\n",
       "      <td>blue</td>\n",
       "      <td>3</td>\n",
       "      <td>3004.4430</td>\n",
       "      <td>3121.4356</td>\n",
       "      <td>2762.0149</td>\n",
       "      <td>2778.0103</td>\n",
       "      <td>15.9954</td>\n",
       "      <td>116.9926</td>\n",
       "      <td>Horizontal</td>\n",
       "      <td>118.111506</td>\n",
       "    </tr>\n",
       "  </tbody>\n",
       "</table>\n",
       "</div>"
      ],
      "text/plain": [
       "   fracture_id                                           segments  \\\n",
       "0            0  2799.9979,2886.5779,2715.0032,2797.5709,2704.0...   \n",
       "1            1  2857.0003,2830.5703,2759.9982,2772.5739,2755.0...   \n",
       "2            2            2612.9964,2824.5755,2708.7733,2805.8089   \n",
       "3            3            2655.0037,2794.5735,2613.9955,2756.5784   \n",
       "4            4  3004.443,2762.0149,3084.76,2774.2514,3121.4356...   \n",
       "\n",
       "  segments_color  segments_width       Xmin       Xmax       Ymin       Ymax  \\\n",
       "0         yellow               3  2704.0042  2799.9979  2726.5764  2886.5779   \n",
       "1           blue               3  2755.0029  2857.0003  2736.5771  2830.5703   \n",
       "2           blue               3  2612.9964  2708.7733  2805.8089  2824.5755   \n",
       "3           blue               3  2613.9955  2655.0037  2756.5784  2794.5735   \n",
       "4           blue               3  3004.4430  3121.4356  2762.0149  2778.0103   \n",
       "\n",
       "   fracture_height  fracture_length fracture_direction  total_size  \n",
       "0         160.0015          95.9937           Vertical  194.911960  \n",
       "1          93.9932         101.9974         Horizontal  149.359400  \n",
       "2          18.7666          95.7769         Horizontal   97.598155  \n",
       "3          37.9951          41.0082         Horizontal   55.904383  \n",
       "4          15.9954         116.9926         Horizontal  118.111506  "
      ]
     },
     "execution_count": 11,
     "metadata": {},
     "output_type": "execute_result"
    }
   ],
   "source": [
    "df_fractures.head()"
   ]
  },
  {
   "cell_type": "code",
   "execution_count": 12,
   "metadata": {},
   "outputs": [],
   "source": [
    "# save dataframe to csv\n",
    "df_fractures.to_csv('./output/df_fractures_2.csv', index=False)"
   ]
  },
  {
   "cell_type": "markdown",
   "metadata": {},
   "source": [
    "<a id='3'></a>\n",
    "## Histogram of Count of Segments vs Size"
   ]
  },
  {
   "cell_type": "code",
   "execution_count": 13,
   "metadata": {},
   "outputs": [],
   "source": [
    "min_segment_size = df_segments.segment_size.min()\n",
    "max_segment_size = df_segments.segment_size.max()"
   ]
  },
  {
   "cell_type": "code",
   "execution_count": 14,
   "metadata": {},
   "outputs": [
    {
     "name": "stdout",
     "output_type": "stream",
     "text": [
      "[  0.          10.43577846  20.87155691  31.30733537  41.74311383\n",
      "  52.17889228  62.61467074  73.0504492   83.48622765  93.92200611\n",
      " 104.35778457 114.79356303 125.22934148 135.66511994 146.1008984\n",
      " 156.53667685 166.97245531 177.40823377 187.84401222 198.27979068\n",
      " 208.71556914 219.15134759 229.58712605 240.02290451 250.45868296\n",
      " 260.89446142 271.33023988 281.76601833 292.20179679 302.63757525\n",
      " 313.0733537 ]\n"
     ]
    }
   ],
   "source": [
    "number_of_bins = 30\n",
    "bin_edges_segment_size = np.linspace(min_segment_size, max_segment_size, number_of_bins+1) \n",
    "print(bin_edges_segment_size)"
   ]
  },
  {
   "cell_type": "markdown",
   "metadata": {},
   "source": [
    "### Histogram Values"
   ]
  },
  {
   "cell_type": "code",
   "execution_count": 15,
   "metadata": {},
   "outputs": [
    {
     "data": {
      "text/plain": [
       "(0.0, 10.436]       385\n",
       "(10.436, 20.872]    964\n",
       "(20.872, 31.307]    783\n",
       "(31.307, 41.743]    447\n",
       "(41.743, 52.179]    268\n",
       "Name: segment_size, dtype: int64"
      ]
     },
     "execution_count": 15,
     "metadata": {},
     "output_type": "execute_result"
    }
   ],
   "source": [
    "pd.cut(x=df_segments['segment_size'], bins=bin_edges_segment_size).value_counts().sort_index().head()"
   ]
  },
  {
   "cell_type": "markdown",
   "metadata": {},
   "source": [
    "### Bar Histogram"
   ]
  },
  {
   "cell_type": "code",
   "execution_count": 16,
   "metadata": {},
   "outputs": [
    {
     "data": {
      "image/png": "[encoded data removed]",
      "text/plain": [
       "<Figure size 576x432 with 1 Axes>"
      ]
     },
     "metadata": {
      "needs_background": "light"
     },
     "output_type": "display_data"
    }
   ],
   "source": [
    "plt.figure(figsize=(8, 6))\n",
    "\n",
    "ax = df_segments.segment_size.plot.hist(bins=number_of_bins, alpha=0.5, histtype='bar', ec='black')\n",
    "\n",
    "plt.grid(axis='y', alpha=0.75)\n",
    "\n",
    "#plt.xticks(bin_edges_segment_size)\n",
    "\n",
    "# set chart title\n",
    "ax.set_title('Histogram of Sizes')\n",
    "# set x, y axes labels\n",
    "ax.set_xlabel(\"Size\")\n",
    "ax.set_ylabel(\"Count of Segments\")\n",
    "\n",
    "plt.show()"
   ]
  }
 ],
 "metadata": {
  "kernelspec": {
   "display_name": "Python 3.9.12 ('base')",
   "language": "python",
   "name": "python3"
  },
  "language_info": {
   "codemirror_mode": {
    "name": "ipython",
    "version": 3
   },
   "file_extension": ".py",
   "mimetype": "text/x-python",
   "name": "python",
   "nbconvert_exporter": "python",
   "pygments_lexer": "ipython3",
   "version": "3.9.12"
  },
  "orig_nbformat": 4,
  "vscode": {
   "interpreter": {
    "hash": "ef70cde2d7a4c5f354efcdde45384ddb4bf187cd73ff85a7fdd1b636e19ca19d"
   }
  }
 },
 "nbformat": 4,
 "nbformat_minor": 2
}

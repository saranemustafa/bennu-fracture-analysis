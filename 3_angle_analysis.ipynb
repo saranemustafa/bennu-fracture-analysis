{
 "cells": [
  {
   "cell_type": "markdown",
   "metadata": {},
   "source": [
    "## 3 - Angle Analysis\n",
    "## Table of Contents\n",
    "<ul>\n",
    "<li><a href=\"#1\">Finding Angles of Segments</a></li>\n",
    "<li><a href=\"#2\">Finding Angles of Fractures</a></li>\n",
    "<li><a href=\"#3\">Drawing Segments with Angle Lables</a></li>\n",
    "<li><a href=\"#4\">Histogram of Segment Count vs Angle</a></li>\n",
    "<li><a href=\"#5\">Histogram of Total Segment Size vs Angle</a></li>\n",
    "</ul>"
   ]
  },
  {
   "cell_type": "code",
   "execution_count": 1,
   "metadata": {},
   "outputs": [],
   "source": [
    "import pandas as pd\n",
    "import matplotlib.pyplot as plt\n",
    "import math\n",
    "import cv2\n",
    "import numpy as np"
   ]
  },
  {
   "cell_type": "markdown",
   "metadata": {},
   "source": [
    "<a id='1'></a>\n",
    "## Finding Angles of Segments"
   ]
  },
  {
   "cell_type": "code",
   "execution_count": 2,
   "metadata": {},
   "outputs": [
    {
     "data": {
      "text/html": [
       "<div>\n",
       "<style scoped>\n",
       "    .dataframe tbody tr th:only-of-type {\n",
       "        vertical-align: middle;\n",
       "    }\n",
       "\n",
       "    .dataframe tbody tr th {\n",
       "        vertical-align: top;\n",
       "    }\n",
       "\n",
       "    .dataframe thead th {\n",
       "        text-align: right;\n",
       "    }\n",
       "</style>\n",
       "<table border=\"1\" class=\"dataframe\">\n",
       "  <thead>\n",
       "    <tr style=\"text-align: right;\">\n",
       "      <th></th>\n",
       "      <th>fracture_id</th>\n",
       "      <th>segment_id</th>\n",
       "      <th>X1</th>\n",
       "      <th>Y1</th>\n",
       "      <th>X2</th>\n",
       "      <th>Y2</th>\n",
       "      <th>delta_X</th>\n",
       "      <th>delta_Y</th>\n",
       "      <th>segment_size</th>\n",
       "    </tr>\n",
       "  </thead>\n",
       "  <tbody>\n",
       "    <tr>\n",
       "      <th>0</th>\n",
       "      <td>1528</td>\n",
       "      <td>1528_2</td>\n",
       "      <td>14880.257</td>\n",
       "      <td>8797.5608</td>\n",
       "      <td>14890.307</td>\n",
       "      <td>8777.9108</td>\n",
       "      <td>10.050</td>\n",
       "      <td>-19.6500</td>\n",
       "      <td>22.070908</td>\n",
       "    </tr>\n",
       "    <tr>\n",
       "      <th>1</th>\n",
       "      <td>1528</td>\n",
       "      <td>1528_1</td>\n",
       "      <td>14872.006</td>\n",
       "      <td>8806.2608</td>\n",
       "      <td>14880.257</td>\n",
       "      <td>8797.5608</td>\n",
       "      <td>8.251</td>\n",
       "      <td>-8.7000</td>\n",
       "      <td>11.990371</td>\n",
       "    </tr>\n",
       "    <tr>\n",
       "      <th>2</th>\n",
       "      <td>1527</td>\n",
       "      <td>1527_4</td>\n",
       "      <td>20349.119</td>\n",
       "      <td>3322.3508</td>\n",
       "      <td>20357.025</td>\n",
       "      <td>3323.7462</td>\n",
       "      <td>7.906</td>\n",
       "      <td>1.3954</td>\n",
       "      <td>8.028199</td>\n",
       "    </tr>\n",
       "    <tr>\n",
       "      <th>3</th>\n",
       "      <td>1527</td>\n",
       "      <td>1527_3</td>\n",
       "      <td>20350.282</td>\n",
       "      <td>3311.8852</td>\n",
       "      <td>20349.119</td>\n",
       "      <td>3322.3508</td>\n",
       "      <td>-1.163</td>\n",
       "      <td>10.4656</td>\n",
       "      <td>10.530021</td>\n",
       "    </tr>\n",
       "    <tr>\n",
       "      <th>4</th>\n",
       "      <td>1527</td>\n",
       "      <td>1527_2</td>\n",
       "      <td>20338.188</td>\n",
       "      <td>3311.4201</td>\n",
       "      <td>20350.282</td>\n",
       "      <td>3311.8852</td>\n",
       "      <td>12.094</td>\n",
       "      <td>0.4651</td>\n",
       "      <td>12.102940</td>\n",
       "    </tr>\n",
       "  </tbody>\n",
       "</table>\n",
       "</div>"
      ],
      "text/plain": [
       "   fracture_id segment_id         X1         Y1         X2         Y2  \\\n",
       "0         1528     1528_2  14880.257  8797.5608  14890.307  8777.9108   \n",
       "1         1528     1528_1  14872.006  8806.2608  14880.257  8797.5608   \n",
       "2         1527     1527_4  20349.119  3322.3508  20357.025  3323.7462   \n",
       "3         1527     1527_3  20350.282  3311.8852  20349.119  3322.3508   \n",
       "4         1527     1527_2  20338.188  3311.4201  20350.282  3311.8852   \n",
       "\n",
       "   delta_X  delta_Y  segment_size  \n",
       "0   10.050 -19.6500     22.070908  \n",
       "1    8.251  -8.7000     11.990371  \n",
       "2    7.906   1.3954      8.028199  \n",
       "3   -1.163  10.4656     10.530021  \n",
       "4   12.094   0.4651     12.102940  "
      ]
     },
     "execution_count": 2,
     "metadata": {},
     "output_type": "execute_result"
    }
   ],
   "source": [
    "df_segments = pd.read_csv(\"./output/df_segments_1.csv\")\n",
    "\n",
    "df_segments.head()"
   ]
  },
  {
   "cell_type": "markdown",
   "metadata": {},
   "source": [
    "<img src=\"in_cell_images/tangent.png\">"
   ]
  },
  {
   "cell_type": "code",
   "execution_count": 3,
   "metadata": {},
   "outputs": [],
   "source": [
    "# Iterate the dataframe of segments and calculate angles with tangent formula, save to dataframe\n",
    "for index, row in df_segments.iterrows():\n",
    "\n",
    "    delta_X = row[\"delta_X\"]\n",
    "    delta_Y = row[\"delta_Y\"]\n",
    "\n",
    "    if delta_X == 0:\n",
    "        angle_radian = (np.pi)/2\n",
    "        angle_degree = 90\n",
    "    else:\n",
    "        angle_radian = math.atan(delta_Y/delta_X)\n",
    "        # fix negative angles\n",
    "        if angle_radian < 0:\n",
    "            angle_radian = angle_radian + np.pi\n",
    "        angle_degree = math.degrees(angle_radian)\n",
    "\n",
    "    df_segments.loc[index, 'angle_radian'] = angle_radian\n",
    "    df_segments.loc[index, 'angle_degree'] = angle_degree"
   ]
  },
  {
   "cell_type": "code",
   "execution_count": 4,
   "metadata": {},
   "outputs": [
    {
     "data": {
      "text/html": [
       "<div>\n",
       "<style scoped>\n",
       "    .dataframe tbody tr th:only-of-type {\n",
       "        vertical-align: middle;\n",
       "    }\n",
       "\n",
       "    .dataframe tbody tr th {\n",
       "        vertical-align: top;\n",
       "    }\n",
       "\n",
       "    .dataframe thead th {\n",
       "        text-align: right;\n",
       "    }\n",
       "</style>\n",
       "<table border=\"1\" class=\"dataframe\">\n",
       "  <thead>\n",
       "    <tr style=\"text-align: right;\">\n",
       "      <th></th>\n",
       "      <th>fracture_id</th>\n",
       "      <th>segment_id</th>\n",
       "      <th>X1</th>\n",
       "      <th>Y1</th>\n",
       "      <th>X2</th>\n",
       "      <th>Y2</th>\n",
       "      <th>delta_X</th>\n",
       "      <th>delta_Y</th>\n",
       "      <th>segment_size</th>\n",
       "      <th>angle_radian</th>\n",
       "      <th>angle_degree</th>\n",
       "    </tr>\n",
       "  </thead>\n",
       "  <tbody>\n",
       "    <tr>\n",
       "      <th>0</th>\n",
       "      <td>1528</td>\n",
       "      <td>1528_2</td>\n",
       "      <td>14880.257</td>\n",
       "      <td>8797.5608</td>\n",
       "      <td>14890.307</td>\n",
       "      <td>8777.9108</td>\n",
       "      <td>10.050</td>\n",
       "      <td>-19.6500</td>\n",
       "      <td>22.070908</td>\n",
       "      <td>2.043562</td>\n",
       "      <td>117.087491</td>\n",
       "    </tr>\n",
       "    <tr>\n",
       "      <th>1</th>\n",
       "      <td>1528</td>\n",
       "      <td>1528_1</td>\n",
       "      <td>14872.006</td>\n",
       "      <td>8806.2608</td>\n",
       "      <td>14880.257</td>\n",
       "      <td>8797.5608</td>\n",
       "      <td>8.251</td>\n",
       "      <td>-8.7000</td>\n",
       "      <td>11.990371</td>\n",
       "      <td>2.329713</td>\n",
       "      <td>133.482698</td>\n",
       "    </tr>\n",
       "    <tr>\n",
       "      <th>2</th>\n",
       "      <td>1527</td>\n",
       "      <td>1527_4</td>\n",
       "      <td>20349.119</td>\n",
       "      <td>3322.3508</td>\n",
       "      <td>20357.025</td>\n",
       "      <td>3323.7462</td>\n",
       "      <td>7.906</td>\n",
       "      <td>1.3954</td>\n",
       "      <td>8.028199</td>\n",
       "      <td>0.174700</td>\n",
       "      <td>10.009551</td>\n",
       "    </tr>\n",
       "    <tr>\n",
       "      <th>3</th>\n",
       "      <td>1527</td>\n",
       "      <td>1527_3</td>\n",
       "      <td>20350.282</td>\n",
       "      <td>3311.8852</td>\n",
       "      <td>20349.119</td>\n",
       "      <td>3322.3508</td>\n",
       "      <td>-1.163</td>\n",
       "      <td>10.4656</td>\n",
       "      <td>10.530021</td>\n",
       "      <td>1.681468</td>\n",
       "      <td>96.341033</td>\n",
       "    </tr>\n",
       "    <tr>\n",
       "      <th>4</th>\n",
       "      <td>1527</td>\n",
       "      <td>1527_2</td>\n",
       "      <td>20338.188</td>\n",
       "      <td>3311.4201</td>\n",
       "      <td>20350.282</td>\n",
       "      <td>3311.8852</td>\n",
       "      <td>12.094</td>\n",
       "      <td>0.4651</td>\n",
       "      <td>12.102940</td>\n",
       "      <td>0.038438</td>\n",
       "      <td>2.202343</td>\n",
       "    </tr>\n",
       "  </tbody>\n",
       "</table>\n",
       "</div>"
      ],
      "text/plain": [
       "   fracture_id segment_id         X1         Y1         X2         Y2  \\\n",
       "0         1528     1528_2  14880.257  8797.5608  14890.307  8777.9108   \n",
       "1         1528     1528_1  14872.006  8806.2608  14880.257  8797.5608   \n",
       "2         1527     1527_4  20349.119  3322.3508  20357.025  3323.7462   \n",
       "3         1527     1527_3  20350.282  3311.8852  20349.119  3322.3508   \n",
       "4         1527     1527_2  20338.188  3311.4201  20350.282  3311.8852   \n",
       "\n",
       "   delta_X  delta_Y  segment_size  angle_radian  angle_degree  \n",
       "0   10.050 -19.6500     22.070908      2.043562    117.087491  \n",
       "1    8.251  -8.7000     11.990371      2.329713    133.482698  \n",
       "2    7.906   1.3954      8.028199      0.174700     10.009551  \n",
       "3   -1.163  10.4656     10.530021      1.681468     96.341033  \n",
       "4   12.094   0.4651     12.102940      0.038438      2.202343  "
      ]
     },
     "execution_count": 4,
     "metadata": {},
     "output_type": "execute_result"
    }
   ],
   "source": [
    "df_segments.head()"
   ]
  },
  {
   "cell_type": "code",
   "execution_count": 5,
   "metadata": {},
   "outputs": [],
   "source": [
    "# save dataframe to csv\n",
    "df_segments.to_csv('./output/df_segments_2.csv', index=False)"
   ]
  },
  {
   "cell_type": "markdown",
   "metadata": {},
   "source": [
    "<a id='2'></a>\n",
    "## Finding Angles of Fractures"
   ]
  },
  {
   "cell_type": "markdown",
   "metadata": {},
   "source": [
    "As we now have the angle of each indivulal segment that composes a fracture, we can now calculate the avarage angle of each fracture.\n",
    "\n",
    "We will calculate a weighted (based on the size of segment) avarage angle and update the df_fractures."
   ]
  },
  {
   "cell_type": "code",
   "execution_count": 6,
   "metadata": {},
   "outputs": [],
   "source": [
    "df_fractures = pd.read_csv(\"./output/df_fractures_2.csv\")"
   ]
  },
  {
   "cell_type": "code",
   "execution_count": 7,
   "metadata": {},
   "outputs": [],
   "source": [
    "for index, row in df_fractures.iterrows():\n",
    "    fracture_id = row['fracture_id']\n",
    "\n",
    "    total_size = row['total_size']\n",
    "\n",
    "    total_weighted = 0\n",
    "    for index, row in df_segments[df_segments.fracture_id == fracture_id].iterrows():\n",
    "        weighted = row['segment_size']*row['angle_degree']\n",
    "        total_weighted += weighted\n",
    "\n",
    "    weighted_average_angle = total_weighted/total_size\n",
    "\n",
    "    df_fractures.loc[df_fractures.fracture_id == fracture_id, 'w_average_angle_degree'] = weighted_average_angle"
   ]
  },
  {
   "cell_type": "code",
   "execution_count": 8,
   "metadata": {},
   "outputs": [
    {
     "data": {
      "text/html": [
       "<div>\n",
       "<style scoped>\n",
       "    .dataframe tbody tr th:only-of-type {\n",
       "        vertical-align: middle;\n",
       "    }\n",
       "\n",
       "    .dataframe tbody tr th {\n",
       "        vertical-align: top;\n",
       "    }\n",
       "\n",
       "    .dataframe thead th {\n",
       "        text-align: right;\n",
       "    }\n",
       "</style>\n",
       "<table border=\"1\" class=\"dataframe\">\n",
       "  <thead>\n",
       "    <tr style=\"text-align: right;\">\n",
       "      <th></th>\n",
       "      <th>fracture_id</th>\n",
       "      <th>segments</th>\n",
       "      <th>segments_color</th>\n",
       "      <th>segments_width</th>\n",
       "      <th>Xmin</th>\n",
       "      <th>Xmax</th>\n",
       "      <th>Ymin</th>\n",
       "      <th>Ymax</th>\n",
       "      <th>fracture_height</th>\n",
       "      <th>fracture_length</th>\n",
       "      <th>fracture_direction</th>\n",
       "      <th>total_size</th>\n",
       "      <th>w_average_angle_degree</th>\n",
       "    </tr>\n",
       "  </thead>\n",
       "  <tbody>\n",
       "    <tr>\n",
       "      <th>0</th>\n",
       "      <td>0</td>\n",
       "      <td>2799.9979,2886.5779,2715.0032,2797.5709,2704.0...</td>\n",
       "      <td>yellow</td>\n",
       "      <td>3</td>\n",
       "      <td>2704.0042</td>\n",
       "      <td>2799.9979</td>\n",
       "      <td>2726.5764</td>\n",
       "      <td>2886.5779</td>\n",
       "      <td>160.0015</td>\n",
       "      <td>95.9937</td>\n",
       "      <td>Vertical</td>\n",
       "      <td>194.911960</td>\n",
       "      <td>59.174355</td>\n",
       "    </tr>\n",
       "    <tr>\n",
       "      <th>1</th>\n",
       "      <td>1</td>\n",
       "      <td>2857.0003,2830.5703,2759.9982,2772.5739,2755.0...</td>\n",
       "      <td>blue</td>\n",
       "      <td>3</td>\n",
       "      <td>2755.0029</td>\n",
       "      <td>2857.0003</td>\n",
       "      <td>2736.5771</td>\n",
       "      <td>2830.5703</td>\n",
       "      <td>93.9932</td>\n",
       "      <td>101.9974</td>\n",
       "      <td>Horizontal</td>\n",
       "      <td>149.359400</td>\n",
       "      <td>43.338584</td>\n",
       "    </tr>\n",
       "    <tr>\n",
       "      <th>2</th>\n",
       "      <td>2</td>\n",
       "      <td>2612.9964,2824.5755,2708.7733,2805.8089</td>\n",
       "      <td>blue</td>\n",
       "      <td>3</td>\n",
       "      <td>2612.9964</td>\n",
       "      <td>2708.7733</td>\n",
       "      <td>2805.8089</td>\n",
       "      <td>2824.5755</td>\n",
       "      <td>18.7666</td>\n",
       "      <td>95.7769</td>\n",
       "      <td>Horizontal</td>\n",
       "      <td>97.598155</td>\n",
       "      <td>168.913872</td>\n",
       "    </tr>\n",
       "    <tr>\n",
       "      <th>3</th>\n",
       "      <td>3</td>\n",
       "      <td>2655.0037,2794.5735,2613.9955,2756.5784</td>\n",
       "      <td>blue</td>\n",
       "      <td>3</td>\n",
       "      <td>2613.9955</td>\n",
       "      <td>2655.0037</td>\n",
       "      <td>2756.5784</td>\n",
       "      <td>2794.5735</td>\n",
       "      <td>37.9951</td>\n",
       "      <td>41.0082</td>\n",
       "      <td>Horizontal</td>\n",
       "      <td>55.904383</td>\n",
       "      <td>42.815860</td>\n",
       "    </tr>\n",
       "    <tr>\n",
       "      <th>4</th>\n",
       "      <td>4</td>\n",
       "      <td>3004.443,2762.0149,3084.76,2774.2514,3121.4356...</td>\n",
       "      <td>blue</td>\n",
       "      <td>3</td>\n",
       "      <td>3004.4430</td>\n",
       "      <td>3121.4356</td>\n",
       "      <td>2762.0149</td>\n",
       "      <td>2778.0103</td>\n",
       "      <td>15.9954</td>\n",
       "      <td>116.9926</td>\n",
       "      <td>Horizontal</td>\n",
       "      <td>118.111506</td>\n",
       "      <td>7.785202</td>\n",
       "    </tr>\n",
       "  </tbody>\n",
       "</table>\n",
       "</div>"
      ],
      "text/plain": [
       "   fracture_id                                           segments  \\\n",
       "0            0  2799.9979,2886.5779,2715.0032,2797.5709,2704.0...   \n",
       "1            1  2857.0003,2830.5703,2759.9982,2772.5739,2755.0...   \n",
       "2            2            2612.9964,2824.5755,2708.7733,2805.8089   \n",
       "3            3            2655.0037,2794.5735,2613.9955,2756.5784   \n",
       "4            4  3004.443,2762.0149,3084.76,2774.2514,3121.4356...   \n",
       "\n",
       "  segments_color  segments_width       Xmin       Xmax       Ymin       Ymax  \\\n",
       "0         yellow               3  2704.0042  2799.9979  2726.5764  2886.5779   \n",
       "1           blue               3  2755.0029  2857.0003  2736.5771  2830.5703   \n",
       "2           blue               3  2612.9964  2708.7733  2805.8089  2824.5755   \n",
       "3           blue               3  2613.9955  2655.0037  2756.5784  2794.5735   \n",
       "4           blue               3  3004.4430  3121.4356  2762.0149  2778.0103   \n",
       "\n",
       "   fracture_height  fracture_length fracture_direction  total_size  \\\n",
       "0         160.0015          95.9937           Vertical  194.911960   \n",
       "1          93.9932         101.9974         Horizontal  149.359400   \n",
       "2          18.7666          95.7769         Horizontal   97.598155   \n",
       "3          37.9951          41.0082         Horizontal   55.904383   \n",
       "4          15.9954         116.9926         Horizontal  118.111506   \n",
       "\n",
       "   w_average_angle_degree  \n",
       "0               59.174355  \n",
       "1               43.338584  \n",
       "2              168.913872  \n",
       "3               42.815860  \n",
       "4                7.785202  "
      ]
     },
     "execution_count": 8,
     "metadata": {},
     "output_type": "execute_result"
    }
   ],
   "source": [
    "df_fractures.head()"
   ]
  },
  {
   "cell_type": "code",
   "execution_count": 9,
   "metadata": {},
   "outputs": [],
   "source": [
    "# save dataframe to csv\n",
    "df_fractures.to_csv('./output/df_fractures_3.csv', index=False)"
   ]
  },
  {
   "cell_type": "markdown",
   "metadata": {},
   "source": [
    "<a id='3'></a>\n",
    "## Drawing Segments with Angle Labels"
   ]
  },
  {
   "cell_type": "code",
   "execution_count": 10,
   "metadata": {},
   "outputs": [],
   "source": [
    "# Reading the image\n",
    "image = cv2.imread('Global_20190321_ShapeV20_200kfacets_FB3.png')"
   ]
  },
  {
   "cell_type": "code",
   "execution_count": 11,
   "metadata": {},
   "outputs": [],
   "source": [
    "# flip the image vertically\n",
    "# this is beacuse our coordinates are currently presented on the 'Cartesian Coordinates System'\n",
    "# but in 'Computer Graphics Coordinate System' the coordinates are flipped on the Y axis\n",
    "image = cv2.flip(image, 0)"
   ]
  },
  {
   "cell_type": "code",
   "execution_count": 12,
   "metadata": {},
   "outputs": [],
   "source": [
    "# Draw segments and labels\n",
    "for index, row in df_segments.iterrows():\n",
    "\n",
    "    X1, Y1, X2, Y2 = int(row['X1']), int(row['Y1']), int(row['X2']), int(row['Y2'])\n",
    "    \n",
    "    angle_degree=str(int(row['angle_degree']))\n",
    "    \n",
    "    start_point = (X1, Y1)\n",
    "    end_point = (X2, Y2)\n",
    "\n",
    "    # Green color in BGR\n",
    "    line_color = (0, 255, 0)\n",
    "\n",
    "    # Line thickness\n",
    "    thickness=2\n",
    "\n",
    "    image=cv2.line(image, start_point, end_point, line_color, thickness)\n",
    "\n",
    "    center_point = (int((X1+X2)/2), int((Y1+Y2)/2))\n",
    "\n",
    "    label_angle = np.zeros((11,24,3),np.uint8)\n",
    "    # White color in BGR\n",
    "    text_color = (255, 255, 255)\n",
    "    # font\n",
    "    font = cv2.FONT_HERSHEY_SIMPLEX\n",
    "    # fontScale\n",
    "    fontScale = 0.4\n",
    "    # Using cv2.putText() method\n",
    "    label_angle = cv2.putText(label_angle, angle_degree, (0,9), font, fontScale, text_color)\n",
    "    #label_angle = cv2.flip(label_angle, 0)\n",
    "    label_angle = cv2.flip(label_angle, 0)\n",
    "\n",
    "    x, y = center_point[0], center_point[1]\n",
    "    h, w = label_angle.shape[:2]\n",
    "    image[y:y+h, x:x+w] = label_angle"
   ]
  },
  {
   "cell_type": "code",
   "execution_count": 13,
   "metadata": {},
   "outputs": [
    {
     "data": {
      "text/plain": [
       "True"
      ]
     },
     "execution_count": 13,
     "metadata": {},
     "output_type": "execute_result"
    }
   ],
   "source": [
    "image = cv2.flip(image, 0)\n",
    "\n",
    "cv2.imwrite('./output/bennu_angles.jpg', image)"
   ]
  },
  {
   "cell_type": "markdown",
   "metadata": {},
   "source": [
    "### Sample from the Output\n",
    "<img src=\"in_cell_images/angles.png\">"
   ]
  },
  {
   "cell_type": "markdown",
   "metadata": {},
   "source": [
    "<a id='4'></a>\n",
    "## Histogram of Segment Count vs Angle"
   ]
  },
  {
   "cell_type": "code",
   "execution_count": 14,
   "metadata": {},
   "outputs": [],
   "source": [
    "number_of_bins = 18"
   ]
  },
  {
   "cell_type": "code",
   "execution_count": 15,
   "metadata": {},
   "outputs": [
    {
     "data": {
      "text/plain": [
       "array([  0.,  10.,  20.,  30.,  40.,  50.,  60.,  70.,  80.,  90., 100.,\n",
       "       110., 120., 130., 140., 150., 160., 170., 180.])"
      ]
     },
     "execution_count": 15,
     "metadata": {},
     "output_type": "execute_result"
    }
   ],
   "source": [
    "bin_edges_degree = np.linspace(0, 180, number_of_bins+1)\n",
    "\n",
    "bin_edges_degree"
   ]
  },
  {
   "cell_type": "markdown",
   "metadata": {},
   "source": [
    "### Histogram Values"
   ]
  },
  {
   "cell_type": "code",
   "execution_count": 16,
   "metadata": {},
   "outputs": [
    {
     "data": {
      "text/plain": [
       "(0.0, 10.0]        99\n",
       "(10.0, 20.0]      104\n",
       "(20.0, 30.0]      121\n",
       "(30.0, 40.0]      143\n",
       "(40.0, 50.0]      158\n",
       "(50.0, 60.0]      176\n",
       "(60.0, 70.0]      216\n",
       "(70.0, 80.0]      193\n",
       "(80.0, 90.0]      233\n",
       "(90.0, 100.0]     223\n",
       "(100.0, 110.0]    209\n",
       "(110.0, 120.0]    242\n",
       "(120.0, 130.0]    233\n",
       "(130.0, 140.0]    291\n",
       "(140.0, 150.0]    196\n",
       "(150.0, 160.0]    168\n",
       "(160.0, 170.0]    147\n",
       "(170.0, 180.0]     76\n",
       "Name: angle_degree, dtype: int64"
      ]
     },
     "execution_count": 16,
     "metadata": {},
     "output_type": "execute_result"
    }
   ],
   "source": [
    "pd.cut(x=df_segments['angle_degree'], bins=bin_edges_degree).value_counts().sort_index()"
   ]
  },
  {
   "cell_type": "markdown",
   "metadata": {},
   "source": [
    "### Bar Histogram"
   ]
  },
  {
   "cell_type": "code",
   "execution_count": 17,
   "metadata": {},
   "outputs": [
    {
     "data": {
      "image/png": "[encoded data removed]",
      "text/plain": [
       "<Figure size 576x432 with 1 Axes>"
      ]
     },
     "metadata": {
      "needs_background": "light"
     },
     "output_type": "display_data"
    }
   ],
   "source": [
    "plt.figure(figsize=(8, 6))\n",
    "\n",
    "#ax = df_segments.angle_degree.plot.hist(bins=18, alpha=0.5, histtype='bar', ec='black')\n",
    "\n",
    "ax = pd.cut(x=df_segments['angle_degree'], bins=bin_edges_degree).value_counts().sort_index().plot(kind='bar', width=1.0, alpha=0.5, ec='black')\n",
    "\n",
    "plt.grid(axis='y', alpha=0.75)\n",
    "\n",
    "#plt.xticks(bin_edges_degree)\n",
    "\n",
    "# set chart title\n",
    "ax.set_title('Histogram of Segment Count vs Angles')\n",
    "# set x, y axes labels\n",
    "ax.set_xlabel(\"Angle (Degree)\")\n",
    "ax.set_ylabel(\"Segment count\")\n",
    "\n",
    "plt.show()"
   ]
  },
  {
   "cell_type": "markdown",
   "metadata": {},
   "source": [
    "### Polar Histogram"
   ]
  },
  {
   "cell_type": "code",
   "execution_count": 18,
   "metadata": {},
   "outputs": [
    {
     "data": {
      "image/png": "[encoded data removed]",
      "text/plain": [
       "<Figure size 360x360 with 1 Axes>"
      ]
     },
     "metadata": {
      "needs_background": "light"
     },
     "output_type": "display_data"
    }
   ],
   "source": [
    "number_of_bins=18\n",
    "\n",
    "bin_edges_radian = np.linspace(0.0, np.pi, (number_of_bins+1))\n",
    "\n",
    "bin_labels_radian = np.zeros(number_of_bins)\n",
    "\n",
    "for i in range(number_of_bins):\n",
    "  bin_labels_radian[i] = (bin_edges_radian[i] + bin_edges_radian[i+1])/2\n",
    "\n",
    "df_segments['radian_category']=pd.cut(x=df_segments['angle_radian'], bins=bin_edges_radian, labels=bin_labels_radian)\n",
    "\n",
    "bin_values_radian=pd.value_counts(df_segments['radian_category']).sort_index().values\n",
    "\n",
    "bottom = 0\n",
    "max_height = bin_values_radian.max()\n",
    "\n",
    "width = (np.pi) / (number_of_bins+1)\n",
    "\n",
    "plt.figure(figsize=(5,5))\n",
    "\n",
    "ax = plt.subplot(111, polar=True)\n",
    "bars = ax.bar(bin_labels_radian, bin_values_radian, width=width, bottom=bottom)\n",
    "\n",
    "# Use custom colors and opacity\n",
    "for r, bar in zip(bin_values_radian, bars):\n",
    "    bar.set_facecolor(plt.cm.jet(r / max_height))\n",
    "    bar.set_alpha(0.8)\n",
    "\n",
    "plt.show()"
   ]
  },
  {
   "cell_type": "markdown",
   "metadata": {},
   "source": [
    "<a id='5'></a>\n",
    "## Histogram of Total Segment Size vs Angle"
   ]
  },
  {
   "cell_type": "code",
   "execution_count": 19,
   "metadata": {},
   "outputs": [],
   "source": [
    "number_of_angle_bins = 18"
   ]
  },
  {
   "cell_type": "code",
   "execution_count": 20,
   "metadata": {},
   "outputs": [
    {
     "data": {
      "text/plain": [
       "array([  0.,  10.,  20.,  30.,  40.,  50.,  60.,  70.,  80.,  90., 100.,\n",
       "       110., 120., 130., 140., 150., 160., 170., 180.])"
      ]
     },
     "execution_count": 20,
     "metadata": {},
     "output_type": "execute_result"
    }
   ],
   "source": [
    "bin_edges_angle_degree = np.linspace(0, 180, number_of_angle_bins+1)\n",
    "\n",
    "bin_edges_angle_degree"
   ]
  },
  {
   "cell_type": "code",
   "execution_count": 21,
   "metadata": {},
   "outputs": [],
   "source": [
    "df_segments['bin_angle_degree'] = pd.cut(x=df_segments['angle_degree'], bins=bin_edges_angle_degree)"
   ]
  },
  {
   "cell_type": "code",
   "execution_count": 22,
   "metadata": {},
   "outputs": [
    {
     "data": {
      "text/html": [
       "<div>\n",
       "<style scoped>\n",
       "    .dataframe tbody tr th:only-of-type {\n",
       "        vertical-align: middle;\n",
       "    }\n",
       "\n",
       "    .dataframe tbody tr th {\n",
       "        vertical-align: top;\n",
       "    }\n",
       "\n",
       "    .dataframe thead th {\n",
       "        text-align: right;\n",
       "    }\n",
       "</style>\n",
       "<table border=\"1\" class=\"dataframe\">\n",
       "  <thead>\n",
       "    <tr style=\"text-align: right;\">\n",
       "      <th></th>\n",
       "      <th>fracture_id</th>\n",
       "      <th>segment_id</th>\n",
       "      <th>X1</th>\n",
       "      <th>Y1</th>\n",
       "      <th>X2</th>\n",
       "      <th>Y2</th>\n",
       "      <th>delta_X</th>\n",
       "      <th>delta_Y</th>\n",
       "      <th>segment_size</th>\n",
       "      <th>angle_radian</th>\n",
       "      <th>angle_degree</th>\n",
       "      <th>radian_category</th>\n",
       "      <th>bin_angle_degree</th>\n",
       "    </tr>\n",
       "  </thead>\n",
       "  <tbody>\n",
       "    <tr>\n",
       "      <th>0</th>\n",
       "      <td>1528</td>\n",
       "      <td>1528_2</td>\n",
       "      <td>14880.257</td>\n",
       "      <td>8797.5608</td>\n",
       "      <td>14890.307</td>\n",
       "      <td>8777.9108</td>\n",
       "      <td>10.050</td>\n",
       "      <td>-19.6500</td>\n",
       "      <td>22.070908</td>\n",
       "      <td>2.043562</td>\n",
       "      <td>117.087491</td>\n",
       "      <td>2.007129</td>\n",
       "      <td>(110.0, 120.0]</td>\n",
       "    </tr>\n",
       "    <tr>\n",
       "      <th>1</th>\n",
       "      <td>1528</td>\n",
       "      <td>1528_1</td>\n",
       "      <td>14872.006</td>\n",
       "      <td>8806.2608</td>\n",
       "      <td>14880.257</td>\n",
       "      <td>8797.5608</td>\n",
       "      <td>8.251</td>\n",
       "      <td>-8.7000</td>\n",
       "      <td>11.990371</td>\n",
       "      <td>2.329713</td>\n",
       "      <td>133.482698</td>\n",
       "      <td>2.356194</td>\n",
       "      <td>(130.0, 140.0]</td>\n",
       "    </tr>\n",
       "    <tr>\n",
       "      <th>2</th>\n",
       "      <td>1527</td>\n",
       "      <td>1527_4</td>\n",
       "      <td>20349.119</td>\n",
       "      <td>3322.3508</td>\n",
       "      <td>20357.025</td>\n",
       "      <td>3323.7462</td>\n",
       "      <td>7.906</td>\n",
       "      <td>1.3954</td>\n",
       "      <td>8.028199</td>\n",
       "      <td>0.174700</td>\n",
       "      <td>10.009551</td>\n",
       "      <td>0.261799</td>\n",
       "      <td>(10.0, 20.0]</td>\n",
       "    </tr>\n",
       "    <tr>\n",
       "      <th>3</th>\n",
       "      <td>1527</td>\n",
       "      <td>1527_3</td>\n",
       "      <td>20350.282</td>\n",
       "      <td>3311.8852</td>\n",
       "      <td>20349.119</td>\n",
       "      <td>3322.3508</td>\n",
       "      <td>-1.163</td>\n",
       "      <td>10.4656</td>\n",
       "      <td>10.530021</td>\n",
       "      <td>1.681468</td>\n",
       "      <td>96.341033</td>\n",
       "      <td>1.658063</td>\n",
       "      <td>(90.0, 100.0]</td>\n",
       "    </tr>\n",
       "    <tr>\n",
       "      <th>4</th>\n",
       "      <td>1527</td>\n",
       "      <td>1527_2</td>\n",
       "      <td>20338.188</td>\n",
       "      <td>3311.4201</td>\n",
       "      <td>20350.282</td>\n",
       "      <td>3311.8852</td>\n",
       "      <td>12.094</td>\n",
       "      <td>0.4651</td>\n",
       "      <td>12.102940</td>\n",
       "      <td>0.038438</td>\n",
       "      <td>2.202343</td>\n",
       "      <td>0.087266</td>\n",
       "      <td>(0.0, 10.0]</td>\n",
       "    </tr>\n",
       "  </tbody>\n",
       "</table>\n",
       "</div>"
      ],
      "text/plain": [
       "   fracture_id segment_id         X1         Y1         X2         Y2  \\\n",
       "0         1528     1528_2  14880.257  8797.5608  14890.307  8777.9108   \n",
       "1         1528     1528_1  14872.006  8806.2608  14880.257  8797.5608   \n",
       "2         1527     1527_4  20349.119  3322.3508  20357.025  3323.7462   \n",
       "3         1527     1527_3  20350.282  3311.8852  20349.119  3322.3508   \n",
       "4         1527     1527_2  20338.188  3311.4201  20350.282  3311.8852   \n",
       "\n",
       "   delta_X  delta_Y  segment_size  angle_radian  angle_degree radian_category  \\\n",
       "0   10.050 -19.6500     22.070908      2.043562    117.087491        2.007129   \n",
       "1    8.251  -8.7000     11.990371      2.329713    133.482698        2.356194   \n",
       "2    7.906   1.3954      8.028199      0.174700     10.009551        0.261799   \n",
       "3   -1.163  10.4656     10.530021      1.681468     96.341033        1.658063   \n",
       "4   12.094   0.4651     12.102940      0.038438      2.202343        0.087266   \n",
       "\n",
       "  bin_angle_degree  \n",
       "0   (110.0, 120.0]  \n",
       "1   (130.0, 140.0]  \n",
       "2     (10.0, 20.0]  \n",
       "3    (90.0, 100.0]  \n",
       "4      (0.0, 10.0]  "
      ]
     },
     "execution_count": 22,
     "metadata": {},
     "output_type": "execute_result"
    }
   ],
   "source": [
    "df_segments.head()"
   ]
  },
  {
   "cell_type": "markdown",
   "metadata": {},
   "source": [
    "### Histogram Values"
   ]
  },
  {
   "cell_type": "code",
   "execution_count": 23,
   "metadata": {},
   "outputs": [
    {
     "data": {
      "text/plain": [
       "bin_angle_degree\n",
       "(0.0, 10.0]     3282.387885\n",
       "(10.0, 20.0]    3444.950454\n",
       "(20.0, 30.0]    3987.912818\n",
       "(30.0, 40.0]    4100.280563\n",
       "(40.0, 50.0]    4477.289006\n",
       "Name: segment_size, dtype: float64"
      ]
     },
     "execution_count": 23,
     "metadata": {},
     "output_type": "execute_result"
    }
   ],
   "source": [
    "df_segments.groupby('bin_angle_degree')['segment_size'].sum().head()"
   ]
  },
  {
   "cell_type": "markdown",
   "metadata": {},
   "source": [
    "### Bar Histogram"
   ]
  },
  {
   "cell_type": "code",
   "execution_count": 24,
   "metadata": {},
   "outputs": [
    {
     "data": {
      "image/png": "[encoded data removed]",
      "text/plain": [
       "<Figure size 576x432 with 1 Axes>"
      ]
     },
     "metadata": {
      "needs_background": "light"
     },
     "output_type": "display_data"
    }
   ],
   "source": [
    "plt.figure(figsize=(8, 6))\n",
    "\n",
    "ax = df_segments.groupby('bin_angle_degree')['segment_size'].sum().plot(kind='bar', width=1.0, alpha=0.5, ec='black')\n",
    "\n",
    "plt.grid(axis='y', alpha=0.75)\n",
    "\n",
    "# set chart title\n",
    "ax.set_title('Histogram of Total segment size vs Angles')\n",
    "# set x, y axes labels\n",
    "ax.set_xlabel(\"Angle (Degree)\")\n",
    "ax.set_ylabel(\"Total segment size\")\n",
    "\n",
    "plt.show()"
   ]
  }
 ],
 "metadata": {
  "kernelspec": {
   "display_name": "Python 3.9.12 ('base')",
   "language": "python",
   "name": "python3"
  },
  "language_info": {
   "codemirror_mode": {
    "name": "ipython",
    "version": 3
   },
   "file_extension": ".py",
   "mimetype": "text/x-python",
   "name": "python",
   "nbconvert_exporter": "python",
   "pygments_lexer": "ipython3",
   "version": "3.9.12"
  },
  "orig_nbformat": 4,
  "vscode": {
   "interpreter": {
    "hash": "ef70cde2d7a4c5f354efcdde45384ddb4bf187cd73ff85a7fdd1b636e19ca19d"
   }
  }
 },
 "nbformat": 4,
 "nbformat_minor": 2
}

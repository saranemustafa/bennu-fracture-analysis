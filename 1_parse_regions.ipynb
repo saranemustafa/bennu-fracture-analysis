{
 "cells": [
  {
   "cell_type": "markdown",
   "metadata": {},
   "source": [
    "# Project: Bennu Asteroid Image Processing\n",
    "## 1 - Classification of Fracture's Direction\n",
    "## Table of Contents\n",
    "<ul>\n",
    "<li><a href=\"#1\">Parse DS9 Regions File</a></li>\n",
    "<li><a href=\"#2\">Direction Classification</a></li>\n",
    "<li><a href=\"#3\">New DS9 Regions File Generation</a></li>\n",
    "<li><a href=\"#4\">Drawing Fractures</a></li>\n",
    "</ul>"
   ]
  },
  {
   "cell_type": "code",
   "execution_count": 1,
   "metadata": {},
   "outputs": [],
   "source": [
    "import pandas as pd\n",
    "import matplotlib.pyplot as plt\n",
    "import cv2"
   ]
  },
  {
   "cell_type": "markdown",
   "metadata": {},
   "source": [
    "<a id='1'></a>\n",
    "## Parse DS9 Regions File"
   ]
  },
  {
   "cell_type": "code",
   "execution_count": 2,
   "metadata": {},
   "outputs": [
    {
     "data": {
      "text/html": [
       "<div>\n",
       "<style scoped>\n",
       "    .dataframe tbody tr th:only-of-type {\n",
       "        vertical-align: middle;\n",
       "    }\n",
       "\n",
       "    .dataframe tbody tr th {\n",
       "        vertical-align: top;\n",
       "    }\n",
       "\n",
       "    .dataframe thead th {\n",
       "        text-align: right;\n",
       "    }\n",
       "</style>\n",
       "<table border=\"1\" class=\"dataframe\">\n",
       "  <thead>\n",
       "    <tr style=\"text-align: right;\">\n",
       "      <th></th>\n",
       "      <th>segments</th>\n",
       "      <th>segments_color</th>\n",
       "      <th>segments_width</th>\n",
       "    </tr>\n",
       "  </thead>\n",
       "  <tbody>\n",
       "    <tr>\n",
       "      <th>0</th>\n",
       "      <td>segment(2799.9979,2886.5779,2715.0032,2797.570...</td>\n",
       "      <td>color=red</td>\n",
       "      <td>width=3</td>\n",
       "    </tr>\n",
       "    <tr>\n",
       "      <th>1</th>\n",
       "      <td>segment(2857.0003,2830.5703,2759.9982,2772.573...</td>\n",
       "      <td>color=red</td>\n",
       "      <td>width=3</td>\n",
       "    </tr>\n",
       "    <tr>\n",
       "      <th>2</th>\n",
       "      <td>segment(2612.9964,2824.5755,2708.7733,2805.8089)</td>\n",
       "      <td>color=red</td>\n",
       "      <td>width=3</td>\n",
       "    </tr>\n",
       "    <tr>\n",
       "      <th>3</th>\n",
       "      <td>segment(2655.0037,2794.5735,2613.9955,2756.5784)</td>\n",
       "      <td>color=red</td>\n",
       "      <td>width=3</td>\n",
       "    </tr>\n",
       "    <tr>\n",
       "      <th>4</th>\n",
       "      <td>segment(3004.443,2762.0149,3084.76,2774.2514,3...</td>\n",
       "      <td>color=red</td>\n",
       "      <td>width=3</td>\n",
       "    </tr>\n",
       "  </tbody>\n",
       "</table>\n",
       "</div>"
      ],
      "text/plain": [
       "                                            segments segments_color  \\\n",
       "0  segment(2799.9979,2886.5779,2715.0032,2797.570...      color=red   \n",
       "1  segment(2857.0003,2830.5703,2759.9982,2772.573...      color=red   \n",
       "2   segment(2612.9964,2824.5755,2708.7733,2805.8089)      color=red   \n",
       "3   segment(2655.0037,2794.5735,2613.9955,2756.5784)      color=red   \n",
       "4  segment(3004.443,2762.0149,3084.76,2774.2514,3...      color=red   \n",
       "\n",
       "  segments_width  \n",
       "0        width=3  \n",
       "1        width=3  \n",
       "2        width=3  \n",
       "3        width=3  \n",
       "4        width=3  "
      ]
     },
     "execution_count": 2,
     "metadata": {},
     "output_type": "execute_result"
    }
   ],
   "source": [
    "df_fractures = pd.read_csv(\"ds9_physical.reg\", skiprows=3, delimiter=' ', header = None).iloc[:, 1:]\n",
    "\n",
    "# name columns\n",
    "df_fractures.columns = ['segments', 'segments_color', 'segments_width']\n",
    "\n",
    "df_fractures.head()"
   ]
  },
  {
   "cell_type": "code",
   "execution_count": 3,
   "metadata": {},
   "outputs": [
    {
     "data": {
      "text/plain": [
       "(1529, 3)"
      ]
     },
     "execution_count": 3,
     "metadata": {},
     "output_type": "execute_result"
    }
   ],
   "source": [
    "# detect rows with null values\n",
    "df_fractures[df_fractures.isnull().any(axis=1)]\n",
    "df_fractures.shape"
   ]
  },
  {
   "cell_type": "code",
   "execution_count": 4,
   "metadata": {},
   "outputs": [
    {
     "data": {
      "text/html": [
       "<div>\n",
       "<style scoped>\n",
       "    .dataframe tbody tr th:only-of-type {\n",
       "        vertical-align: middle;\n",
       "    }\n",
       "\n",
       "    .dataframe tbody tr th {\n",
       "        vertical-align: top;\n",
       "    }\n",
       "\n",
       "    .dataframe thead th {\n",
       "        text-align: right;\n",
       "    }\n",
       "</style>\n",
       "<table border=\"1\" class=\"dataframe\">\n",
       "  <thead>\n",
       "    <tr style=\"text-align: right;\">\n",
       "      <th></th>\n",
       "      <th>segments</th>\n",
       "      <th>segments_color</th>\n",
       "      <th>segments_width</th>\n",
       "    </tr>\n",
       "  </thead>\n",
       "  <tbody>\n",
       "    <tr>\n",
       "      <th>229</th>\n",
       "      <td>segment(4578.04,5008.5029,4591,4988.3429,4599....</td>\n",
       "      <td>color=red</td>\n",
       "      <td>width=3</td>\n",
       "    </tr>\n",
       "    <tr>\n",
       "      <th>1501</th>\n",
       "      <td>segment(4212.4571,6976.1496,4220.2633,6976.284...</td>\n",
       "      <td>color=red</td>\n",
       "      <td>width=3</td>\n",
       "    </tr>\n",
       "    <tr>\n",
       "      <th>1528</th>\n",
       "      <td>segment(14872.006,8806.2608,14880.257,8797.560...</td>\n",
       "      <td>color=red</td>\n",
       "      <td>width=3</td>\n",
       "    </tr>\n",
       "  </tbody>\n",
       "</table>\n",
       "</div>"
      ],
      "text/plain": [
       "                                               segments segments_color  \\\n",
       "229   segment(4578.04,5008.5029,4591,4988.3429,4599....      color=red   \n",
       "1501  segment(4212.4571,6976.1496,4220.2633,6976.284...      color=red   \n",
       "1528  segment(14872.006,8806.2608,14880.257,8797.560...      color=red   \n",
       "\n",
       "     segments_width  \n",
       "229         width=3  \n",
       "1501        width=3  \n",
       "1528        width=3  "
      ]
     },
     "execution_count": 4,
     "metadata": {},
     "output_type": "execute_result"
    }
   ],
   "source": [
    "# there are three rows with NaN values\n",
    "# fix these rows by filling in missing values\n",
    "df_fractures['segments_color'].fillna(\"color=red\", inplace=True)\n",
    "df_fractures['segments_width'].fillna(\"width=3\", inplace=True)\n",
    "\n",
    "# validate the NaN values are fixed\n",
    "df_fractures.iloc[[229,1501,1528], :]\n"
   ]
  },
  {
   "cell_type": "code",
   "execution_count": 5,
   "metadata": {},
   "outputs": [
    {
     "data": {
      "text/html": [
       "<div>\n",
       "<style scoped>\n",
       "    .dataframe tbody tr th:only-of-type {\n",
       "        vertical-align: middle;\n",
       "    }\n",
       "\n",
       "    .dataframe tbody tr th {\n",
       "        vertical-align: top;\n",
       "    }\n",
       "\n",
       "    .dataframe thead th {\n",
       "        text-align: right;\n",
       "    }\n",
       "</style>\n",
       "<table border=\"1\" class=\"dataframe\">\n",
       "  <thead>\n",
       "    <tr style=\"text-align: right;\">\n",
       "      <th></th>\n",
       "      <th>segments</th>\n",
       "      <th>segments_color</th>\n",
       "      <th>segments_width</th>\n",
       "    </tr>\n",
       "  </thead>\n",
       "  <tbody>\n",
       "    <tr>\n",
       "      <th>0</th>\n",
       "      <td>segment(2799.9979,2886.5779,2715.0032,2797.570...</td>\n",
       "      <td>red</td>\n",
       "      <td>3</td>\n",
       "    </tr>\n",
       "    <tr>\n",
       "      <th>1</th>\n",
       "      <td>segment(2857.0003,2830.5703,2759.9982,2772.573...</td>\n",
       "      <td>red</td>\n",
       "      <td>3</td>\n",
       "    </tr>\n",
       "    <tr>\n",
       "      <th>2</th>\n",
       "      <td>segment(2612.9964,2824.5755,2708.7733,2805.8089)</td>\n",
       "      <td>red</td>\n",
       "      <td>3</td>\n",
       "    </tr>\n",
       "    <tr>\n",
       "      <th>3</th>\n",
       "      <td>segment(2655.0037,2794.5735,2613.9955,2756.5784)</td>\n",
       "      <td>red</td>\n",
       "      <td>3</td>\n",
       "    </tr>\n",
       "    <tr>\n",
       "      <th>4</th>\n",
       "      <td>segment(3004.443,2762.0149,3084.76,2774.2514,3...</td>\n",
       "      <td>red</td>\n",
       "      <td>3</td>\n",
       "    </tr>\n",
       "  </tbody>\n",
       "</table>\n",
       "</div>"
      ],
      "text/plain": [
       "                                            segments segments_color  \\\n",
       "0  segment(2799.9979,2886.5779,2715.0032,2797.570...            red   \n",
       "1  segment(2857.0003,2830.5703,2759.9982,2772.573...            red   \n",
       "2   segment(2612.9964,2824.5755,2708.7733,2805.8089)            red   \n",
       "3   segment(2655.0037,2794.5735,2613.9955,2756.5784)            red   \n",
       "4  segment(3004.443,2762.0149,3084.76,2774.2514,3...            red   \n",
       "\n",
       "  segments_width  \n",
       "0              3  \n",
       "1              3  \n",
       "2              3  \n",
       "3              3  \n",
       "4              3  "
      ]
     },
     "execution_count": 5,
     "metadata": {},
     "output_type": "execute_result"
    }
   ],
   "source": [
    "# Removing the string before the '=' sign for the CoLour and Width columns\n",
    "df_fractures['segments_width'] = df_fractures['segments_width'].str.split('=').str[1]\n",
    "df_fractures['segments_color'] = df_fractures['segments_color'].str.split('=').str[1]\n",
    "\n",
    "df_fractures.head()"
   ]
  },
  {
   "cell_type": "code",
   "execution_count": 6,
   "metadata": {},
   "outputs": [
    {
     "data": {
      "text/html": [
       "<div>\n",
       "<style scoped>\n",
       "    .dataframe tbody tr th:only-of-type {\n",
       "        vertical-align: middle;\n",
       "    }\n",
       "\n",
       "    .dataframe tbody tr th {\n",
       "        vertical-align: top;\n",
       "    }\n",
       "\n",
       "    .dataframe thead th {\n",
       "        text-align: right;\n",
       "    }\n",
       "</style>\n",
       "<table border=\"1\" class=\"dataframe\">\n",
       "  <thead>\n",
       "    <tr style=\"text-align: right;\">\n",
       "      <th></th>\n",
       "      <th>segments</th>\n",
       "      <th>segments_color</th>\n",
       "      <th>segments_width</th>\n",
       "    </tr>\n",
       "  </thead>\n",
       "  <tbody>\n",
       "    <tr>\n",
       "      <th>0</th>\n",
       "      <td>2799.9979,2886.5779,2715.0032,2797.5709,2704.0...</td>\n",
       "      <td>red</td>\n",
       "      <td>3</td>\n",
       "    </tr>\n",
       "    <tr>\n",
       "      <th>1</th>\n",
       "      <td>2857.0003,2830.5703,2759.9982,2772.5739,2755.0...</td>\n",
       "      <td>red</td>\n",
       "      <td>3</td>\n",
       "    </tr>\n",
       "    <tr>\n",
       "      <th>2</th>\n",
       "      <td>2612.9964,2824.5755,2708.7733,2805.8089</td>\n",
       "      <td>red</td>\n",
       "      <td>3</td>\n",
       "    </tr>\n",
       "    <tr>\n",
       "      <th>3</th>\n",
       "      <td>2655.0037,2794.5735,2613.9955,2756.5784</td>\n",
       "      <td>red</td>\n",
       "      <td>3</td>\n",
       "    </tr>\n",
       "    <tr>\n",
       "      <th>4</th>\n",
       "      <td>3004.443,2762.0149,3084.76,2774.2514,3121.4356...</td>\n",
       "      <td>red</td>\n",
       "      <td>3</td>\n",
       "    </tr>\n",
       "  </tbody>\n",
       "</table>\n",
       "</div>"
      ],
      "text/plain": [
       "                                            segments segments_color  \\\n",
       "0  2799.9979,2886.5779,2715.0032,2797.5709,2704.0...            red   \n",
       "1  2857.0003,2830.5703,2759.9982,2772.5739,2755.0...            red   \n",
       "2            2612.9964,2824.5755,2708.7733,2805.8089            red   \n",
       "3            2655.0037,2794.5735,2613.9955,2756.5784            red   \n",
       "4  3004.443,2762.0149,3084.76,2774.2514,3121.4356...            red   \n",
       "\n",
       "  segments_width  \n",
       "0              3  \n",
       "1              3  \n",
       "2              3  \n",
       "3              3  \n",
       "4              3  "
      ]
     },
     "execution_count": 6,
     "metadata": {},
     "output_type": "execute_result"
    }
   ],
   "source": [
    "# Extracting the insides of parantheses and removing the rest\n",
    "df_fractures['segments'] = df_fractures['segments'].apply(lambda s: s[s.find('(')+1:s.find(')')])\n",
    "\n",
    "df_fractures.head()"
   ]
  },
  {
   "cell_type": "markdown",
   "metadata": {},
   "source": [
    "<a id='2'></a>\n",
    "## Direction Classification"
   ]
  },
  {
   "cell_type": "code",
   "execution_count": 7,
   "metadata": {},
   "outputs": [
    {
     "data": {
      "text/html": [
       "<div>\n",
       "<style scoped>\n",
       "    .dataframe tbody tr th:only-of-type {\n",
       "        vertical-align: middle;\n",
       "    }\n",
       "\n",
       "    .dataframe tbody tr th {\n",
       "        vertical-align: top;\n",
       "    }\n",
       "\n",
       "    .dataframe thead th {\n",
       "        text-align: right;\n",
       "    }\n",
       "</style>\n",
       "<table border=\"1\" class=\"dataframe\">\n",
       "  <thead>\n",
       "    <tr style=\"text-align: right;\">\n",
       "      <th></th>\n",
       "      <th>segments</th>\n",
       "      <th>segments_color</th>\n",
       "      <th>segments_width</th>\n",
       "      <th>Xmin</th>\n",
       "      <th>Xmax</th>\n",
       "      <th>Ymin</th>\n",
       "      <th>Ymax</th>\n",
       "      <th>fracture_height</th>\n",
       "      <th>fracture_length</th>\n",
       "      <th>fracture_direction</th>\n",
       "    </tr>\n",
       "  </thead>\n",
       "  <tbody>\n",
       "    <tr>\n",
       "      <th>0</th>\n",
       "      <td>2799.9979,2886.5779,2715.0032,2797.5709,2704.0...</td>\n",
       "      <td>red</td>\n",
       "      <td>3</td>\n",
       "      <td>None</td>\n",
       "      <td>None</td>\n",
       "      <td>None</td>\n",
       "      <td>None</td>\n",
       "      <td>None</td>\n",
       "      <td>None</td>\n",
       "      <td>None</td>\n",
       "    </tr>\n",
       "    <tr>\n",
       "      <th>1</th>\n",
       "      <td>2857.0003,2830.5703,2759.9982,2772.5739,2755.0...</td>\n",
       "      <td>red</td>\n",
       "      <td>3</td>\n",
       "      <td>None</td>\n",
       "      <td>None</td>\n",
       "      <td>None</td>\n",
       "      <td>None</td>\n",
       "      <td>None</td>\n",
       "      <td>None</td>\n",
       "      <td>None</td>\n",
       "    </tr>\n",
       "    <tr>\n",
       "      <th>2</th>\n",
       "      <td>2612.9964,2824.5755,2708.7733,2805.8089</td>\n",
       "      <td>red</td>\n",
       "      <td>3</td>\n",
       "      <td>None</td>\n",
       "      <td>None</td>\n",
       "      <td>None</td>\n",
       "      <td>None</td>\n",
       "      <td>None</td>\n",
       "      <td>None</td>\n",
       "      <td>None</td>\n",
       "    </tr>\n",
       "    <tr>\n",
       "      <th>3</th>\n",
       "      <td>2655.0037,2794.5735,2613.9955,2756.5784</td>\n",
       "      <td>red</td>\n",
       "      <td>3</td>\n",
       "      <td>None</td>\n",
       "      <td>None</td>\n",
       "      <td>None</td>\n",
       "      <td>None</td>\n",
       "      <td>None</td>\n",
       "      <td>None</td>\n",
       "      <td>None</td>\n",
       "    </tr>\n",
       "    <tr>\n",
       "      <th>4</th>\n",
       "      <td>3004.443,2762.0149,3084.76,2774.2514,3121.4356...</td>\n",
       "      <td>red</td>\n",
       "      <td>3</td>\n",
       "      <td>None</td>\n",
       "      <td>None</td>\n",
       "      <td>None</td>\n",
       "      <td>None</td>\n",
       "      <td>None</td>\n",
       "      <td>None</td>\n",
       "      <td>None</td>\n",
       "    </tr>\n",
       "  </tbody>\n",
       "</table>\n",
       "</div>"
      ],
      "text/plain": [
       "                                            segments segments_color  \\\n",
       "0  2799.9979,2886.5779,2715.0032,2797.5709,2704.0...            red   \n",
       "1  2857.0003,2830.5703,2759.9982,2772.5739,2755.0...            red   \n",
       "2            2612.9964,2824.5755,2708.7733,2805.8089            red   \n",
       "3            2655.0037,2794.5735,2613.9955,2756.5784            red   \n",
       "4  3004.443,2762.0149,3084.76,2774.2514,3121.4356...            red   \n",
       "\n",
       "  segments_width  Xmin  Xmax  Ymin  Ymax fracture_height fracture_length  \\\n",
       "0              3  None  None  None  None            None            None   \n",
       "1              3  None  None  None  None            None            None   \n",
       "2              3  None  None  None  None            None            None   \n",
       "3              3  None  None  None  None            None            None   \n",
       "4              3  None  None  None  None            None            None   \n",
       "\n",
       "  fracture_direction  \n",
       "0               None  \n",
       "1               None  \n",
       "2               None  \n",
       "3               None  \n",
       "4               None  "
      ]
     },
     "execution_count": 7,
     "metadata": {},
     "output_type": "execute_result"
    }
   ],
   "source": [
    "# adding new columns\n",
    "df_fractures[[\"Xmin\", \"Xmax\", \"Ymin\", \"Ymax\", \"fracture_height\", \"fracture_length\", \"fracture_direction\"]] = None\n",
    "\n",
    "df_fractures.head()"
   ]
  },
  {
   "cell_type": "markdown",
   "metadata": {},
   "source": [
    "<img src=\"in_cell_images/bennu_fracture.png\">"
   ]
  },
  {
   "cell_type": "code",
   "execution_count": 8,
   "metadata": {},
   "outputs": [],
   "source": [
    "# Iterating over the dataframe to extract Xmin, Xmax, Ymin and Ymax\n",
    "# calculate length ---> (Xmax - Xmin)\n",
    "# calculate height ---> (Ymax - Ymin)\n",
    "# decide direction (if height>length --> vertical, if length>height --> horizontal)\n",
    "\n",
    "for index, row in df_fractures.iterrows():\n",
    "\n",
    "    # Read segments attribute from the df\n",
    "    s_segments = row['segments']\n",
    "    # Converting the string to list\n",
    "    l_segments = s_segments.split(\",\")\n",
    "\n",
    "    # Separating X(Even) and Y(Odd) values by checking the indices and saving into two different lists \n",
    "    x_values = [float(y) for x,y in enumerate(l_segments) if x%2 == 0]\n",
    "    y_values = [float(y) for x,y in enumerate(l_segments) if x%2 != 0]\n",
    "    \n",
    "    Xmin, Xmax, Ymin, Ymax = min(x_values), max(x_values), min(y_values), max(y_values)\n",
    "\n",
    "    df_fractures['Xmin'][index] = Xmin\n",
    "    df_fractures['Xmax'][index] = Xmax\n",
    "    df_fractures['Ymin'][index] = Ymin\n",
    "    df_fractures['Ymax'][index] = Ymax\n",
    "\n",
    "    height = Ymax - Ymin\n",
    "    length = Xmax - Xmin\n",
    "\n",
    "    df_fractures['fracture_height'][index] = height\n",
    "    df_fractures['fracture_length'][index] = length\n",
    "\n",
    "    if height > length:\n",
    "        df_fractures['fracture_direction'][index] = \"Vertical\"\n",
    "    else:\n",
    "        df_fractures['fracture_direction'][index] = \"Horizontal\"\n"
   ]
  },
  {
   "cell_type": "code",
   "execution_count": 9,
   "metadata": {},
   "outputs": [],
   "source": [
    "# Changing the colour of the fractures according to the direction of the fractures, whether they are vertical or horizontal\n",
    "df_fractures.loc[df_fractures.fracture_direction == \"Vertical\", \"segments_color\"] = \"yellow\"\n",
    "df_fractures.loc[df_fractures.fracture_direction == \"Horizontal\", \"segments_color\"] = \"blue\""
   ]
  },
  {
   "cell_type": "code",
   "execution_count": 10,
   "metadata": {},
   "outputs": [],
   "source": [
    "# give each fracture, a fracture_id (using the index column)\n",
    "df_fractures.insert (0, \"fracture_id\", df_fractures.index)"
   ]
  },
  {
   "cell_type": "code",
   "execution_count": 11,
   "metadata": {},
   "outputs": [
    {
     "data": {
      "text/html": [
       "<div>\n",
       "<style scoped>\n",
       "    .dataframe tbody tr th:only-of-type {\n",
       "        vertical-align: middle;\n",
       "    }\n",
       "\n",
       "    .dataframe tbody tr th {\n",
       "        vertical-align: top;\n",
       "    }\n",
       "\n",
       "    .dataframe thead th {\n",
       "        text-align: right;\n",
       "    }\n",
       "</style>\n",
       "<table border=\"1\" class=\"dataframe\">\n",
       "  <thead>\n",
       "    <tr style=\"text-align: right;\">\n",
       "      <th></th>\n",
       "      <th>fracture_id</th>\n",
       "      <th>segments</th>\n",
       "      <th>segments_color</th>\n",
       "      <th>segments_width</th>\n",
       "      <th>Xmin</th>\n",
       "      <th>Xmax</th>\n",
       "      <th>Ymin</th>\n",
       "      <th>Ymax</th>\n",
       "      <th>fracture_height</th>\n",
       "      <th>fracture_length</th>\n",
       "      <th>fracture_direction</th>\n",
       "    </tr>\n",
       "  </thead>\n",
       "  <tbody>\n",
       "    <tr>\n",
       "      <th>0</th>\n",
       "      <td>0</td>\n",
       "      <td>2799.9979,2886.5779,2715.0032,2797.5709,2704.0...</td>\n",
       "      <td>yellow</td>\n",
       "      <td>3</td>\n",
       "      <td>2704.0042</td>\n",
       "      <td>2799.9979</td>\n",
       "      <td>2726.5764</td>\n",
       "      <td>2886.5779</td>\n",
       "      <td>160.0015</td>\n",
       "      <td>95.9937</td>\n",
       "      <td>Vertical</td>\n",
       "    </tr>\n",
       "    <tr>\n",
       "      <th>1</th>\n",
       "      <td>1</td>\n",
       "      <td>2857.0003,2830.5703,2759.9982,2772.5739,2755.0...</td>\n",
       "      <td>blue</td>\n",
       "      <td>3</td>\n",
       "      <td>2755.0029</td>\n",
       "      <td>2857.0003</td>\n",
       "      <td>2736.5771</td>\n",
       "      <td>2830.5703</td>\n",
       "      <td>93.9932</td>\n",
       "      <td>101.9974</td>\n",
       "      <td>Horizontal</td>\n",
       "    </tr>\n",
       "    <tr>\n",
       "      <th>2</th>\n",
       "      <td>2</td>\n",
       "      <td>2612.9964,2824.5755,2708.7733,2805.8089</td>\n",
       "      <td>blue</td>\n",
       "      <td>3</td>\n",
       "      <td>2612.9964</td>\n",
       "      <td>2708.7733</td>\n",
       "      <td>2805.8089</td>\n",
       "      <td>2824.5755</td>\n",
       "      <td>18.7666</td>\n",
       "      <td>95.7769</td>\n",
       "      <td>Horizontal</td>\n",
       "    </tr>\n",
       "    <tr>\n",
       "      <th>3</th>\n",
       "      <td>3</td>\n",
       "      <td>2655.0037,2794.5735,2613.9955,2756.5784</td>\n",
       "      <td>blue</td>\n",
       "      <td>3</td>\n",
       "      <td>2613.9955</td>\n",
       "      <td>2655.0037</td>\n",
       "      <td>2756.5784</td>\n",
       "      <td>2794.5735</td>\n",
       "      <td>37.9951</td>\n",
       "      <td>41.0082</td>\n",
       "      <td>Horizontal</td>\n",
       "    </tr>\n",
       "    <tr>\n",
       "      <th>4</th>\n",
       "      <td>4</td>\n",
       "      <td>3004.443,2762.0149,3084.76,2774.2514,3121.4356...</td>\n",
       "      <td>blue</td>\n",
       "      <td>3</td>\n",
       "      <td>3004.443</td>\n",
       "      <td>3121.4356</td>\n",
       "      <td>2762.0149</td>\n",
       "      <td>2778.0103</td>\n",
       "      <td>15.9954</td>\n",
       "      <td>116.9926</td>\n",
       "      <td>Horizontal</td>\n",
       "    </tr>\n",
       "  </tbody>\n",
       "</table>\n",
       "</div>"
      ],
      "text/plain": [
       "   fracture_id                                           segments  \\\n",
       "0            0  2799.9979,2886.5779,2715.0032,2797.5709,2704.0...   \n",
       "1            1  2857.0003,2830.5703,2759.9982,2772.5739,2755.0...   \n",
       "2            2            2612.9964,2824.5755,2708.7733,2805.8089   \n",
       "3            3            2655.0037,2794.5735,2613.9955,2756.5784   \n",
       "4            4  3004.443,2762.0149,3084.76,2774.2514,3121.4356...   \n",
       "\n",
       "  segments_color segments_width       Xmin       Xmax       Ymin       Ymax  \\\n",
       "0         yellow              3  2704.0042  2799.9979  2726.5764  2886.5779   \n",
       "1           blue              3  2755.0029  2857.0003  2736.5771  2830.5703   \n",
       "2           blue              3  2612.9964  2708.7733  2805.8089  2824.5755   \n",
       "3           blue              3  2613.9955  2655.0037  2756.5784  2794.5735   \n",
       "4           blue              3   3004.443  3121.4356  2762.0149  2778.0103   \n",
       "\n",
       "  fracture_height fracture_length fracture_direction  \n",
       "0        160.0015         95.9937           Vertical  \n",
       "1         93.9932        101.9974         Horizontal  \n",
       "2         18.7666         95.7769         Horizontal  \n",
       "3         37.9951         41.0082         Horizontal  \n",
       "4         15.9954        116.9926         Horizontal  "
      ]
     },
     "execution_count": 11,
     "metadata": {},
     "output_type": "execute_result"
    }
   ],
   "source": [
    "# check the final table\n",
    "df_fractures.head()"
   ]
  },
  {
   "cell_type": "code",
   "execution_count": 12,
   "metadata": {},
   "outputs": [],
   "source": [
    "# create output folder if not exist\n",
    "if not os.path.exists('output'):\n",
    "    os.makedirs('output')\n",
    "\n",
    "# save dataframe to csv\n",
    "df_fractures.to_csv('./output/df_fractures_1.csv', index=False)"
   ]
  },
  {
   "cell_type": "code",
   "execution_count": 13,
   "metadata": {},
   "outputs": [
    {
     "data": {
      "text/plain": [
       "fracture_direction\n",
       "Horizontal    571\n",
       "Vertical      958\n",
       "Name: fracture_direction, dtype: int64"
      ]
     },
     "execution_count": 13,
     "metadata": {},
     "output_type": "execute_result"
    }
   ],
   "source": [
    "# now we can count how many vertical, how many horizontal\n",
    "df_fractures_counted = df_fractures.groupby('fracture_direction')['fracture_direction'].count()\n",
    "\n",
    "df_fractures_counted"
   ]
  },
  {
   "cell_type": "code",
   "execution_count": 14,
   "metadata": {},
   "outputs": [
    {
     "data": {
      "text/plain": [
       "<matplotlib.legend.Legend at 0x1c1c1801070>"
      ]
     },
     "execution_count": 14,
     "metadata": {},
     "output_type": "execute_result"
    },
    {
     "data": {
      "image/png": "[encoded data removed]",
      "text/plain": [
       "<Figure size 432x432 with 1 Axes>"
      ]
     },
     "metadata": {},
     "output_type": "display_data"
    }
   ],
   "source": [
    "# plot a pie chart\n",
    "df_fractures_counted.plot(kind='pie', autopct='%1.1f%%', explode=[0, 0.1], colors=['blue', 'yellow'], figsize=(6,6))\n",
    "plt.legend(loc=\"upper left\")"
   ]
  },
  {
   "cell_type": "markdown",
   "metadata": {},
   "source": [
    "<a id='3'></a>\n",
    "## New DS9 Regions File Generation"
   ]
  },
  {
   "cell_type": "code",
   "execution_count": 15,
   "metadata": {},
   "outputs": [],
   "source": [
    "# open a new file\n",
    "new_file = open('./output/ds9_physical_new.reg', 'w')\n",
    "\n",
    "# WCS header\n",
    "#header = \"# Region file format: DS9 version 4.1\\nglobal color=green dashlist=8 3 width=1 font=\\\"helvetica 10 normal roman\\\" select=1 highlite=1 dash=0 fixed=0 edit=1 move=1 delete=1 include=1 source=1\\nwcs\\n\"\n",
    "\n",
    "# physical coordinates header\n",
    "header = \"# Region file format: DS9 version 4.1\\nglobal color=green dashlist=8 3 width=1 font=\\\"helvetica 10 normal roman\\\" select=1 highlite=1 dash=0 fixed=0 edit=1 move=1 delete=1 include=1 source=1\\nphysical\\n\"\n",
    "\n",
    "# write header to the new file\n",
    "new_file.write(header)\n",
    "\n",
    "# iterate the datafeame, construct the segments and write into the new file\n",
    "for index, row in df_fractures.iterrows():\n",
    "    s_segments = row['segments']\n",
    "    s_segments_colour = row['segments_color']\n",
    "    \n",
    "    #print(\"# segment(\" + s_segments + \") color=\" + s_segments_colour + \" width=3\")\n",
    "    new_file.write(\"# segment(\" + s_segments + \") color=\" + s_segments_colour + \" width=3\\n\")\n",
    "\n",
    "new_file.close()\n"
   ]
  },
  {
   "cell_type": "markdown",
   "metadata": {},
   "source": [
    "<a id='4'></a>\n",
    "## Drawing Fractures"
   ]
  },
  {
   "cell_type": "code",
   "execution_count": 16,
   "metadata": {},
   "outputs": [],
   "source": [
    "# Reading the image\n",
    "image = cv2.imread('Global_20190321_ShapeV20_200kfacets_FB3.png')\n",
    "# flip the image vertically\n",
    "# this is beacuse our coordinates are currently presented on the 'Cartesian Coordinates System'\n",
    "# but in 'Computer Graphics Coordinate System' the coordinates are flipped on the Y axis\n",
    "image = cv2.flip(image, 0)"
   ]
  },
  {
   "cell_type": "code",
   "execution_count": 17,
   "metadata": {},
   "outputs": [
    {
     "data": {
      "text/plain": [
       "True"
      ]
     },
     "execution_count": 17,
     "metadata": {},
     "output_type": "execute_result"
    }
   ],
   "source": [
    "# draw lines\n",
    "for index, row in df_fractures.iterrows():\n",
    "\n",
    "    # Read segment attribute from the df\n",
    "    s_segments = row['segments']\n",
    "\n",
    "    # Converting the string to list\n",
    "    l_segments = s_segments.split(\",\")\n",
    "\n",
    "    # Extract each line's coordinates, color and draw on the image\n",
    "    for x in range(0, (len(l_segments) - 3), 2):\n",
    "\n",
    "        X1, Y1, X2, Y2 = int(float(l_segments[x])), int(float(l_segments[x+1])), int(float(l_segments[x+2])), int(float(l_segments[x+3]))\n",
    "\n",
    "        start_point = (X1, Y1)\n",
    "        end_point = (X2, Y2)\n",
    "\n",
    "        if row['segments_color'] == 'blue':\n",
    "            # Blue color in BGR\n",
    "            color = (255, 0, 0)\n",
    "        elif row['segments_color'] == 'yellow':\n",
    "            # Yellow color in BGR\n",
    "            color = (0, 255, 255)\n",
    "        else:\n",
    "            # White color in BGR\n",
    "            color = (255, 255, 255)\n",
    "\n",
    "        # Line thickness\n",
    "        thickness = 3\n",
    "\n",
    "        image = cv2.line(image, start_point, end_point, color, thickness)\n",
    "\n",
    "# flip the image again and write image in a new jpg file\n",
    "image = cv2.flip(image, 0)\n",
    "cv2.imwrite('./output/bennu_directions_classified.jpg', image)\n"
   ]
  },
  {
   "cell_type": "markdown",
   "metadata": {},
   "source": [
    "### Samples from the Output\n",
    "<img src=\"in_cell_images/vertical_and_horizontal_1.png\">\n",
    "<img src=\"in_cell_images/vertical_and_horizontal_2.png\">"
   ]
  }
 ],
 "metadata": {
  "kernelspec": {
   "display_name": "Python 3.9.12 ('base')",
   "language": "python",
   "name": "python3"
  },
  "language_info": {
   "codemirror_mode": {
    "name": "ipython",
    "version": 3
   },
   "file_extension": ".py",
   "mimetype": "text/x-python",
   "name": "python",
   "nbconvert_exporter": "python",
   "pygments_lexer": "ipython3",
   "version": "3.9.12"
  },
  "orig_nbformat": 4,
  "vscode": {
   "interpreter": {
    "hash": "ef70cde2d7a4c5f354efcdde45384ddb4bf187cd73ff85a7fdd1b636e19ca19d"
   }
  }
 },
 "nbformat": 4,
 "nbformat_minor": 2
}

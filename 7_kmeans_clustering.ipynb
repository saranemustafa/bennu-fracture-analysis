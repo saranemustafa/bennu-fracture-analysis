{
 "cells": [
  {
   "cell_type": "markdown",
   "metadata": {},
   "source": [
    "## 7 - K-means Clustering\n",
    "## Table of Contents\n",
    "<ul>\n",
    "<li><a href=\"#1\">Extracting Feature Vectors</a></li>\n",
    "<li><a href=\"#2\">Prepare data for K-means</a></li>\n",
    "<li><a href=\"#3\">Implement K-means clustering</a></li>\n",
    "<li><a href=\"#4\">Checking the cluster's metrics</a></li>\n",
    "</ul>"
   ]
  },
  {
   "cell_type": "code",
   "execution_count": 1,
   "metadata": {},
   "outputs": [],
   "source": [
    "import pandas as pd\n",
    "import numpy as np\n",
    "import matplotlib.pyplot as plt\n",
    "import cv2\n",
    "from sklearn.cluster import KMeans\n",
    "from sklearn.metrics import silhouette_score"
   ]
  },
  {
   "cell_type": "code",
   "execution_count": 2,
   "metadata": {},
   "outputs": [
    {
     "data": {
      "text/html": [
       "<div>\n",
       "<style scoped>\n",
       "    .dataframe tbody tr th:only-of-type {\n",
       "        vertical-align: middle;\n",
       "    }\n",
       "\n",
       "    .dataframe tbody tr th {\n",
       "        vertical-align: top;\n",
       "    }\n",
       "\n",
       "    .dataframe thead th {\n",
       "        text-align: right;\n",
       "    }\n",
       "</style>\n",
       "<table border=\"1\" class=\"dataframe\">\n",
       "  <thead>\n",
       "    <tr style=\"text-align: right;\">\n",
       "      <th></th>\n",
       "      <th>fracture_id</th>\n",
       "      <th>segments</th>\n",
       "      <th>segments_color</th>\n",
       "      <th>segments_width</th>\n",
       "      <th>Xmin</th>\n",
       "      <th>Xmax</th>\n",
       "      <th>Ymin</th>\n",
       "      <th>Ymax</th>\n",
       "      <th>fracture_height</th>\n",
       "      <th>fracture_length</th>\n",
       "      <th>fracture_direction</th>\n",
       "      <th>total_size</th>\n",
       "      <th>w_average_angle_degree</th>\n",
       "      <th>w_average_brightness</th>\n",
       "    </tr>\n",
       "  </thead>\n",
       "  <tbody>\n",
       "    <tr>\n",
       "      <th>0</th>\n",
       "      <td>0</td>\n",
       "      <td>2799.9979,2886.5779,2715.0032,2797.5709,2704.0...</td>\n",
       "      <td>yellow</td>\n",
       "      <td>3</td>\n",
       "      <td>2704.0042</td>\n",
       "      <td>2799.9979</td>\n",
       "      <td>2726.5764</td>\n",
       "      <td>2886.5779</td>\n",
       "      <td>160.0015</td>\n",
       "      <td>95.9937</td>\n",
       "      <td>Vertical</td>\n",
       "      <td>194.911960</td>\n",
       "      <td>59.174355</td>\n",
       "      <td>164.262832</td>\n",
       "    </tr>\n",
       "    <tr>\n",
       "      <th>1</th>\n",
       "      <td>1</td>\n",
       "      <td>2857.0003,2830.5703,2759.9982,2772.5739,2755.0...</td>\n",
       "      <td>blue</td>\n",
       "      <td>3</td>\n",
       "      <td>2755.0029</td>\n",
       "      <td>2857.0003</td>\n",
       "      <td>2736.5771</td>\n",
       "      <td>2830.5703</td>\n",
       "      <td>93.9932</td>\n",
       "      <td>101.9974</td>\n",
       "      <td>Horizontal</td>\n",
       "      <td>149.359400</td>\n",
       "      <td>43.338584</td>\n",
       "      <td>155.376969</td>\n",
       "    </tr>\n",
       "    <tr>\n",
       "      <th>2</th>\n",
       "      <td>2</td>\n",
       "      <td>2612.9964,2824.5755,2708.7733,2805.8089</td>\n",
       "      <td>blue</td>\n",
       "      <td>3</td>\n",
       "      <td>2612.9964</td>\n",
       "      <td>2708.7733</td>\n",
       "      <td>2805.8089</td>\n",
       "      <td>2824.5755</td>\n",
       "      <td>18.7666</td>\n",
       "      <td>95.7769</td>\n",
       "      <td>Horizontal</td>\n",
       "      <td>97.598155</td>\n",
       "      <td>168.913872</td>\n",
       "      <td>152.000000</td>\n",
       "    </tr>\n",
       "    <tr>\n",
       "      <th>3</th>\n",
       "      <td>3</td>\n",
       "      <td>2655.0037,2794.5735,2613.9955,2756.5784</td>\n",
       "      <td>blue</td>\n",
       "      <td>3</td>\n",
       "      <td>2613.9955</td>\n",
       "      <td>2655.0037</td>\n",
       "      <td>2756.5784</td>\n",
       "      <td>2794.5735</td>\n",
       "      <td>37.9951</td>\n",
       "      <td>41.0082</td>\n",
       "      <td>Horizontal</td>\n",
       "      <td>55.904383</td>\n",
       "      <td>42.815860</td>\n",
       "      <td>160.000000</td>\n",
       "    </tr>\n",
       "    <tr>\n",
       "      <th>4</th>\n",
       "      <td>4</td>\n",
       "      <td>3004.443,2762.0149,3084.76,2774.2514,3121.4356...</td>\n",
       "      <td>blue</td>\n",
       "      <td>3</td>\n",
       "      <td>3004.4430</td>\n",
       "      <td>3121.4356</td>\n",
       "      <td>2762.0149</td>\n",
       "      <td>2778.0103</td>\n",
       "      <td>15.9954</td>\n",
       "      <td>116.9926</td>\n",
       "      <td>Horizontal</td>\n",
       "      <td>118.111506</td>\n",
       "      <td>7.785202</td>\n",
       "      <td>171.300731</td>\n",
       "    </tr>\n",
       "  </tbody>\n",
       "</table>\n",
       "</div>"
      ],
      "text/plain": [
       "   fracture_id                                           segments  \\\n",
       "0            0  2799.9979,2886.5779,2715.0032,2797.5709,2704.0...   \n",
       "1            1  2857.0003,2830.5703,2759.9982,2772.5739,2755.0...   \n",
       "2            2            2612.9964,2824.5755,2708.7733,2805.8089   \n",
       "3            3            2655.0037,2794.5735,2613.9955,2756.5784   \n",
       "4            4  3004.443,2762.0149,3084.76,2774.2514,3121.4356...   \n",
       "\n",
       "  segments_color  segments_width       Xmin       Xmax       Ymin       Ymax  \\\n",
       "0         yellow               3  2704.0042  2799.9979  2726.5764  2886.5779   \n",
       "1           blue               3  2755.0029  2857.0003  2736.5771  2830.5703   \n",
       "2           blue               3  2612.9964  2708.7733  2805.8089  2824.5755   \n",
       "3           blue               3  2613.9955  2655.0037  2756.5784  2794.5735   \n",
       "4           blue               3  3004.4430  3121.4356  2762.0149  2778.0103   \n",
       "\n",
       "   fracture_height  fracture_length fracture_direction  total_size  \\\n",
       "0         160.0015          95.9937           Vertical  194.911960   \n",
       "1          93.9932         101.9974         Horizontal  149.359400   \n",
       "2          18.7666          95.7769         Horizontal   97.598155   \n",
       "3          37.9951          41.0082         Horizontal   55.904383   \n",
       "4          15.9954         116.9926         Horizontal  118.111506   \n",
       "\n",
       "   w_average_angle_degree  w_average_brightness  \n",
       "0               59.174355            164.262832  \n",
       "1               43.338584            155.376969  \n",
       "2              168.913872            152.000000  \n",
       "3               42.815860            160.000000  \n",
       "4                7.785202            171.300731  "
      ]
     },
     "execution_count": 2,
     "metadata": {},
     "output_type": "execute_result"
    }
   ],
   "source": [
    "df_fractures = pd.read_csv(\"./output/df_fractures_4.csv\")\n",
    "\n",
    "df_fractures.head()"
   ]
  },
  {
   "cell_type": "code",
   "execution_count": 3,
   "metadata": {},
   "outputs": [],
   "source": [
    "# Reading the image grayscale\n",
    "image = cv2.imread('Global_20190321_ShapeV20_200kfacets_FB3.png', cv2.IMREAD_GRAYSCALE)\n",
    "\n",
    "image = cv2.flip(image, 0)"
   ]
  },
  {
   "cell_type": "markdown",
   "metadata": {},
   "source": [
    "<a id='1'></a>\n",
    "### Extracting Feature Vectors"
   ]
  },
  {
   "cell_type": "code",
   "execution_count": 4,
   "metadata": {},
   "outputs": [],
   "source": [
    "def crop_hist(index, plot=False):\n",
    "\n",
    "    Xmin, Xmax, Ymin, Ymax = int(df_fractures['Xmin'][index]), int(df_fractures['Xmax'][index]), int(df_fractures['Ymin'][index]), int(df_fractures['Ymax'][index])\n",
    "\n",
    "    # Extending the frame 5 pixels if the fracture is completely horizontal or vertical\n",
    "    fracture_height = int(df_fractures['fracture_height'][index])\n",
    "    fracture_length = int(df_fractures['fracture_length'][index])\n",
    "\n",
    "    if fracture_height < 1:\n",
    "        Ymin = Ymin - 5\n",
    "        Ymax = Ymax + 5\n",
    "\n",
    "    if fracture_length < 1:\n",
    "        Xmin = Xmin - 5\n",
    "        Xmax = Xmax + 5\n",
    "\n",
    "    cropped_image = image[Ymin:Ymax, Xmin:Xmax]\n",
    "\n",
    "    number_of_bins = 10\n",
    "    hist_values = np.histogram(cropped_image.ravel(), number_of_bins, [0, 256], density=True)[0]\n",
    "\n",
    "    if plot == True:\n",
    "\n",
    "        fig = plt.figure(figsize=(9, 3))\n",
    "\n",
    "        rows, columns = 1, 3\n",
    "\n",
    "        fig.add_subplot(rows, columns, 1)\n",
    "\n",
    "        plt.imshow(cropped_image, cmap=\"gray\")\n",
    "        plt.axis('off')\n",
    "        plt.title(\"Cropped Image\")\n",
    "\n",
    "        fig.add_subplot(rows, columns, 2)\n",
    "\n",
    "        plt.hist(cropped_image.ravel(), number_of_bins, [0, 256])\n",
    "        plt.title(\"Histogram\")\n",
    "\n",
    "        fig.add_subplot(rows, columns, 3)\n",
    "\n",
    "        plt.hist(cropped_image.ravel(), number_of_bins,\n",
    "                 [0, 256], density=True, color=\"black\")\n",
    "        plt.title(\"Normalised Histogram\")\n",
    "\n",
    "        fig.tight_layout()\n",
    "        plt.show()\n",
    "\n",
    "    return hist_values"
   ]
  },
  {
   "cell_type": "code",
   "execution_count": 5,
   "metadata": {},
   "outputs": [
    {
     "data": {
      "image/png": "[encoded data removed]",
      "text/plain": [
       "<Figure size 648x216 with 3 Axes>"
      ]
     },
     "metadata": {
      "needs_background": "light"
     },
     "output_type": "display_data"
    },
    {
     "data": {
      "text/plain": [
       "array([2.42439717e-03, 1.99033479e-03, 3.07860452e-03, 5.88817756e-03,\n",
       "       9.90403298e-03, 1.07519181e-02, 4.25686279e-03, 7.30806596e-04,\n",
       "       2.77127342e-05, 9.65275010e-06])"
      ]
     },
     "execution_count": 5,
     "metadata": {},
     "output_type": "execute_result"
    }
   ],
   "source": [
    "crop_hist(1357, plot = True)"
   ]
  },
  {
   "cell_type": "markdown",
   "metadata": {},
   "source": [
    "<a id='2'></a>\n",
    "### Prepare data for K-means"
   ]
  },
  {
   "cell_type": "code",
   "execution_count": 6,
   "metadata": {},
   "outputs": [
    {
     "data": {
      "text/plain": [
       "(1529, 8)"
      ]
     },
     "execution_count": 6,
     "metadata": {},
     "output_type": "execute_result"
    }
   ],
   "source": [
    "# creating an array to store feature vectors from each fracture image\n",
    "feature_vectors = np.zeros((df_fractures.shape[0],8), dtype='float32')\n",
    "feature_vectors.shape"
   ]
  },
  {
   "cell_type": "code",
   "execution_count": 7,
   "metadata": {},
   "outputs": [],
   "source": [
    "# loop all fracture images, extract histogram and save to the 'feature_vectors' array\n",
    "for i in range(df_fractures.shape[0]):\n",
    "    feature_vector = crop_hist(index = i, plot = False)\n",
    "    \n",
    "    # remove first two bin values to threshold the shadows and insert into 'feature_vectors' array\n",
    "    feature_vectors[i, :] = feature_vector[2:]"
   ]
  },
  {
   "cell_type": "markdown",
   "metadata": {},
   "source": [
    "<a id='3'></a>\n",
    "### Implement K-means clustering"
   ]
  },
  {
   "cell_type": "code",
   "execution_count": 8,
   "metadata": {},
   "outputs": [
    {
     "data": {
      "text/plain": [
       "'\\n# define stopping criteria\\n# the number of max iterations can be changed for faster convergence\\ncriteria = (cv2.TERM_CRITERIA_EPS + cv2.TERM_CRITERIA_MAX_ITER, 100, 0.01)\\n\\n# Select a value for k\\n# then perform k-means clustering\\nk = 3\\n\\nretval, labels, centers = cv2.kmeans(feature_vectors, k, None, criteria, 10, cv2.KMEANS_RANDOM_CENTERS)\\n'"
      ]
     },
     "execution_count": 8,
     "metadata": {},
     "output_type": "execute_result"
    }
   ],
   "source": [
    "# Using OpenCV\n",
    "\n",
    "\"\"\"\n",
    "# define stopping criteria\n",
    "# the number of max iterations can be changed for faster convergence\n",
    "criteria = (cv2.TERM_CRITERIA_EPS + cv2.TERM_CRITERIA_MAX_ITER, 100, 0.01)\n",
    "\n",
    "# Select a value for k\n",
    "# then perform k-means clustering\n",
    "k = 3\n",
    "\n",
    "retval, labels, centers = cv2.kmeans(feature_vectors, k, None, criteria, 10, cv2.KMEANS_RANDOM_CENTERS)\n",
    "\"\"\""
   ]
  },
  {
   "cell_type": "code",
   "execution_count": 9,
   "metadata": {},
   "outputs": [
    {
     "data": {
      "text/plain": [
       "array([2, 2, 2, ..., 1, 1, 1])"
      ]
     },
     "execution_count": 9,
     "metadata": {},
     "output_type": "execute_result"
    }
   ],
   "source": [
    "# Using scikit-learn\n",
    "\n",
    "n = 4\n",
    "\n",
    "kmeans = KMeans(n_clusters=n, random_state=0).fit(feature_vectors)\n",
    "\n",
    "labels = kmeans.labels_\n",
    "\n",
    "labels"
   ]
  },
  {
   "cell_type": "code",
   "execution_count": 10,
   "metadata": {},
   "outputs": [
    {
     "data": {
      "text/plain": [
       "array([[2.9148185e-04, 4.8443989e-04, 7.5005228e-04, 1.4462173e-03,\n",
       "        2.9190634e-03, 5.8259899e-03, 1.2058051e-02, 1.4595829e-02],\n",
       "       [7.0661068e-04, 1.1868197e-03, 2.0178461e-03, 3.7600556e-03,\n",
       "        7.4579301e-03, 1.1802067e-02, 8.8744396e-03, 2.1032300e-03],\n",
       "       [9.9429570e-04, 1.8653350e-03, 3.9946567e-03, 9.7509846e-03,\n",
       "        1.4580362e-02, 5.4175653e-03, 8.9897169e-04, 1.9740965e-04],\n",
       "       [2.9159598e-03, 5.2219843e-03, 9.0656066e-03, 1.1225214e-02,\n",
       "        4.6295887e-03, 1.0034926e-03, 3.2091187e-04, 9.2518516e-05]],\n",
       "      dtype=float32)"
      ]
     },
     "execution_count": 10,
     "metadata": {},
     "output_type": "execute_result"
    }
   ],
   "source": [
    "kmeans.cluster_centers_"
   ]
  },
  {
   "cell_type": "code",
   "execution_count": 11,
   "metadata": {},
   "outputs": [
    {
     "data": {
      "text/html": [
       "<div>\n",
       "<style scoped>\n",
       "    .dataframe tbody tr th:only-of-type {\n",
       "        vertical-align: middle;\n",
       "    }\n",
       "\n",
       "    .dataframe tbody tr th {\n",
       "        vertical-align: top;\n",
       "    }\n",
       "\n",
       "    .dataframe thead th {\n",
       "        text-align: right;\n",
       "    }\n",
       "</style>\n",
       "<table border=\"1\" class=\"dataframe\">\n",
       "  <thead>\n",
       "    <tr style=\"text-align: right;\">\n",
       "      <th></th>\n",
       "      <th>fracture_id</th>\n",
       "      <th>segments</th>\n",
       "      <th>segments_color</th>\n",
       "      <th>segments_width</th>\n",
       "      <th>Xmin</th>\n",
       "      <th>Xmax</th>\n",
       "      <th>Ymin</th>\n",
       "      <th>Ymax</th>\n",
       "      <th>fracture_height</th>\n",
       "      <th>fracture_length</th>\n",
       "      <th>fracture_direction</th>\n",
       "      <th>total_size</th>\n",
       "      <th>w_average_angle_degree</th>\n",
       "      <th>w_average_brightness</th>\n",
       "      <th>kmeans_cluster_id</th>\n",
       "    </tr>\n",
       "  </thead>\n",
       "  <tbody>\n",
       "    <tr>\n",
       "      <th>0</th>\n",
       "      <td>0</td>\n",
       "      <td>2799.9979,2886.5779,2715.0032,2797.5709,2704.0...</td>\n",
       "      <td>yellow</td>\n",
       "      <td>3</td>\n",
       "      <td>2704.0042</td>\n",
       "      <td>2799.9979</td>\n",
       "      <td>2726.5764</td>\n",
       "      <td>2886.5779</td>\n",
       "      <td>160.0015</td>\n",
       "      <td>95.9937</td>\n",
       "      <td>Vertical</td>\n",
       "      <td>194.911960</td>\n",
       "      <td>59.174355</td>\n",
       "      <td>164.262832</td>\n",
       "      <td>2</td>\n",
       "    </tr>\n",
       "    <tr>\n",
       "      <th>1</th>\n",
       "      <td>1</td>\n",
       "      <td>2857.0003,2830.5703,2759.9982,2772.5739,2755.0...</td>\n",
       "      <td>blue</td>\n",
       "      <td>3</td>\n",
       "      <td>2755.0029</td>\n",
       "      <td>2857.0003</td>\n",
       "      <td>2736.5771</td>\n",
       "      <td>2830.5703</td>\n",
       "      <td>93.9932</td>\n",
       "      <td>101.9974</td>\n",
       "      <td>Horizontal</td>\n",
       "      <td>149.359400</td>\n",
       "      <td>43.338584</td>\n",
       "      <td>155.376969</td>\n",
       "      <td>2</td>\n",
       "    </tr>\n",
       "    <tr>\n",
       "      <th>2</th>\n",
       "      <td>2</td>\n",
       "      <td>2612.9964,2824.5755,2708.7733,2805.8089</td>\n",
       "      <td>blue</td>\n",
       "      <td>3</td>\n",
       "      <td>2612.9964</td>\n",
       "      <td>2708.7733</td>\n",
       "      <td>2805.8089</td>\n",
       "      <td>2824.5755</td>\n",
       "      <td>18.7666</td>\n",
       "      <td>95.7769</td>\n",
       "      <td>Horizontal</td>\n",
       "      <td>97.598155</td>\n",
       "      <td>168.913872</td>\n",
       "      <td>152.000000</td>\n",
       "      <td>2</td>\n",
       "    </tr>\n",
       "    <tr>\n",
       "      <th>3</th>\n",
       "      <td>3</td>\n",
       "      <td>2655.0037,2794.5735,2613.9955,2756.5784</td>\n",
       "      <td>blue</td>\n",
       "      <td>3</td>\n",
       "      <td>2613.9955</td>\n",
       "      <td>2655.0037</td>\n",
       "      <td>2756.5784</td>\n",
       "      <td>2794.5735</td>\n",
       "      <td>37.9951</td>\n",
       "      <td>41.0082</td>\n",
       "      <td>Horizontal</td>\n",
       "      <td>55.904383</td>\n",
       "      <td>42.815860</td>\n",
       "      <td>160.000000</td>\n",
       "      <td>2</td>\n",
       "    </tr>\n",
       "    <tr>\n",
       "      <th>4</th>\n",
       "      <td>4</td>\n",
       "      <td>3004.443,2762.0149,3084.76,2774.2514,3121.4356...</td>\n",
       "      <td>blue</td>\n",
       "      <td>3</td>\n",
       "      <td>3004.4430</td>\n",
       "      <td>3121.4356</td>\n",
       "      <td>2762.0149</td>\n",
       "      <td>2778.0103</td>\n",
       "      <td>15.9954</td>\n",
       "      <td>116.9926</td>\n",
       "      <td>Horizontal</td>\n",
       "      <td>118.111506</td>\n",
       "      <td>7.785202</td>\n",
       "      <td>171.300731</td>\n",
       "      <td>2</td>\n",
       "    </tr>\n",
       "  </tbody>\n",
       "</table>\n",
       "</div>"
      ],
      "text/plain": [
       "   fracture_id                                           segments  \\\n",
       "0            0  2799.9979,2886.5779,2715.0032,2797.5709,2704.0...   \n",
       "1            1  2857.0003,2830.5703,2759.9982,2772.5739,2755.0...   \n",
       "2            2            2612.9964,2824.5755,2708.7733,2805.8089   \n",
       "3            3            2655.0037,2794.5735,2613.9955,2756.5784   \n",
       "4            4  3004.443,2762.0149,3084.76,2774.2514,3121.4356...   \n",
       "\n",
       "  segments_color  segments_width       Xmin       Xmax       Ymin       Ymax  \\\n",
       "0         yellow               3  2704.0042  2799.9979  2726.5764  2886.5779   \n",
       "1           blue               3  2755.0029  2857.0003  2736.5771  2830.5703   \n",
       "2           blue               3  2612.9964  2708.7733  2805.8089  2824.5755   \n",
       "3           blue               3  2613.9955  2655.0037  2756.5784  2794.5735   \n",
       "4           blue               3  3004.4430  3121.4356  2762.0149  2778.0103   \n",
       "\n",
       "   fracture_height  fracture_length fracture_direction  total_size  \\\n",
       "0         160.0015          95.9937           Vertical  194.911960   \n",
       "1          93.9932         101.9974         Horizontal  149.359400   \n",
       "2          18.7666          95.7769         Horizontal   97.598155   \n",
       "3          37.9951          41.0082         Horizontal   55.904383   \n",
       "4          15.9954         116.9926         Horizontal  118.111506   \n",
       "\n",
       "   w_average_angle_degree  w_average_brightness  kmeans_cluster_id  \n",
       "0               59.174355            164.262832                  2  \n",
       "1               43.338584            155.376969                  2  \n",
       "2              168.913872            152.000000                  2  \n",
       "3               42.815860            160.000000                  2  \n",
       "4                7.785202            171.300731                  2  "
      ]
     },
     "execution_count": 11,
     "metadata": {},
     "output_type": "execute_result"
    }
   ],
   "source": [
    "# assign the labels (the id of the cluster) from kmeans to the dataframe as a new column\n",
    "df_fractures['kmeans_cluster_id'] = kmeans.labels_\n",
    "\n",
    "df_fractures.head()"
   ]
  },
  {
   "cell_type": "code",
   "execution_count": 12,
   "metadata": {},
   "outputs": [
    {
     "data": {
      "text/plain": [
       "1    526\n",
       "2    397\n",
       "3    386\n",
       "0    220\n",
       "Name: kmeans_cluster_id, dtype: int64"
      ]
     },
     "execution_count": 12,
     "metadata": {},
     "output_type": "execute_result"
    }
   ],
   "source": [
    "df_fractures['kmeans_cluster_id'].value_counts()"
   ]
  },
  {
   "cell_type": "code",
   "execution_count": 13,
   "metadata": {},
   "outputs": [
    {
     "data": {
      "text/html": [
       "<div>\n",
       "<style scoped>\n",
       "    .dataframe tbody tr th:only-of-type {\n",
       "        vertical-align: middle;\n",
       "    }\n",
       "\n",
       "    .dataframe tbody tr th {\n",
       "        vertical-align: top;\n",
       "    }\n",
       "\n",
       "    .dataframe thead th {\n",
       "        text-align: right;\n",
       "    }\n",
       "</style>\n",
       "<table border=\"1\" class=\"dataframe\">\n",
       "  <thead>\n",
       "    <tr style=\"text-align: right;\">\n",
       "      <th></th>\n",
       "      <th>fracture_id</th>\n",
       "      <th>segments</th>\n",
       "      <th>segments_color</th>\n",
       "      <th>segments_width</th>\n",
       "      <th>Xmin</th>\n",
       "      <th>Xmax</th>\n",
       "      <th>Ymin</th>\n",
       "      <th>Ymax</th>\n",
       "      <th>fracture_height</th>\n",
       "      <th>fracture_length</th>\n",
       "      <th>fracture_direction</th>\n",
       "      <th>total_size</th>\n",
       "      <th>w_average_angle_degree</th>\n",
       "      <th>w_average_brightness</th>\n",
       "      <th>kmeans_cluster_id</th>\n",
       "    </tr>\n",
       "  </thead>\n",
       "  <tbody>\n",
       "    <tr>\n",
       "      <th>0</th>\n",
       "      <td>0</td>\n",
       "      <td>2799.9979,2886.5779,2715.0032,2797.5709,2704.0...</td>\n",
       "      <td>yellow</td>\n",
       "      <td>3</td>\n",
       "      <td>2704.0042</td>\n",
       "      <td>2799.9979</td>\n",
       "      <td>2726.5764</td>\n",
       "      <td>2886.5779</td>\n",
       "      <td>160.0015</td>\n",
       "      <td>95.9937</td>\n",
       "      <td>Vertical</td>\n",
       "      <td>194.911960</td>\n",
       "      <td>59.174355</td>\n",
       "      <td>164.262832</td>\n",
       "      <td>2</td>\n",
       "    </tr>\n",
       "    <tr>\n",
       "      <th>1</th>\n",
       "      <td>1</td>\n",
       "      <td>2857.0003,2830.5703,2759.9982,2772.5739,2755.0...</td>\n",
       "      <td>blue</td>\n",
       "      <td>3</td>\n",
       "      <td>2755.0029</td>\n",
       "      <td>2857.0003</td>\n",
       "      <td>2736.5771</td>\n",
       "      <td>2830.5703</td>\n",
       "      <td>93.9932</td>\n",
       "      <td>101.9974</td>\n",
       "      <td>Horizontal</td>\n",
       "      <td>149.359400</td>\n",
       "      <td>43.338584</td>\n",
       "      <td>155.376969</td>\n",
       "      <td>2</td>\n",
       "    </tr>\n",
       "    <tr>\n",
       "      <th>2</th>\n",
       "      <td>2</td>\n",
       "      <td>2612.9964,2824.5755,2708.7733,2805.8089</td>\n",
       "      <td>blue</td>\n",
       "      <td>3</td>\n",
       "      <td>2612.9964</td>\n",
       "      <td>2708.7733</td>\n",
       "      <td>2805.8089</td>\n",
       "      <td>2824.5755</td>\n",
       "      <td>18.7666</td>\n",
       "      <td>95.7769</td>\n",
       "      <td>Horizontal</td>\n",
       "      <td>97.598155</td>\n",
       "      <td>168.913872</td>\n",
       "      <td>152.000000</td>\n",
       "      <td>2</td>\n",
       "    </tr>\n",
       "    <tr>\n",
       "      <th>3</th>\n",
       "      <td>3</td>\n",
       "      <td>2655.0037,2794.5735,2613.9955,2756.5784</td>\n",
       "      <td>blue</td>\n",
       "      <td>3</td>\n",
       "      <td>2613.9955</td>\n",
       "      <td>2655.0037</td>\n",
       "      <td>2756.5784</td>\n",
       "      <td>2794.5735</td>\n",
       "      <td>37.9951</td>\n",
       "      <td>41.0082</td>\n",
       "      <td>Horizontal</td>\n",
       "      <td>55.904383</td>\n",
       "      <td>42.815860</td>\n",
       "      <td>160.000000</td>\n",
       "      <td>2</td>\n",
       "    </tr>\n",
       "    <tr>\n",
       "      <th>4</th>\n",
       "      <td>4</td>\n",
       "      <td>3004.443,2762.0149,3084.76,2774.2514,3121.4356...</td>\n",
       "      <td>blue</td>\n",
       "      <td>3</td>\n",
       "      <td>3004.4430</td>\n",
       "      <td>3121.4356</td>\n",
       "      <td>2762.0149</td>\n",
       "      <td>2778.0103</td>\n",
       "      <td>15.9954</td>\n",
       "      <td>116.9926</td>\n",
       "      <td>Horizontal</td>\n",
       "      <td>118.111506</td>\n",
       "      <td>7.785202</td>\n",
       "      <td>171.300731</td>\n",
       "      <td>2</td>\n",
       "    </tr>\n",
       "  </tbody>\n",
       "</table>\n",
       "</div>"
      ],
      "text/plain": [
       "   fracture_id                                           segments  \\\n",
       "0            0  2799.9979,2886.5779,2715.0032,2797.5709,2704.0...   \n",
       "1            1  2857.0003,2830.5703,2759.9982,2772.5739,2755.0...   \n",
       "2            2            2612.9964,2824.5755,2708.7733,2805.8089   \n",
       "3            3            2655.0037,2794.5735,2613.9955,2756.5784   \n",
       "4            4  3004.443,2762.0149,3084.76,2774.2514,3121.4356...   \n",
       "\n",
       "  segments_color  segments_width       Xmin       Xmax       Ymin       Ymax  \\\n",
       "0         yellow               3  2704.0042  2799.9979  2726.5764  2886.5779   \n",
       "1           blue               3  2755.0029  2857.0003  2736.5771  2830.5703   \n",
       "2           blue               3  2612.9964  2708.7733  2805.8089  2824.5755   \n",
       "3           blue               3  2613.9955  2655.0037  2756.5784  2794.5735   \n",
       "4           blue               3  3004.4430  3121.4356  2762.0149  2778.0103   \n",
       "\n",
       "   fracture_height  fracture_length fracture_direction  total_size  \\\n",
       "0         160.0015          95.9937           Vertical  194.911960   \n",
       "1          93.9932         101.9974         Horizontal  149.359400   \n",
       "2          18.7666          95.7769         Horizontal   97.598155   \n",
       "3          37.9951          41.0082         Horizontal   55.904383   \n",
       "4          15.9954         116.9926         Horizontal  118.111506   \n",
       "\n",
       "   w_average_angle_degree  w_average_brightness  kmeans_cluster_id  \n",
       "0               59.174355            164.262832                  2  \n",
       "1               43.338584            155.376969                  2  \n",
       "2              168.913872            152.000000                  2  \n",
       "3               42.815860            160.000000                  2  \n",
       "4                7.785202            171.300731                  2  "
      ]
     },
     "execution_count": 13,
     "metadata": {},
     "output_type": "execute_result"
    }
   ],
   "source": [
    "df_fractures.head()"
   ]
  },
  {
   "cell_type": "markdown",
   "metadata": {},
   "source": [
    "### Elbow Method"
   ]
  },
  {
   "cell_type": "code",
   "execution_count": 14,
   "metadata": {},
   "outputs": [],
   "source": [
    "kmax= 30\n",
    "\n",
    "wcss = []\n",
    "\n",
    "for n in range(1, kmax):\n",
    "    kmeans = KMeans(n_clusters=n, init = 'k-means++').fit(feature_vectors)    \n",
    "    wcss.append(kmeans.inertia_)"
   ]
  },
  {
   "cell_type": "code",
   "execution_count": 15,
   "metadata": {},
   "outputs": [
    {
     "data": {
      "image/png": "[encoded data removed]",
      "text/plain": [
       "<Figure size 576x432 with 1 Axes>"
      ]
     },
     "metadata": {
      "needs_background": "light"
     },
     "output_type": "display_data"
    }
   ],
   "source": [
    "# Show Elbow plot\n",
    "plt.figure(figsize=(8, 6))\n",
    "plt.plot(range(1, kmax), wcss, marker='o')\n",
    "plt.title('Elbow Method')\n",
    "plt.xlabel('Number of clusters')\n",
    "plt.ylabel('Within Cluster Sum of Squares (WCSS)')\n",
    "plt.show()"
   ]
  },
  {
   "cell_type": "markdown",
   "metadata": {},
   "source": [
    "### Silhouette Method"
   ]
  },
  {
   "cell_type": "code",
   "execution_count": 16,
   "metadata": {},
   "outputs": [],
   "source": [
    "kmax = 20\n",
    "\n",
    "sil = []\n",
    "\n",
    "for n in range(2, kmax):\n",
    "    kmeans = KMeans(n_clusters=n, random_state=0).fit(feature_vectors)\n",
    "    labels = kmeans.labels_\n",
    "    sil.append(silhouette_score(feature_vectors, labels, metric='euclidean'))"
   ]
  },
  {
   "cell_type": "code",
   "execution_count": 17,
   "metadata": {},
   "outputs": [
    {
     "data": {
      "image/png": "[encoded data removed]",
      "text/plain": [
       "<Figure size 576x432 with 1 Axes>"
      ]
     },
     "metadata": {
      "needs_background": "light"
     },
     "output_type": "display_data"
    }
   ],
   "source": [
    "# Show Silhouette plot\n",
    "plt.figure(figsize=(8, 6))\n",
    "plt.plot(range(2, kmax), sil)\n",
    "plt.title('Silhouette Method')\n",
    "plt.xlabel('Number of clusters')\n",
    "plt.ylabel('Silhouette Score')\n",
    "plt.show()"
   ]
  },
  {
   "cell_type": "markdown",
   "metadata": {},
   "source": [
    "<a id='4'></a>\n",
    "### Checking the cluster's metrics"
   ]
  },
  {
   "cell_type": "code",
   "execution_count": 18,
   "metadata": {},
   "outputs": [
    {
     "data": {
      "image/png": "[encoded data removed]",
      "text/plain": [
       "<Figure size 216x864 with 4 Axes>"
      ]
     },
     "metadata": {
      "needs_background": "light"
     },
     "output_type": "display_data"
    }
   ],
   "source": [
    "plt.figure(figsize=(3, 12))\n",
    "\n",
    "bar_colors=['lightcoral', 'wheat', 'yellowgreen', 'paleturquoise', 'plum']\n",
    "\n",
    "plt.subplot(4, 1, 1)\n",
    "ax1 = df_fractures.groupby('kmeans_cluster_id')['kmeans_cluster_id'].count().plot(kind='bar', color=bar_colors)\n",
    "ax1.set_title('K-means Clustering')\n",
    "ax1.set_xlabel(\"K-means cluster ID\")\n",
    "ax1.set_ylabel(\"Fracture Count\")\n",
    "\n",
    "plt.subplot(4, 1, 2)\n",
    "ax2 = df_fractures.groupby('kmeans_cluster_id')['w_average_brightness'].mean().plot(kind='bar', color=bar_colors)\n",
    "ax2.set_xlabel(\"K-means cluster ID\")\n",
    "ax2.set_ylabel(\"Average Brightness\")\n",
    "\n",
    "plt.subplot(4, 1, 3)\n",
    "ax3 = df_fractures.groupby('kmeans_cluster_id')['w_average_angle_degree'].mean().plot(kind='bar', color=bar_colors)\n",
    "ax3.set_xlabel(\"K-means cluster ID\")\n",
    "ax3.set_ylabel(\"Average Angle\")\n",
    "\n",
    "plt.subplot(4, 1, 4)\n",
    "ax4 = df_fractures.groupby('kmeans_cluster_id')['total_size'].mean().plot(kind='bar', color=bar_colors)\n",
    "ax4.set_xlabel(\"K-means cluster ID\")\n",
    "ax4.set_ylabel(\"Average Size\")\n",
    "\n",
    "plt.tight_layout()\n",
    "plt.show()"
   ]
  },
  {
   "cell_type": "code",
   "execution_count": 19,
   "metadata": {},
   "outputs": [
    {
     "name": "stderr",
     "output_type": "stream",
     "text": [
      "C:\\Users\\saram\\AppData\\Local\\Temp\\ipykernel_15852\\1356755334.py:1: FutureWarning: Indexing with multiple keys (implicitly converted to a tuple of keys) will be deprecated, use a list instead.\n",
      "  df_clusters_stats = df_fractures.groupby('kmeans_cluster_id')['w_average_brightness', 'w_average_angle_degree', 'total_size'].mean()\n"
     ]
    },
    {
     "data": {
      "text/html": [
       "<div>\n",
       "<style scoped>\n",
       "    .dataframe tbody tr th:only-of-type {\n",
       "        vertical-align: middle;\n",
       "    }\n",
       "\n",
       "    .dataframe tbody tr th {\n",
       "        vertical-align: top;\n",
       "    }\n",
       "\n",
       "    .dataframe thead th {\n",
       "        text-align: right;\n",
       "    }\n",
       "</style>\n",
       "<table border=\"1\" class=\"dataframe\">\n",
       "  <thead>\n",
       "    <tr style=\"text-align: right;\">\n",
       "      <th></th>\n",
       "      <th>w_average_brightness</th>\n",
       "      <th>w_average_angle_degree</th>\n",
       "      <th>total_size</th>\n",
       "      <th>count</th>\n",
       "    </tr>\n",
       "    <tr>\n",
       "      <th>kmeans_cluster_id</th>\n",
       "      <th></th>\n",
       "      <th></th>\n",
       "      <th></th>\n",
       "      <th></th>\n",
       "    </tr>\n",
       "  </thead>\n",
       "  <tbody>\n",
       "    <tr>\n",
       "      <th>0</th>\n",
       "      <td>218.793531</td>\n",
       "      <td>94.958523</td>\n",
       "      <td>50.952444</td>\n",
       "      <td>220</td>\n",
       "    </tr>\n",
       "    <tr>\n",
       "      <th>1</th>\n",
       "      <td>186.542754</td>\n",
       "      <td>94.369419</td>\n",
       "      <td>50.861746</td>\n",
       "      <td>526</td>\n",
       "    </tr>\n",
       "    <tr>\n",
       "      <th>2</th>\n",
       "      <td>156.033968</td>\n",
       "      <td>94.833773</td>\n",
       "      <td>65.865834</td>\n",
       "      <td>397</td>\n",
       "    </tr>\n",
       "    <tr>\n",
       "      <th>3</th>\n",
       "      <td>130.653325</td>\n",
       "      <td>96.340064</td>\n",
       "      <td>86.509164</td>\n",
       "      <td>386</td>\n",
       "    </tr>\n",
       "  </tbody>\n",
       "</table>\n",
       "</div>"
      ],
      "text/plain": [
       "                   w_average_brightness  w_average_angle_degree  total_size  \\\n",
       "kmeans_cluster_id                                                             \n",
       "0                            218.793531               94.958523   50.952444   \n",
       "1                            186.542754               94.369419   50.861746   \n",
       "2                            156.033968               94.833773   65.865834   \n",
       "3                            130.653325               96.340064   86.509164   \n",
       "\n",
       "                   count  \n",
       "kmeans_cluster_id         \n",
       "0                    220  \n",
       "1                    526  \n",
       "2                    397  \n",
       "3                    386  "
      ]
     },
     "execution_count": 19,
     "metadata": {},
     "output_type": "execute_result"
    }
   ],
   "source": [
    "df_clusters_stats = df_fractures.groupby('kmeans_cluster_id')['w_average_brightness', 'w_average_angle_degree', 'total_size'].mean()\n",
    "\n",
    "df_clusters_stats['count'] =  df_fractures.groupby('kmeans_cluster_id')['kmeans_cluster_id'].count().to_frame()\n",
    "\n",
    "df_clusters_stats"
   ]
  },
  {
   "cell_type": "code",
   "execution_count": null,
   "metadata": {},
   "outputs": [],
   "source": []
  }
 ],
 "metadata": {
  "kernelspec": {
   "display_name": "Python 3.9.12 ('base')",
   "language": "python",
   "name": "python3"
  },
  "language_info": {
   "codemirror_mode": {
    "name": "ipython",
    "version": 3
   },
   "file_extension": ".py",
   "mimetype": "text/x-python",
   "name": "python",
   "nbconvert_exporter": "python",
   "pygments_lexer": "ipython3",
   "version": "3.9.12"
  },
  "orig_nbformat": 4,
  "vscode": {
   "interpreter": {
    "hash": "ef70cde2d7a4c5f354efcdde45384ddb4bf187cd73ff85a7fdd1b636e19ca19d"
   }
  }
 },
 "nbformat": 4,
 "nbformat_minor": 2
}

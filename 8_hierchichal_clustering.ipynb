{
 "cells": [
  {
   "cell_type": "markdown",
   "metadata": {},
   "source": [
    "## 8 - Hierarchical Clustering\n",
    "## Table of Contents\n",
    "<ul>\n",
    "<li><a href=\"#1\">Extracting Feature Vectors</a></li>\n",
    "<li><a href=\"#2\">Distance Matrix</a></li>\n",
    "<li><a href=\"#3\">Implementing Hierarchical Clustering</a></li>\n",
    "<li><a href=\"#4\">Checking the cluster's metrics</a></li>\n",
    "</ul>"
   ]
  },
  {
   "cell_type": "code",
   "execution_count": 1,
   "metadata": {},
   "outputs": [],
   "source": [
    "import pandas as pd\n",
    "import matplotlib.pyplot as plt\n",
    "import cv2\n",
    "import numpy as np\n",
    "from scipy.spatial import distance\n",
    "from scipy.cluster.hierarchy import dendrogram, linkage, cut_tree"
   ]
  },
  {
   "cell_type": "code",
   "execution_count": 2,
   "metadata": {},
   "outputs": [
    {
     "data": {
      "text/html": [
       "<div>\n",
       "<style scoped>\n",
       "    .dataframe tbody tr th:only-of-type {\n",
       "        vertical-align: middle;\n",
       "    }\n",
       "\n",
       "    .dataframe tbody tr th {\n",
       "        vertical-align: top;\n",
       "    }\n",
       "\n",
       "    .dataframe thead th {\n",
       "        text-align: right;\n",
       "    }\n",
       "</style>\n",
       "<table border=\"1\" class=\"dataframe\">\n",
       "  <thead>\n",
       "    <tr style=\"text-align: right;\">\n",
       "      <th></th>\n",
       "      <th>fracture_id</th>\n",
       "      <th>segments</th>\n",
       "      <th>segments_color</th>\n",
       "      <th>segments_width</th>\n",
       "      <th>Xmin</th>\n",
       "      <th>Xmax</th>\n",
       "      <th>Ymin</th>\n",
       "      <th>Ymax</th>\n",
       "      <th>fracture_height</th>\n",
       "      <th>fracture_length</th>\n",
       "      <th>fracture_direction</th>\n",
       "      <th>total_size</th>\n",
       "      <th>w_average_angle_degree</th>\n",
       "      <th>w_average_brightness</th>\n",
       "    </tr>\n",
       "  </thead>\n",
       "  <tbody>\n",
       "    <tr>\n",
       "      <th>0</th>\n",
       "      <td>0</td>\n",
       "      <td>2799.9979,2886.5779,2715.0032,2797.5709,2704.0...</td>\n",
       "      <td>yellow</td>\n",
       "      <td>3</td>\n",
       "      <td>2704.0042</td>\n",
       "      <td>2799.9979</td>\n",
       "      <td>2726.5764</td>\n",
       "      <td>2886.5779</td>\n",
       "      <td>160.0015</td>\n",
       "      <td>95.9937</td>\n",
       "      <td>Vertical</td>\n",
       "      <td>194.911960</td>\n",
       "      <td>59.174355</td>\n",
       "      <td>164.262832</td>\n",
       "    </tr>\n",
       "    <tr>\n",
       "      <th>1</th>\n",
       "      <td>1</td>\n",
       "      <td>2857.0003,2830.5703,2759.9982,2772.5739,2755.0...</td>\n",
       "      <td>blue</td>\n",
       "      <td>3</td>\n",
       "      <td>2755.0029</td>\n",
       "      <td>2857.0003</td>\n",
       "      <td>2736.5771</td>\n",
       "      <td>2830.5703</td>\n",
       "      <td>93.9932</td>\n",
       "      <td>101.9974</td>\n",
       "      <td>Horizontal</td>\n",
       "      <td>149.359400</td>\n",
       "      <td>43.338584</td>\n",
       "      <td>155.376969</td>\n",
       "    </tr>\n",
       "    <tr>\n",
       "      <th>2</th>\n",
       "      <td>2</td>\n",
       "      <td>2612.9964,2824.5755,2708.7733,2805.8089</td>\n",
       "      <td>blue</td>\n",
       "      <td>3</td>\n",
       "      <td>2612.9964</td>\n",
       "      <td>2708.7733</td>\n",
       "      <td>2805.8089</td>\n",
       "      <td>2824.5755</td>\n",
       "      <td>18.7666</td>\n",
       "      <td>95.7769</td>\n",
       "      <td>Horizontal</td>\n",
       "      <td>97.598155</td>\n",
       "      <td>168.913872</td>\n",
       "      <td>152.000000</td>\n",
       "    </tr>\n",
       "    <tr>\n",
       "      <th>3</th>\n",
       "      <td>3</td>\n",
       "      <td>2655.0037,2794.5735,2613.9955,2756.5784</td>\n",
       "      <td>blue</td>\n",
       "      <td>3</td>\n",
       "      <td>2613.9955</td>\n",
       "      <td>2655.0037</td>\n",
       "      <td>2756.5784</td>\n",
       "      <td>2794.5735</td>\n",
       "      <td>37.9951</td>\n",
       "      <td>41.0082</td>\n",
       "      <td>Horizontal</td>\n",
       "      <td>55.904383</td>\n",
       "      <td>42.815860</td>\n",
       "      <td>160.000000</td>\n",
       "    </tr>\n",
       "    <tr>\n",
       "      <th>4</th>\n",
       "      <td>4</td>\n",
       "      <td>3004.443,2762.0149,3084.76,2774.2514,3121.4356...</td>\n",
       "      <td>blue</td>\n",
       "      <td>3</td>\n",
       "      <td>3004.4430</td>\n",
       "      <td>3121.4356</td>\n",
       "      <td>2762.0149</td>\n",
       "      <td>2778.0103</td>\n",
       "      <td>15.9954</td>\n",
       "      <td>116.9926</td>\n",
       "      <td>Horizontal</td>\n",
       "      <td>118.111506</td>\n",
       "      <td>7.785202</td>\n",
       "      <td>171.300731</td>\n",
       "    </tr>\n",
       "  </tbody>\n",
       "</table>\n",
       "</div>"
      ],
      "text/plain": [
       "   fracture_id                                           segments  \\\n",
       "0            0  2799.9979,2886.5779,2715.0032,2797.5709,2704.0...   \n",
       "1            1  2857.0003,2830.5703,2759.9982,2772.5739,2755.0...   \n",
       "2            2            2612.9964,2824.5755,2708.7733,2805.8089   \n",
       "3            3            2655.0037,2794.5735,2613.9955,2756.5784   \n",
       "4            4  3004.443,2762.0149,3084.76,2774.2514,3121.4356...   \n",
       "\n",
       "  segments_color  segments_width       Xmin       Xmax       Ymin       Ymax  \\\n",
       "0         yellow               3  2704.0042  2799.9979  2726.5764  2886.5779   \n",
       "1           blue               3  2755.0029  2857.0003  2736.5771  2830.5703   \n",
       "2           blue               3  2612.9964  2708.7733  2805.8089  2824.5755   \n",
       "3           blue               3  2613.9955  2655.0037  2756.5784  2794.5735   \n",
       "4           blue               3  3004.4430  3121.4356  2762.0149  2778.0103   \n",
       "\n",
       "   fracture_height  fracture_length fracture_direction  total_size  \\\n",
       "0         160.0015          95.9937           Vertical  194.911960   \n",
       "1          93.9932         101.9974         Horizontal  149.359400   \n",
       "2          18.7666          95.7769         Horizontal   97.598155   \n",
       "3          37.9951          41.0082         Horizontal   55.904383   \n",
       "4          15.9954         116.9926         Horizontal  118.111506   \n",
       "\n",
       "   w_average_angle_degree  w_average_brightness  \n",
       "0               59.174355            164.262832  \n",
       "1               43.338584            155.376969  \n",
       "2              168.913872            152.000000  \n",
       "3               42.815860            160.000000  \n",
       "4                7.785202            171.300731  "
      ]
     },
     "execution_count": 2,
     "metadata": {},
     "output_type": "execute_result"
    }
   ],
   "source": [
    "df_fractures = pd.read_csv(\"./output/df_fractures_4.csv\")\n",
    "\n",
    "df_fractures.head()"
   ]
  },
  {
   "cell_type": "code",
   "execution_count": 3,
   "metadata": {},
   "outputs": [],
   "source": [
    "# reading the image grayscale\n",
    "image = cv2.imread('Global_20190321_ShapeV20_200kfacets_FB3.png', cv2.IMREAD_GRAYSCALE)\n",
    "\n",
    "image = cv2.flip(image, 0)"
   ]
  },
  {
   "cell_type": "markdown",
   "metadata": {},
   "source": [
    "<a id='1'></a>\n",
    "### Extracting Histograms"
   ]
  },
  {
   "cell_type": "code",
   "execution_count": 4,
   "metadata": {},
   "outputs": [
    {
     "data": {
      "text/plain": [
       "22"
      ]
     },
     "execution_count": 4,
     "metadata": {},
     "output_type": "execute_result"
    }
   ],
   "source": [
    "# check number of fractures that their height or length are less than 1px\n",
    "# which needs manual fix while cropping\n",
    "# we will be padding extra pixels to the bounding box later, to extract enough pixels\n",
    "\n",
    "df_fractures.loc[(df_fractures['fracture_height'] < 1) | (df_fractures['fracture_length'] < 1)].shape[0]"
   ]
  },
  {
   "cell_type": "markdown",
   "metadata": {},
   "source": [
    "There are 22 fractures, we will add a condition to extend the bounding box by 5 pixels"
   ]
  },
  {
   "cell_type": "code",
   "execution_count": 5,
   "metadata": {},
   "outputs": [],
   "source": [
    "def crop_hist(index, plot=False):\n",
    "\n",
    "    Xmin, Xmax, Ymin, Ymax = int(df_fractures['Xmin'][index]), int(df_fractures['Xmax'][index]), int(\n",
    "        df_fractures['Ymin'][index]), int(df_fractures['Ymax'][index])\n",
    "\n",
    "    fracture_height = int(df_fractures['fracture_height'][index])\n",
    "    fracture_length = int(df_fractures['fracture_length'][index])\n",
    "\n",
    "    # Extending the frame 5 pixels if the fracture is completely horizontal or vertical\n",
    "    if fracture_height < 1:\n",
    "        Ymin = Ymin - 5\n",
    "        Ymax = Ymax + 5\n",
    "\n",
    "    if fracture_length < 1:\n",
    "        Xmin = Xmin - 5\n",
    "        Xmax = Xmax + 5\n",
    "\n",
    "    cropped_image = image[Ymin:Ymax, Xmin:Xmax]\n",
    "\n",
    "    number_of_bins = 10\n",
    "    hist_values = np.histogram(cropped_image.ravel(), number_of_bins, [\n",
    "                               0, 256], density=True)[0] # normalise histogram instead of using MinMaxScaling\n",
    "\n",
    "    if plot == True:\n",
    "\n",
    "        fig = plt.figure(figsize=(9, 3))\n",
    "\n",
    "        rows, columns = 1, 3\n",
    "\n",
    "        fig.add_subplot(rows, columns, 1)\n",
    "\n",
    "        plt.imshow(cropped_image, cmap=\"gray\")\n",
    "        plt.axis('off')\n",
    "        plt.title(\"Cropped Image\")\n",
    "\n",
    "        fig.add_subplot(rows, columns, 2)\n",
    "\n",
    "        plt.hist(cropped_image.ravel(), number_of_bins, [0, 256])\n",
    "        plt.title(\"Histogram\")\n",
    "\n",
    "        fig.add_subplot(rows, columns, 3)\n",
    "\n",
    "        plt.hist(cropped_image.ravel(), number_of_bins,\n",
    "                 [0, 256], density=True, color=\"black\")\n",
    "        plt.title(\"Normalised Histogram\")\n",
    "\n",
    "        fig.tight_layout()\n",
    "        plt.show()\n",
    "\n",
    "    return hist_values"
   ]
  },
  {
   "cell_type": "markdown",
   "metadata": {},
   "source": [
    "An example for extracting histogram where the image can't be cropped, because of the height or length pixel being non-existent, and extending the bounding box by 5 pixels to see the crack"
   ]
  },
  {
   "cell_type": "code",
   "execution_count": 6,
   "metadata": {},
   "outputs": [
    {
     "data": {
      "image/png": "[encoded data removed]",
      "text/plain": [
       "<Figure size 648x216 with 3 Axes>"
      ]
     },
     "metadata": {
      "needs_background": "light"
     },
     "output_type": "display_data"
    },
    {
     "data": {
      "text/plain": [
       "array([2.42439717e-03, 1.99033479e-03, 3.07860452e-03, 5.88817756e-03,\n",
       "       9.90403298e-03, 1.07519181e-02, 4.25686279e-03, 7.30806596e-04,\n",
       "       2.77127342e-05, 9.65275010e-06])"
      ]
     },
     "execution_count": 6,
     "metadata": {},
     "output_type": "execute_result"
    }
   ],
   "source": [
    "crop_hist(1357, plot = True)"
   ]
  },
  {
   "cell_type": "code",
   "execution_count": 7,
   "metadata": {},
   "outputs": [
    {
     "data": {
      "text/plain": [
       "1529"
      ]
     },
     "execution_count": 7,
     "metadata": {},
     "output_type": "execute_result"
    }
   ],
   "source": [
    "# number of fractures\n",
    "n = df_fractures.shape[0]\n",
    "n"
   ]
  },
  {
   "cell_type": "markdown",
   "metadata": {},
   "source": [
    "<a id='2'></a>\n",
    "### Distance Matrix\n"
   ]
  },
  {
   "cell_type": "code",
   "execution_count": 8,
   "metadata": {},
   "outputs": [],
   "source": [
    "# create the distance matrix\n",
    "distance_matrix = np.zeros((n, n))\n",
    "\n",
    "# Iterate over the dataframe find histogram values\n",
    "# compare each histogram to all histograms and fill in the distance matrix\n",
    "\n",
    "for i in range(n):\n",
    "\n",
    "    histogram_i = crop_hist(i)\n",
    "\n",
    "    # removing first two bins to filter the shadow\n",
    "    histogram_i = histogram_i[2:]\n",
    "\n",
    "    for k in range(i):\n",
    "        histogram_k = crop_hist(k)\n",
    "\n",
    "        # removing first two bins to filter the shadow\n",
    "        histogram_k = histogram_k[2:]\n",
    "\n",
    "        #distance_matrix[i, k] = cv2.compareHist(histogram_i, histogram_k, cv2.HISTCMP_CHISQR)\n",
    "        distance_matrix[i, k] = distance.jensenshannon(histogram_i, histogram_k)"
   ]
  },
  {
   "cell_type": "code",
   "execution_count": 9,
   "metadata": {},
   "outputs": [
    {
     "data": {
      "text/plain": [
       "array([[0.        , 0.        , 0.        , ..., 0.        , 0.        ,\n",
       "        0.        ],\n",
       "       [0.07072602, 0.        , 0.        , ..., 0.        , 0.        ,\n",
       "        0.        ],\n",
       "       [0.17741582, 0.20077625, 0.        , ..., 0.        , 0.        ,\n",
       "        0.        ],\n",
       "       ...,\n",
       "       [0.30937667, 0.32015417, 0.43604644, ..., 0.        , 0.        ,\n",
       "        0.        ],\n",
       "       [0.52789929, 0.53376127, 0.60018189, ..., 0.31920256, 0.        ,\n",
       "        0.        ],\n",
       "       [0.46107162, 0.48117889, 0.48768791, ..., 0.32488953, 0.26254135,\n",
       "        0.        ]])"
      ]
     },
     "execution_count": 9,
     "metadata": {},
     "output_type": "execute_result"
    }
   ],
   "source": [
    "distance_matrix"
   ]
  },
  {
   "cell_type": "code",
   "execution_count": 10,
   "metadata": {},
   "outputs": [],
   "source": [
    "# symmetrize the distance matrix\n",
    "distance_matrix = np.maximum(distance_matrix, distance_matrix.transpose())\n",
    "\n",
    "# convert the redundant n*n square matrix form into a condensed nC2 array\n",
    "cond_distance_matrix = distance.squareform(distance_matrix)"
   ]
  },
  {
   "cell_type": "code",
   "execution_count": 11,
   "metadata": {},
   "outputs": [
    {
     "data": {
      "text/plain": [
       "array([[0.        , 0.07072602, 0.17741582, ..., 0.30937667, 0.52789929,\n",
       "        0.46107162],\n",
       "       [0.07072602, 0.        , 0.20077625, ..., 0.32015417, 0.53376127,\n",
       "        0.48117889],\n",
       "       [0.17741582, 0.20077625, 0.        , ..., 0.43604644, 0.60018189,\n",
       "        0.48768791],\n",
       "       ...,\n",
       "       [0.30937667, 0.32015417, 0.43604644, ..., 0.        , 0.31920256,\n",
       "        0.32488953],\n",
       "       [0.52789929, 0.53376127, 0.60018189, ..., 0.31920256, 0.        ,\n",
       "        0.26254135],\n",
       "       [0.46107162, 0.48117889, 0.48768791, ..., 0.32488953, 0.26254135,\n",
       "        0.        ]])"
      ]
     },
     "execution_count": 11,
     "metadata": {},
     "output_type": "execute_result"
    }
   ],
   "source": [
    "distance_matrix"
   ]
  },
  {
   "cell_type": "code",
   "execution_count": 12,
   "metadata": {},
   "outputs": [
    {
     "data": {
      "text/plain": [
       "array([0.07072602, 0.17741582, 0.12562507, ..., 0.31920256, 0.32488953,\n",
       "       0.26254135])"
      ]
     },
     "execution_count": 12,
     "metadata": {},
     "output_type": "execute_result"
    }
   ],
   "source": [
    "cond_distance_matrix"
   ]
  },
  {
   "cell_type": "markdown",
   "metadata": {},
   "source": [
    "<a id='3'></a>\n",
    "### Implementing Hierarchical Clustering"
   ]
  },
  {
   "cell_type": "code",
   "execution_count": 13,
   "metadata": {},
   "outputs": [],
   "source": [
    "Z = linkage(cond_distance_matrix, method='ward')"
   ]
  },
  {
   "cell_type": "code",
   "execution_count": 14,
   "metadata": {},
   "outputs": [
    {
     "data": {
      "image/png": "[encoded data removed]",
      "text/plain": [
       "<Figure size 576x864 with 1 Axes>"
      ]
     },
     "metadata": {
      "needs_background": "light"
     },
     "output_type": "display_data"
    }
   ],
   "source": [
    "cut_tree_level = 4\n",
    "\n",
    "plt.figure(figsize=(8,12))\n",
    "\n",
    "dendrogram(Z, color_threshold=cut_tree_level, show_leaf_counts=True, orientation='right', no_labels=True)\n",
    "\n",
    "plt.axvline(x=cut_tree_level, c='k')\n",
    "\n",
    "plt.show()"
   ]
  },
  {
   "cell_type": "code",
   "execution_count": 15,
   "metadata": {},
   "outputs": [
    {
     "data": {
      "text/html": [
       "<div>\n",
       "<style scoped>\n",
       "    .dataframe tbody tr th:only-of-type {\n",
       "        vertical-align: middle;\n",
       "    }\n",
       "\n",
       "    .dataframe tbody tr th {\n",
       "        vertical-align: top;\n",
       "    }\n",
       "\n",
       "    .dataframe thead th {\n",
       "        text-align: right;\n",
       "    }\n",
       "</style>\n",
       "<table border=\"1\" class=\"dataframe\">\n",
       "  <thead>\n",
       "    <tr style=\"text-align: right;\">\n",
       "      <th></th>\n",
       "      <th>fracture_id</th>\n",
       "      <th>segments</th>\n",
       "      <th>segments_color</th>\n",
       "      <th>segments_width</th>\n",
       "      <th>Xmin</th>\n",
       "      <th>Xmax</th>\n",
       "      <th>Ymin</th>\n",
       "      <th>Ymax</th>\n",
       "      <th>fracture_height</th>\n",
       "      <th>fracture_length</th>\n",
       "      <th>fracture_direction</th>\n",
       "      <th>total_size</th>\n",
       "      <th>w_average_angle_degree</th>\n",
       "      <th>w_average_brightness</th>\n",
       "      <th>hc_cluster_id</th>\n",
       "    </tr>\n",
       "  </thead>\n",
       "  <tbody>\n",
       "    <tr>\n",
       "      <th>0</th>\n",
       "      <td>0</td>\n",
       "      <td>2799.9979,2886.5779,2715.0032,2797.5709,2704.0...</td>\n",
       "      <td>yellow</td>\n",
       "      <td>3</td>\n",
       "      <td>2704.0042</td>\n",
       "      <td>2799.9979</td>\n",
       "      <td>2726.5764</td>\n",
       "      <td>2886.5779</td>\n",
       "      <td>160.0015</td>\n",
       "      <td>95.9937</td>\n",
       "      <td>Vertical</td>\n",
       "      <td>194.911960</td>\n",
       "      <td>59.174355</td>\n",
       "      <td>164.262832</td>\n",
       "      <td>0</td>\n",
       "    </tr>\n",
       "    <tr>\n",
       "      <th>1</th>\n",
       "      <td>1</td>\n",
       "      <td>2857.0003,2830.5703,2759.9982,2772.5739,2755.0...</td>\n",
       "      <td>blue</td>\n",
       "      <td>3</td>\n",
       "      <td>2755.0029</td>\n",
       "      <td>2857.0003</td>\n",
       "      <td>2736.5771</td>\n",
       "      <td>2830.5703</td>\n",
       "      <td>93.9932</td>\n",
       "      <td>101.9974</td>\n",
       "      <td>Horizontal</td>\n",
       "      <td>149.359400</td>\n",
       "      <td>43.338584</td>\n",
       "      <td>155.376969</td>\n",
       "      <td>0</td>\n",
       "    </tr>\n",
       "    <tr>\n",
       "      <th>2</th>\n",
       "      <td>2</td>\n",
       "      <td>2612.9964,2824.5755,2708.7733,2805.8089</td>\n",
       "      <td>blue</td>\n",
       "      <td>3</td>\n",
       "      <td>2612.9964</td>\n",
       "      <td>2708.7733</td>\n",
       "      <td>2805.8089</td>\n",
       "      <td>2824.5755</td>\n",
       "      <td>18.7666</td>\n",
       "      <td>95.7769</td>\n",
       "      <td>Horizontal</td>\n",
       "      <td>97.598155</td>\n",
       "      <td>168.913872</td>\n",
       "      <td>152.000000</td>\n",
       "      <td>1</td>\n",
       "    </tr>\n",
       "    <tr>\n",
       "      <th>3</th>\n",
       "      <td>3</td>\n",
       "      <td>2655.0037,2794.5735,2613.9955,2756.5784</td>\n",
       "      <td>blue</td>\n",
       "      <td>3</td>\n",
       "      <td>2613.9955</td>\n",
       "      <td>2655.0037</td>\n",
       "      <td>2756.5784</td>\n",
       "      <td>2794.5735</td>\n",
       "      <td>37.9951</td>\n",
       "      <td>41.0082</td>\n",
       "      <td>Horizontal</td>\n",
       "      <td>55.904383</td>\n",
       "      <td>42.815860</td>\n",
       "      <td>160.000000</td>\n",
       "      <td>0</td>\n",
       "    </tr>\n",
       "    <tr>\n",
       "      <th>4</th>\n",
       "      <td>4</td>\n",
       "      <td>3004.443,2762.0149,3084.76,2774.2514,3121.4356...</td>\n",
       "      <td>blue</td>\n",
       "      <td>3</td>\n",
       "      <td>3004.4430</td>\n",
       "      <td>3121.4356</td>\n",
       "      <td>2762.0149</td>\n",
       "      <td>2778.0103</td>\n",
       "      <td>15.9954</td>\n",
       "      <td>116.9926</td>\n",
       "      <td>Horizontal</td>\n",
       "      <td>118.111506</td>\n",
       "      <td>7.785202</td>\n",
       "      <td>171.300731</td>\n",
       "      <td>0</td>\n",
       "    </tr>\n",
       "  </tbody>\n",
       "</table>\n",
       "</div>"
      ],
      "text/plain": [
       "   fracture_id                                           segments  \\\n",
       "0            0  2799.9979,2886.5779,2715.0032,2797.5709,2704.0...   \n",
       "1            1  2857.0003,2830.5703,2759.9982,2772.5739,2755.0...   \n",
       "2            2            2612.9964,2824.5755,2708.7733,2805.8089   \n",
       "3            3            2655.0037,2794.5735,2613.9955,2756.5784   \n",
       "4            4  3004.443,2762.0149,3084.76,2774.2514,3121.4356...   \n",
       "\n",
       "  segments_color  segments_width       Xmin       Xmax       Ymin       Ymax  \\\n",
       "0         yellow               3  2704.0042  2799.9979  2726.5764  2886.5779   \n",
       "1           blue               3  2755.0029  2857.0003  2736.5771  2830.5703   \n",
       "2           blue               3  2612.9964  2708.7733  2805.8089  2824.5755   \n",
       "3           blue               3  2613.9955  2655.0037  2756.5784  2794.5735   \n",
       "4           blue               3  3004.4430  3121.4356  2762.0149  2778.0103   \n",
       "\n",
       "   fracture_height  fracture_length fracture_direction  total_size  \\\n",
       "0         160.0015          95.9937           Vertical  194.911960   \n",
       "1          93.9932         101.9974         Horizontal  149.359400   \n",
       "2          18.7666          95.7769         Horizontal   97.598155   \n",
       "3          37.9951          41.0082         Horizontal   55.904383   \n",
       "4          15.9954         116.9926         Horizontal  118.111506   \n",
       "\n",
       "   w_average_angle_degree  w_average_brightness  hc_cluster_id  \n",
       "0               59.174355            164.262832              0  \n",
       "1               43.338584            155.376969              0  \n",
       "2              168.913872            152.000000              1  \n",
       "3               42.815860            160.000000              0  \n",
       "4                7.785202            171.300731              0  "
      ]
     },
     "execution_count": 15,
     "metadata": {},
     "output_type": "execute_result"
    }
   ],
   "source": [
    "# cut the dendrogram\n",
    "labels = cut_tree(Z, height = cut_tree_level)\n",
    "\n",
    "# assign the labels (the id of the cluster) to the dataframe as a new column\n",
    "df_fractures['hc_cluster_id'] = labels\n",
    "\n",
    "df_fractures.head()"
   ]
  },
  {
   "cell_type": "code",
   "execution_count": 16,
   "metadata": {},
   "outputs": [
    {
     "data": {
      "text/html": [
       "<div>\n",
       "<style scoped>\n",
       "    .dataframe tbody tr th:only-of-type {\n",
       "        vertical-align: middle;\n",
       "    }\n",
       "\n",
       "    .dataframe tbody tr th {\n",
       "        vertical-align: top;\n",
       "    }\n",
       "\n",
       "    .dataframe thead th {\n",
       "        text-align: right;\n",
       "    }\n",
       "</style>\n",
       "<table border=\"1\" class=\"dataframe\">\n",
       "  <thead>\n",
       "    <tr style=\"text-align: right;\">\n",
       "      <th></th>\n",
       "      <th>fracture_id</th>\n",
       "      <th>segments</th>\n",
       "      <th>segments_color</th>\n",
       "      <th>segments_width</th>\n",
       "      <th>Xmin</th>\n",
       "      <th>Xmax</th>\n",
       "      <th>Ymin</th>\n",
       "      <th>Ymax</th>\n",
       "      <th>fracture_height</th>\n",
       "      <th>fracture_length</th>\n",
       "      <th>fracture_direction</th>\n",
       "      <th>total_size</th>\n",
       "      <th>w_average_angle_degree</th>\n",
       "      <th>w_average_brightness</th>\n",
       "      <th>hc_cluster_id</th>\n",
       "    </tr>\n",
       "  </thead>\n",
       "  <tbody>\n",
       "    <tr>\n",
       "      <th>0</th>\n",
       "      <td>0</td>\n",
       "      <td>2799.9979,2886.5779,2715.0032,2797.5709,2704.0...</td>\n",
       "      <td>red</td>\n",
       "      <td>3</td>\n",
       "      <td>2704.0042</td>\n",
       "      <td>2799.9979</td>\n",
       "      <td>2726.5764</td>\n",
       "      <td>2886.5779</td>\n",
       "      <td>160.0015</td>\n",
       "      <td>95.9937</td>\n",
       "      <td>Vertical</td>\n",
       "      <td>194.911960</td>\n",
       "      <td>59.174355</td>\n",
       "      <td>164.262832</td>\n",
       "      <td>0</td>\n",
       "    </tr>\n",
       "    <tr>\n",
       "      <th>1</th>\n",
       "      <td>1</td>\n",
       "      <td>2857.0003,2830.5703,2759.9982,2772.5739,2755.0...</td>\n",
       "      <td>red</td>\n",
       "      <td>3</td>\n",
       "      <td>2755.0029</td>\n",
       "      <td>2857.0003</td>\n",
       "      <td>2736.5771</td>\n",
       "      <td>2830.5703</td>\n",
       "      <td>93.9932</td>\n",
       "      <td>101.9974</td>\n",
       "      <td>Horizontal</td>\n",
       "      <td>149.359400</td>\n",
       "      <td>43.338584</td>\n",
       "      <td>155.376969</td>\n",
       "      <td>0</td>\n",
       "    </tr>\n",
       "    <tr>\n",
       "      <th>2</th>\n",
       "      <td>2</td>\n",
       "      <td>2612.9964,2824.5755,2708.7733,2805.8089</td>\n",
       "      <td>green</td>\n",
       "      <td>3</td>\n",
       "      <td>2612.9964</td>\n",
       "      <td>2708.7733</td>\n",
       "      <td>2805.8089</td>\n",
       "      <td>2824.5755</td>\n",
       "      <td>18.7666</td>\n",
       "      <td>95.7769</td>\n",
       "      <td>Horizontal</td>\n",
       "      <td>97.598155</td>\n",
       "      <td>168.913872</td>\n",
       "      <td>152.000000</td>\n",
       "      <td>1</td>\n",
       "    </tr>\n",
       "    <tr>\n",
       "      <th>3</th>\n",
       "      <td>3</td>\n",
       "      <td>2655.0037,2794.5735,2613.9955,2756.5784</td>\n",
       "      <td>red</td>\n",
       "      <td>3</td>\n",
       "      <td>2613.9955</td>\n",
       "      <td>2655.0037</td>\n",
       "      <td>2756.5784</td>\n",
       "      <td>2794.5735</td>\n",
       "      <td>37.9951</td>\n",
       "      <td>41.0082</td>\n",
       "      <td>Horizontal</td>\n",
       "      <td>55.904383</td>\n",
       "      <td>42.815860</td>\n",
       "      <td>160.000000</td>\n",
       "      <td>0</td>\n",
       "    </tr>\n",
       "    <tr>\n",
       "      <th>4</th>\n",
       "      <td>4</td>\n",
       "      <td>3004.443,2762.0149,3084.76,2774.2514,3121.4356...</td>\n",
       "      <td>red</td>\n",
       "      <td>3</td>\n",
       "      <td>3004.4430</td>\n",
       "      <td>3121.4356</td>\n",
       "      <td>2762.0149</td>\n",
       "      <td>2778.0103</td>\n",
       "      <td>15.9954</td>\n",
       "      <td>116.9926</td>\n",
       "      <td>Horizontal</td>\n",
       "      <td>118.111506</td>\n",
       "      <td>7.785202</td>\n",
       "      <td>171.300731</td>\n",
       "      <td>0</td>\n",
       "    </tr>\n",
       "  </tbody>\n",
       "</table>\n",
       "</div>"
      ],
      "text/plain": [
       "   fracture_id                                           segments  \\\n",
       "0            0  2799.9979,2886.5779,2715.0032,2797.5709,2704.0...   \n",
       "1            1  2857.0003,2830.5703,2759.9982,2772.5739,2755.0...   \n",
       "2            2            2612.9964,2824.5755,2708.7733,2805.8089   \n",
       "3            3            2655.0037,2794.5735,2613.9955,2756.5784   \n",
       "4            4  3004.443,2762.0149,3084.76,2774.2514,3121.4356...   \n",
       "\n",
       "  segments_color  segments_width       Xmin       Xmax       Ymin       Ymax  \\\n",
       "0            red               3  2704.0042  2799.9979  2726.5764  2886.5779   \n",
       "1            red               3  2755.0029  2857.0003  2736.5771  2830.5703   \n",
       "2          green               3  2612.9964  2708.7733  2805.8089  2824.5755   \n",
       "3            red               3  2613.9955  2655.0037  2756.5784  2794.5735   \n",
       "4            red               3  3004.4430  3121.4356  2762.0149  2778.0103   \n",
       "\n",
       "   fracture_height  fracture_length fracture_direction  total_size  \\\n",
       "0         160.0015          95.9937           Vertical  194.911960   \n",
       "1          93.9932         101.9974         Horizontal  149.359400   \n",
       "2          18.7666          95.7769         Horizontal   97.598155   \n",
       "3          37.9951          41.0082         Horizontal   55.904383   \n",
       "4          15.9954         116.9926         Horizontal  118.111506   \n",
       "\n",
       "   w_average_angle_degree  w_average_brightness  hc_cluster_id  \n",
       "0               59.174355            164.262832              0  \n",
       "1               43.338584            155.376969              0  \n",
       "2              168.913872            152.000000              1  \n",
       "3               42.815860            160.000000              0  \n",
       "4                7.785202            171.300731              0  "
      ]
     },
     "execution_count": 16,
     "metadata": {},
     "output_type": "execute_result"
    }
   ],
   "source": [
    "df_fractures.loc[df_fractures.hc_cluster_id == 0, \"segments_color\"] = \"red\"\n",
    "df_fractures.loc[df_fractures.hc_cluster_id == 1, \"segments_color\"] = \"green\"\n",
    "df_fractures.loc[df_fractures.hc_cluster_id == 2, \"segments_color\"] = \"blue\"\n",
    "df_fractures.loc[df_fractures.hc_cluster_id == 3, \"segments_color\"] = \"yellow\"\n",
    "\n",
    "df_fractures.head()"
   ]
  },
  {
   "cell_type": "code",
   "execution_count": 17,
   "metadata": {},
   "outputs": [
    {
     "data": {
      "text/plain": [
       "True"
      ]
     },
     "execution_count": 17,
     "metadata": {},
     "output_type": "execute_result"
    }
   ],
   "source": [
    "# reading the image\n",
    "image = cv2.imread('Global_20190321_ShapeV20_200kfacets_FB3.png')\n",
    "image = cv2.flip(image, 0)\n",
    "\n",
    "# draw lines\n",
    "for index, row in df_fractures.iterrows():\n",
    "\n",
    "    # Read segment attribute from the df\n",
    "    s_segments = row['segments']\n",
    "\n",
    "    # Converting the string to list\n",
    "    l_segments = s_segments.split(\",\")\n",
    "\n",
    "    # Extract each line's coordinates, color and draw on the image\n",
    "    for x in range(0, (len(l_segments) - 3), 2):\n",
    "\n",
    "        X1, Y1, X2, Y2 = int(float(l_segments[x])), int(\n",
    "            float(l_segments[x+1])), int(float(l_segments[x+2])), int(float(l_segments[x+3]))\n",
    "\n",
    "        start_point = (X1, Y1)\n",
    "        end_point = (X2, Y2)\n",
    "\n",
    "        if row['segments_color'] == 'red':\n",
    "            # Red color in BGR\n",
    "            color = (0, 0, 255)\n",
    "        elif row['segments_color'] == 'green':\n",
    "            # Green color in BGR\n",
    "            color = (0, 255, 0)\n",
    "        elif row['segments_color'] == 'blue':\n",
    "            # Blue color in BGR\n",
    "            color = (255, 0, 0)\n",
    "        elif row['segments_color'] == 'yellow':\n",
    "            # Yellow color in BGR\n",
    "            color = (0, 255, 255)\n",
    "        else:\n",
    "            # White color in BGR\n",
    "            color = (255, 255, 255)\n",
    "\n",
    "        # Line thickness\n",
    "        thickness = 3\n",
    "\n",
    "        image = cv2.line(image, start_point, end_point, color, thickness)\n",
    "\n",
    "# flip the image again and write image in a new jpg file\n",
    "image = cv2.flip(image, 0)\n",
    "cv2.imwrite('./output/bennu_hc_clusters.jpg', image)"
   ]
  },
  {
   "cell_type": "markdown",
   "metadata": {},
   "source": [
    "<a id='4'></a>\n",
    "### Checking the cluster's metrics"
   ]
  },
  {
   "cell_type": "code",
   "execution_count": 18,
   "metadata": {},
   "outputs": [
    {
     "data": {
      "image/png": "[encoded data removed]",
      "text/plain": [
       "<Figure size 216x864 with 4 Axes>"
      ]
     },
     "metadata": {
      "needs_background": "light"
     },
     "output_type": "display_data"
    }
   ],
   "source": [
    "plt.figure(figsize=(3, 12))\n",
    "\n",
    "order = [3, 2, 0, 1]\n",
    "\n",
    "new_cluster_ids = [1, 2, 3, 4]\n",
    "\n",
    "bar_colors=['lightcoral', 'wheat', 'yellowgreen', 'paleturquoise', 'plum']\n",
    "\n",
    "plt.subplot(4, 1, 1)\n",
    "ax1 = df_fractures.groupby('hc_cluster_id')['hc_cluster_id'].count().loc[order].plot(kind='bar', color=bar_colors)\n",
    "ax1.set_title('Hierarchical Clustering')\n",
    "ax1.set_xlabel(\"HC cluster ID\")\n",
    "ax1.set_ylabel(\"Fracture Count\")\n",
    "# renmae cluster IDs\n",
    "ax1.set_xticklabels(new_cluster_ids, rotation = 0)\n",
    "\n",
    "plt.subplot(4, 1, 2)\n",
    "ax2 = df_fractures.groupby('hc_cluster_id')['w_average_brightness'].mean().loc[order].plot(kind='bar', color=bar_colors)\n",
    "ax2.set_xlabel(\"HC cluster ID\")\n",
    "ax2.set_ylabel(\"Average Brightness\")\n",
    "# renmae cluster IDs\n",
    "ax2.set_xticklabels(new_cluster_ids, rotation = 0)\n",
    "\n",
    "plt.subplot(4, 1, 3)\n",
    "ax3 = df_fractures.groupby('hc_cluster_id')['w_average_angle_degree'].mean().loc[order].plot(kind='bar', color=bar_colors)\n",
    "ax3.set_xlabel(\"HC cluster ID\")\n",
    "ax3.set_ylabel(\"Average Angle\")\n",
    "# renmae cluster IDs\n",
    "ax3.set_xticklabels(new_cluster_ids, rotation = 0)\n",
    "\n",
    "plt.subplot(4, 1, 4)\n",
    "ax4 = df_fractures.groupby('hc_cluster_id')['total_size'].mean().loc[order].plot(kind='bar', color=bar_colors)\n",
    "ax4.set_xlabel(\"HC cluster ID\")\n",
    "ax4.set_ylabel(\"Average Size\")\n",
    "# renmae cluster IDs\n",
    "ax4.set_xticklabels(new_cluster_ids, rotation = 0)\n",
    "\n",
    "plt.tight_layout()\n",
    "plt.show()"
   ]
  },
  {
   "cell_type": "code",
   "execution_count": 19,
   "metadata": {},
   "outputs": [
    {
     "name": "stderr",
     "output_type": "stream",
     "text": [
      "C:\\Users\\saram\\AppData\\Local\\Temp\\ipykernel_5720\\1546538745.py:1: FutureWarning: Indexing with multiple keys (implicitly converted to a tuple of keys) will be deprecated, use a list instead.\n",
      "  df_clusters_stats = df_fractures.groupby('hc_cluster_id')[\n"
     ]
    },
    {
     "data": {
      "text/html": [
       "<div>\n",
       "<style scoped>\n",
       "    .dataframe tbody tr th:only-of-type {\n",
       "        vertical-align: middle;\n",
       "    }\n",
       "\n",
       "    .dataframe tbody tr th {\n",
       "        vertical-align: top;\n",
       "    }\n",
       "\n",
       "    .dataframe thead th {\n",
       "        text-align: right;\n",
       "    }\n",
       "</style>\n",
       "<table border=\"1\" class=\"dataframe\">\n",
       "  <thead>\n",
       "    <tr style=\"text-align: right;\">\n",
       "      <th></th>\n",
       "      <th>w_average_brightness</th>\n",
       "      <th>w_average_angle_degree</th>\n",
       "      <th>total_size</th>\n",
       "      <th>count</th>\n",
       "    </tr>\n",
       "  </thead>\n",
       "  <tbody>\n",
       "    <tr>\n",
       "      <th>1</th>\n",
       "      <td>217.886470</td>\n",
       "      <td>95.678806</td>\n",
       "      <td>50.824412</td>\n",
       "      <td>225</td>\n",
       "    </tr>\n",
       "    <tr>\n",
       "      <th>2</th>\n",
       "      <td>188.911016</td>\n",
       "      <td>92.863573</td>\n",
       "      <td>50.997154</td>\n",
       "      <td>454</td>\n",
       "    </tr>\n",
       "    <tr>\n",
       "      <th>3</th>\n",
       "      <td>162.085565</td>\n",
       "      <td>96.659599</td>\n",
       "      <td>61.227925</td>\n",
       "      <td>378</td>\n",
       "    </tr>\n",
       "    <tr>\n",
       "      <th>4</th>\n",
       "      <td>132.574859</td>\n",
       "      <td>95.636314</td>\n",
       "      <td>84.262147</td>\n",
       "      <td>472</td>\n",
       "    </tr>\n",
       "  </tbody>\n",
       "</table>\n",
       "</div>"
      ],
      "text/plain": [
       "   w_average_brightness  w_average_angle_degree  total_size  count\n",
       "1            217.886470               95.678806   50.824412    225\n",
       "2            188.911016               92.863573   50.997154    454\n",
       "3            162.085565               96.659599   61.227925    378\n",
       "4            132.574859               95.636314   84.262147    472"
      ]
     },
     "execution_count": 19,
     "metadata": {},
     "output_type": "execute_result"
    }
   ],
   "source": [
    "df_clusters_stats = df_fractures.groupby('hc_cluster_id')[\n",
    "    'w_average_brightness', 'w_average_angle_degree', 'total_size'].mean().loc[order]\n",
    "\n",
    "df_clusters_stats['count'] = df_fractures.groupby(\n",
    "    'hc_cluster_id')['hc_cluster_id'].count().loc[order]\n",
    "\n",
    "# rename cluster IDs\n",
    "df_clusters_stats.index = new_cluster_ids\n",
    "\n",
    "df_clusters_stats\n"
   ]
  }
 ],
 "metadata": {
  "kernelspec": {
   "display_name": "Python 3.9.12 ('base')",
   "language": "python",
   "name": "python3"
  },
  "language_info": {
   "codemirror_mode": {
    "name": "ipython",
    "version": 3
   },
   "file_extension": ".py",
   "mimetype": "text/x-python",
   "name": "python",
   "nbconvert_exporter": "python",
   "pygments_lexer": "ipython3",
   "version": "3.9.12"
  },
  "orig_nbformat": 4,
  "vscode": {
   "interpreter": {
    "hash": "ef70cde2d7a4c5f354efcdde45384ddb4bf187cd73ff85a7fdd1b636e19ca19d"
   }
  }
 },
 "nbformat": 4,
 "nbformat_minor": 2
}
